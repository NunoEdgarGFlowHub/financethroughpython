{
 "cells": [
  {
   "cell_type": "markdown",
   "metadata": {},
   "source": [
    "# Time Value of Money"
   ]
  },
  {
   "cell_type": "markdown",
   "metadata": {},
   "source": [
    "## Introduction\n",
    "This notebook explores one of the most foundational topics in finance - time value of money."
   ]
  },
  {
   "cell_type": "code",
   "execution_count": 26,
   "metadata": {},
   "outputs": [],
   "source": [
    "# Loading of different packages necessary for the analysis in this notebook.\n",
    "import matplotlib.pyplot as plt\n",
    "%matplotlib inline\n",
    "from prettytable import PrettyTable"
   ]
  },
  {
   "cell_type": "markdown",
   "metadata": {},
   "source": [
    "## Future Value"
   ]
  },
  {
   "cell_type": "code",
   "execution_count": 27,
   "metadata": {},
   "outputs": [
    {
     "name": "stdout",
     "output_type": "stream",
     "text": [
      "171.033935812\n"
     ]
    }
   ],
   "source": [
    "present_value = float(100)\n",
    "interest_rate = float(5) # (Assuming %)\n",
    "no_of_periods = float(10)+1\n",
    "future_value = present_value*(1+interest_rate/100)**no_of_periods\n",
    "print future_value"
   ]
  },
  {
   "cell_type": "code",
   "execution_count": 28,
   "metadata": {},
   "outputs": [],
   "source": [
    "table_by_row = PrettyTable()\n",
    "columns = range(int(no_of_periods))\n",
    "table_by_row.field_names = columns\n",
    "rowtoadd = [round(present_value*(1+interest_rate/100)**x,2) for x in columns]\n",
    "table_by_row.add_row(rowtoadd)"
   ]
  },
  {
   "cell_type": "code",
   "execution_count": 29,
   "metadata": {},
   "outputs": [
    {
     "name": "stdout",
     "output_type": "stream",
     "text": [
      "+-------+-------+--------+--------+--------+--------+--------+--------+--------+--------+--------+\n",
      "|   0   |   1   |   2    |   3    |   4    |   5    |   6    |   7    |   8    |   9    |   10   |\n",
      "+-------+-------+--------+--------+--------+--------+--------+--------+--------+--------+--------+\n",
      "| 100.0 | 105.0 | 110.25 | 115.76 | 121.55 | 127.63 | 134.01 | 140.71 | 147.75 | 155.13 | 162.89 |\n",
      "+-------+-------+--------+--------+--------+--------+--------+--------+--------+--------+--------+\n"
     ]
    }
   ],
   "source": [
    "print table_by_row"
   ]
  },
  {
   "cell_type": "markdown",
   "metadata": {},
   "source": [
    "Although this does the job for 10 periods, for longer periods the data will be displayed incorrectly."
   ]
  },
  {
   "cell_type": "code",
   "execution_count": 46,
   "metadata": {},
   "outputs": [
    {
     "name": "stdout",
     "output_type": "stream",
     "text": [
      "+-------------+---------------+--------------------+--------------+\n",
      "| Time Period | Present Value | Compounding Factor | Future Value |\n",
      "+-------------+---------------+--------------------+--------------+\n",
      "|      0      |      100      |        1.0         |    100.0     |\n",
      "|      1      |      100      |        1.05        |    105.0     |\n",
      "|      2      |      100      |       1.103        |    110.25    |\n",
      "|      3      |      100      |       1.158        |    115.76    |\n",
      "|      4      |      100      |       1.216        |    121.55    |\n",
      "|      5      |      100      |       1.276        |    127.63    |\n",
      "|      6      |      100      |        1.34        |    134.01    |\n",
      "|      7      |      100      |       1.407        |    140.71    |\n",
      "|      8      |      100      |       1.477        |    147.75    |\n",
      "|      9      |      100      |       1.551        |    155.13    |\n",
      "|      10     |      100      |       1.629        |    162.89    |\n",
      "+-------------+---------------+--------------------+--------------+\n"
     ]
    }
   ],
   "source": [
    "table_by_column = PrettyTable()\n",
    "table_by_column.align = \"c\"\n",
    "table_by_column.add_column(\"Time Period\", columns)\n",
    "table_by_column.add_column(\"Present Value\", [100 for x in columns])\n",
    "table_by_column.add_column(\"Compounding Factor\", [round((1+interest_rate/100)**x,3) for x in columns])\n",
    "table_by_column.add_column(\"Future Value\", rowtoadd)\n",
    "print table_by_column"
   ]
  },
  {
   "cell_type": "code",
   "execution_count": 44,
   "metadata": {},
   "outputs": [
    {
     "data": {
      "text/plain": [
       "<Container object of 11 artists>"
      ]
     },
     "execution_count": 44,
     "metadata": {},
     "output_type": "execute_result"
    },
    {
     "data": {
      "image/png": "[encoded data removed]",
      "text/plain": [
       "<matplotlib.figure.Figure at 0x1061cb490>"
      ]
     },
     "metadata": {},
     "output_type": "display_data"
    }
   ],
   "source": [
    "plt.bar(columns,rowtoadd)\n",
    "# Further modifications can be added to the plot to make it look nicer"
   ]
  },
  {
   "cell_type": "markdown",
   "metadata": {},
   "source": [
    "## Present Value"
   ]
  },
  {
   "cell_type": "markdown",
   "metadata": {},
   "source": [
    "Calculating Present Value is very similar to the Future Value calculation. Instead, the Future Value is divided by the discount factor."
   ]
  },
  {
   "cell_type": "code",
   "execution_count": 72,
   "metadata": {},
   "outputs": [
    {
     "name": "stdout",
     "output_type": "stream",
     "text": [
      "148.643628024\n"
     ]
    }
   ],
   "source": [
    "new_future_value = float(1000)\n",
    "interest_rate_from_fv = float(10) # (Assuming %)\n",
    "no_of_periods_from_fv = float(20)\n",
    "present_value_from_fv = new_future_value/(1+interest_rate_from_fv/100)**no_of_periods_from_fv\n",
    "print present_value_from_fv"
   ]
  },
  {
   "cell_type": "code",
   "execution_count": 73,
   "metadata": {},
   "outputs": [
    {
     "name": "stdout",
     "output_type": "stream",
     "text": [
      "+-------------+--------------+-----------------+---------------+\n",
      "| Time Period | Future Value | Discount Factor | Present Value |\n",
      "+-------------+--------------+-----------------+---------------+\n",
      "|      20     |    1000.0    |      0.149      |    148.644    |\n",
      "|      19     |   909.091    |      0.164      |    148.644    |\n",
      "|      18     |   826.446    |       0.18      |    148.644    |\n",
      "|      17     |   751.315    |      0.198      |    148.644    |\n",
      "|      16     |   683.013    |      0.218      |    148.644    |\n",
      "|      15     |   620.921    |      0.239      |    148.644    |\n",
      "|      14     |   564.474    |      0.263      |    148.644    |\n",
      "|      13     |   513.158    |       0.29      |    148.644    |\n",
      "|      12     |   466.507    |      0.319      |    148.644    |\n",
      "|      11     |   424.098    |       0.35      |    148.644    |\n",
      "|      10     |   385.543    |      0.386      |    148.644    |\n",
      "|      9      |   350.494    |      0.424      |    148.644    |\n",
      "|      8      |   318.631    |      0.467      |    148.644    |\n",
      "|      7      |   289.664    |      0.513      |    148.644    |\n",
      "|      6      |   263.331    |      0.564      |    148.644    |\n",
      "|      5      |   239.392    |      0.621      |    148.644    |\n",
      "|      4      |   217.629    |      0.683      |    148.644    |\n",
      "|      3      |   197.845    |      0.751      |    148.644    |\n",
      "|      2      |   179.859    |      0.826      |    148.644    |\n",
      "|      1      |   163.508    |      0.909      |    148.644    |\n",
      "|      0      |   148.644    |       1.0       |    148.644    |\n",
      "+-------------+--------------+-----------------+---------------+\n"
     ]
    }
   ],
   "source": [
    "columns_from_fv = range(int(no_of_periods_from_fv)+1)[::-1]\n",
    "\n",
    "table_from_fv = PrettyTable()\n",
    "table_from_fv.align = \"c\"\n",
    "table_from_fv.add_column(\"Time Period\", columns_from_fv)\n",
    "table_from_fv.add_column(\"Future Value\", [round(present_value_from_fv*(1+interest_rate/100)**x,3) for x in columns_from_fv])\n",
    "table_from_fv.add_column(\"Discount Factor\", [round(1/(1+interest_rate/100)**x,3) for x in columns_from_fv])\n",
    "table_from_fv.add_column(\"Present Value\", [round(present_value_from_fv,3) for x in columns_from_fv])\n",
    "print table_from_fv"
   ]
  },
  {
   "cell_type": "markdown",
   "metadata": {},
   "source": [
    "Similar table as before, but now the present value is calculated with a countdown from the furthest period to the current time."
   ]
  },
  {
   "cell_type": "markdown",
   "metadata": {},
   "source": [
    "## Time Value of Money with Cash Flows "
   ]
  },
  {
   "cell_type": "code",
   "execution_count": null,
   "metadata": {},
   "outputs": [],
   "source": []
  }
 ],
 "metadata": {
  "kernelspec": {
   "display_name": "Python 2",
   "language": "python",
   "name": "python2"
  },
  "language_info": {
   "codemirror_mode": {
    "name": "ipython",
    "version": 2
   },
   "file_extension": ".py",
   "mimetype": "text/x-python",
   "name": "python",
   "nbconvert_exporter": "python",
   "pygments_lexer": "ipython2",
   "version": "2.7.11"
  }
 },
 "nbformat": 4,
 "nbformat_minor": 2
}
