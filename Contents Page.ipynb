{
 "cells": [
  {
   "cell_type": "markdown",
   "metadata": {},
   "source": [
    "## Contents Page"
   ]
  },
  {
   "cell_type": "markdown",
   "metadata": {},
   "source": [
    "### Short Introduction"
   ]
  },
  {
   "cell_type": "markdown",
   "metadata": {},
   "source": [
    "The long term vision of this project is to create freely available interactive examples of Python's application within Finance. This allows to practical examples to be incorporated at the same time as the financial theory."
   ]
  },
  {
   "cell_type": "markdown",
   "metadata": {},
   "source": [
    "Current List of Posts\n",
    "<ol>\n",
    "  <li>[Time Value of Money](Time Value of Money.ipynb)</li>\n",
    "  <li>[Economic Data Analysis](Economic Data Analysis.ipynb)</li>\n",
    "  <li>[Housing Market and Shares Analytics](Housing Market and Shares Analytics.ipynb)</li>\n",
    "</ol> "
   ]
  }
 ],
 "metadata": {
  "kernelspec": {
   "display_name": "Python 2",
   "language": "python",
   "name": "python2"
  },
  "language_info": {
   "codemirror_mode": {
    "name": "ipython",
    "version": 2
   },
   "file_extension": ".py",
   "mimetype": "text/x-python",
   "name": "python",
   "nbconvert_exporter": "python",
   "pygments_lexer": "ipython2",
   "version": "2.7.11"
  }
 },
 "nbformat": 4,
 "nbformat_minor": 2
}
