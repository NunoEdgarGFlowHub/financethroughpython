{
 "cells": [
  {
   "cell_type": "code",
   "execution_count": 2,
   "metadata": {},
   "outputs": [
    {
     "data": {
      "text/html": [
       "<div>\n",
       "<style scoped>\n",
       "    .dataframe tbody tr th:only-of-type {\n",
       "        vertical-align: middle;\n",
       "    }\n",
       "\n",
       "    .dataframe tbody tr th {\n",
       "        vertical-align: top;\n",
       "    }\n",
       "\n",
       "    .dataframe thead th {\n",
       "        text-align: right;\n",
       "    }\n",
       "</style>\n",
       "<table border=\"1\" class=\"dataframe\">\n",
       "  <thead>\n",
       "    <tr style=\"text-align: right;\">\n",
       "      <th></th>\n",
       "      <th>AMZN.CumReturn</th>\n",
       "      <th>IBM.CumReturn</th>\n",
       "      <th>GSPC.CumReturn</th>\n",
       "    </tr>\n",
       "    <tr>\n",
       "      <th>Date</th>\n",
       "      <th></th>\n",
       "      <th></th>\n",
       "      <th></th>\n",
       "    </tr>\n",
       "  </thead>\n",
       "  <tbody>\n",
       "    <tr>\n",
       "      <th>2013-12-31</th>\n",
       "      <td>1.2155</td>\n",
       "      <td>0.278073</td>\n",
       "      <td>0.469705</td>\n",
       "    </tr>\n",
       "  </tbody>\n",
       "</table>\n",
       "</div>"
      ],
      "text/plain": [
       "            AMZN.CumReturn  IBM.CumReturn  GSPC.CumReturn\n",
       "Date                                                     \n",
       "2013-12-31          1.2155       0.278073        0.469705"
      ]
     },
     "execution_count": 2,
     "metadata": {},
     "output_type": "execute_result"
    }
   ],
   "source": [
    "import pandas_datareader.data as web\n",
    "import pandas as pd\n",
    "import datetime\n",
    "import matplotlib.pyplot as plt\n",
    "%matplotlib inline\n",
    "start = datetime.datetime(2010, 12, 31)\n",
    "end = datetime.datetime(2013, 12, 31)\n",
    "ibmg = web.DataReader(\"IBM\", 'yahoo', start, end)[['Close']]\n",
    "ibmg.columns = ['IBM.Close']\n",
    "ibmg['IBM.DailyReturn'] = ibmg['IBM.Close'].pct_change()+1\n",
    "ibmg['IBM.CumReturn'] = ibmg['IBM.DailyReturn'].cumprod()-1\n",
    "amzng = web.DataReader(\"AMZN\", 'yahoo', start, end)[['Close']]\n",
    "amzng.columns = ['AMZN.Close']\n",
    "amzng['AMZN.DailyReturn'] = amzng['AMZN.Close'].pct_change()+1\n",
    "amzng['AMZN.CumReturn'] = amzng['AMZN.DailyReturn'].cumprod()-1\n",
    "gspcg = web.DataReader(\"^GSPC\", 'yahoo', start, end)[['Close']]\n",
    "gspcg.columns = ['GSPC.Close']\n",
    "gspcg['GSPC.DailyReturn'] = gspcg['GSPC.Close'].pct_change()+1\n",
    "gspcg['GSPC.CumReturn'] = gspcg['GSPC.DailyReturn'].cumprod()-1\n",
    "groupreturns = pd.concat([ibmg,amzng,gspcg], axis=1, join='outer',)\n",
    "groupreturns[['AMZN.CumReturn','IBM.CumReturn','GSPC.CumReturn']].tail(1)"
   ]
  },
  {
   "cell_type": "code",
   "execution_count": 15,
   "metadata": {},
   "outputs": [
    {
     "name": "stdout",
     "output_type": "stream",
     "text": [
      "Portfolio Return:  78.51%\n"
     ]
    }
   ],
   "source": [
    "amazon_weight = 0.5\n",
    "ibm_weight = 0.3\n",
    "gspc_weight = 0.2\n",
    "print \"Portfolio Return: \", \\\n",
    "    str(round(\n",
    "        (groupreturns['AMZN.CumReturn'][-1]*amazon_weight + \\\n",
    "    groupreturns['IBM.CumReturn'][-1]*ibm_weight + \\\n",
    "    groupreturns['GSPC.CumReturn'][-1]*gspc_weight)*100\n",
    "        ,2)\n",
    "    )+\"%\""
   ]
  },
  {
   "cell_type": "markdown",
   "metadata": {},
   "source": [
    "The value differs to the one in the book. This is due to Yahoo's data being unavailable and a different value for IBM return, which will need to be investigated further."
   ]
  },
  {
   "cell_type": "code",
   "execution_count": 41,
   "metadata": {},
   "outputs": [
    {
     "name": "stdout",
     "output_type": "stream",
     "text": [
      "78.51\n"
     ]
    }
   ],
   "source": [
    "import numpy as np\n",
    "portfolio_weights = np.array([0.5,0.3,0.2])\n",
    "portfolio_returns = np.array([groupreturns['AMZN.CumReturn'][-1],\\\n",
    "                              groupreturns['IBM.CumReturn'][-1],\\\n",
    "                                groupreturns['GSPC.CumReturn'][-1]])\n",
    "\n",
    "print round(np.dot(portfolio_weights,portfolio_returns.T)*100,2)"
   ]
  },
  {
   "cell_type": "markdown",
   "metadata": {},
   "source": [
    "Matrix multiplication using Numpy array results in the same value for the total portfolio return."
   ]
  },
  {
   "cell_type": "markdown",
   "metadata": {},
   "source": [
    "<div style='color:red'>To continue with page 86</div>"
   ]
  }
 ],
 "metadata": {
  "kernelspec": {
   "display_name": "Python 2",
   "language": "python",
   "name": "python2"
  },
  "language_info": {
   "codemirror_mode": {
    "name": "ipython",
    "version": 2
   },
   "file_extension": ".py",
   "mimetype": "text/x-python",
   "name": "python",
   "nbconvert_exporter": "python",
   "pygments_lexer": "ipython2",
   "version": "2.7.11"
  }
 },
 "nbformat": 4,
 "nbformat_minor": 2
}
