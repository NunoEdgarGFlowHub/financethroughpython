{
 "cells": [
  {
   "cell_type": "code",
   "execution_count": 1,
   "metadata": {},
   "outputs": [],
   "source": [
    "from pandas_datareader.famafrench import get_available_datasets\n",
    "import pandas_datareader.data as web\n",
    "import pandas as pd\n",
    "import datetime\n",
    "import matplotlib.pyplot as plt\n",
    "%matplotlib inline"
   ]
  },
  {
   "cell_type": "code",
   "execution_count": 2,
   "metadata": {
    "scrolled": false
   },
   "outputs": [],
   "source": [
    "# get_available_datasets"
   ]
  },
  {
   "cell_type": "code",
   "execution_count": 3,
   "metadata": {},
   "outputs": [
    {
     "data": {
      "text/html": [
       "<div>\n",
       "<style scoped>\n",
       "    .dataframe tbody tr th:only-of-type {\n",
       "        vertical-align: middle;\n",
       "    }\n",
       "\n",
       "    .dataframe tbody tr th {\n",
       "        vertical-align: top;\n",
       "    }\n",
       "\n",
       "    .dataframe thead th {\n",
       "        text-align: right;\n",
       "    }\n",
       "</style>\n",
       "<table border=\"1\" class=\"dataframe\">\n",
       "  <thead>\n",
       "    <tr style=\"text-align: right;\">\n",
       "      <th></th>\n",
       "      <th>Mkt-RF</th>\n",
       "      <th>SMB</th>\n",
       "      <th>HML</th>\n",
       "      <th>RF</th>\n",
       "    </tr>\n",
       "  </thead>\n",
       "  <tbody>\n",
       "    <tr>\n",
       "      <th>1926-07-01</th>\n",
       "      <td>0.0296</td>\n",
       "      <td>-0.0230</td>\n",
       "      <td>-0.0287</td>\n",
       "      <td>0.0022</td>\n",
       "    </tr>\n",
       "    <tr>\n",
       "      <th>1926-08-01</th>\n",
       "      <td>0.0264</td>\n",
       "      <td>-0.0140</td>\n",
       "      <td>0.0419</td>\n",
       "      <td>0.0025</td>\n",
       "    </tr>\n",
       "    <tr>\n",
       "      <th>1926-09-01</th>\n",
       "      <td>0.0036</td>\n",
       "      <td>-0.0132</td>\n",
       "      <td>0.0001</td>\n",
       "      <td>0.0023</td>\n",
       "    </tr>\n",
       "    <tr>\n",
       "      <th>1926-10-01</th>\n",
       "      <td>-0.0324</td>\n",
       "      <td>0.0004</td>\n",
       "      <td>0.0051</td>\n",
       "      <td>0.0032</td>\n",
       "    </tr>\n",
       "    <tr>\n",
       "      <th>1926-11-01</th>\n",
       "      <td>0.0253</td>\n",
       "      <td>-0.0020</td>\n",
       "      <td>-0.0035</td>\n",
       "      <td>0.0031</td>\n",
       "    </tr>\n",
       "  </tbody>\n",
       "</table>\n",
       "</div>"
      ],
      "text/plain": [
       "            Mkt-RF     SMB     HML      RF\n",
       "1926-07-01  0.0296 -0.0230 -0.0287  0.0022\n",
       "1926-08-01  0.0264 -0.0140  0.0419  0.0025\n",
       "1926-09-01  0.0036 -0.0132  0.0001  0.0023\n",
       "1926-10-01 -0.0324  0.0004  0.0051  0.0032\n",
       "1926-11-01  0.0253 -0.0020 -0.0035  0.0031"
      ]
     },
     "execution_count": 3,
     "metadata": {},
     "output_type": "execute_result"
    }
   ],
   "source": [
    "# start = datetime.datetime(2010, 12, 31)\n",
    "# end = datetime.datetime(2013, 12, 31)\n",
    "# ff = web.DataReader('F-F_Research_Data_Factors', \"famafrench\")\n",
    "dateparse = lambda x: pd.datetime.strptime(x, '%Y%m')\n",
    "ff = pd.read_csv('F-F_Research_Data_Factors.csv',index_col=0, parse_dates=True, date_parser=dateparse)\n",
    "ff = ff / 100\n",
    "ff.head()"
   ]
  },
  {
   "cell_type": "code",
   "execution_count": 4,
   "metadata": {},
   "outputs": [
    {
     "data": {
      "text/html": [
       "<div>\n",
       "<style scoped>\n",
       "    .dataframe tbody tr th:only-of-type {\n",
       "        vertical-align: middle;\n",
       "    }\n",
       "\n",
       "    .dataframe tbody tr th {\n",
       "        vertical-align: top;\n",
       "    }\n",
       "\n",
       "    .dataframe thead th {\n",
       "        text-align: right;\n",
       "    }\n",
       "</style>\n",
       "<table border=\"1\" class=\"dataframe\">\n",
       "  <thead>\n",
       "    <tr style=\"text-align: right;\">\n",
       "      <th></th>\n",
       "      <th>Mkt-RF</th>\n",
       "      <th>SMB</th>\n",
       "      <th>HML</th>\n",
       "      <th>RF</th>\n",
       "    </tr>\n",
       "  </thead>\n",
       "  <tbody>\n",
       "    <tr>\n",
       "      <th>2017-05-01</th>\n",
       "      <td>0.0106</td>\n",
       "      <td>-0.0254</td>\n",
       "      <td>-0.0375</td>\n",
       "      <td>0.0006</td>\n",
       "    </tr>\n",
       "    <tr>\n",
       "      <th>2017-06-01</th>\n",
       "      <td>0.0078</td>\n",
       "      <td>0.0215</td>\n",
       "      <td>0.0132</td>\n",
       "      <td>0.0006</td>\n",
       "    </tr>\n",
       "    <tr>\n",
       "      <th>2017-07-01</th>\n",
       "      <td>0.0187</td>\n",
       "      <td>-0.0142</td>\n",
       "      <td>-0.0028</td>\n",
       "      <td>0.0007</td>\n",
       "    </tr>\n",
       "    <tr>\n",
       "      <th>2017-08-01</th>\n",
       "      <td>0.0017</td>\n",
       "      <td>-0.0171</td>\n",
       "      <td>-0.0226</td>\n",
       "      <td>0.0007</td>\n",
       "    </tr>\n",
       "    <tr>\n",
       "      <th>2017-09-01</th>\n",
       "      <td>0.0251</td>\n",
       "      <td>0.0454</td>\n",
       "      <td>0.0304</td>\n",
       "      <td>0.0009</td>\n",
       "    </tr>\n",
       "  </tbody>\n",
       "</table>\n",
       "</div>"
      ],
      "text/plain": [
       "            Mkt-RF     SMB     HML      RF\n",
       "2017-05-01  0.0106 -0.0254 -0.0375  0.0006\n",
       "2017-06-01  0.0078  0.0215  0.0132  0.0006\n",
       "2017-07-01  0.0187 -0.0142 -0.0028  0.0007\n",
       "2017-08-01  0.0017 -0.0171 -0.0226  0.0007\n",
       "2017-09-01  0.0251  0.0454  0.0304  0.0009"
      ]
     },
     "execution_count": 4,
     "metadata": {},
     "output_type": "execute_result"
    }
   ],
   "source": [
    "ff.tail()"
   ]
  },
  {
   "cell_type": "code",
   "execution_count": 5,
   "metadata": {},
   "outputs": [],
   "source": [
    "ff['Market-Return'] = ff['Mkt-RF'] + ff['RF']"
   ]
  },
  {
   "cell_type": "code",
   "execution_count": 6,
   "metadata": {},
   "outputs": [
    {
     "data": {
      "text/html": [
       "<div>\n",
       "<style scoped>\n",
       "    .dataframe tbody tr th:only-of-type {\n",
       "        vertical-align: middle;\n",
       "    }\n",
       "\n",
       "    .dataframe tbody tr th {\n",
       "        vertical-align: top;\n",
       "    }\n",
       "\n",
       "    .dataframe thead th {\n",
       "        text-align: right;\n",
       "    }\n",
       "</style>\n",
       "<table border=\"1\" class=\"dataframe\">\n",
       "  <thead>\n",
       "    <tr style=\"text-align: right;\">\n",
       "      <th></th>\n",
       "      <th>Mkt-RF</th>\n",
       "      <th>SMB</th>\n",
       "      <th>HML</th>\n",
       "      <th>RF</th>\n",
       "      <th>Market-Return</th>\n",
       "    </tr>\n",
       "  </thead>\n",
       "  <tbody>\n",
       "    <tr>\n",
       "      <th>1926-07-01</th>\n",
       "      <td>0.0296</td>\n",
       "      <td>-0.0230</td>\n",
       "      <td>-0.0287</td>\n",
       "      <td>0.0022</td>\n",
       "      <td>0.0318</td>\n",
       "    </tr>\n",
       "    <tr>\n",
       "      <th>1926-08-01</th>\n",
       "      <td>0.0264</td>\n",
       "      <td>-0.0140</td>\n",
       "      <td>0.0419</td>\n",
       "      <td>0.0025</td>\n",
       "      <td>0.0289</td>\n",
       "    </tr>\n",
       "    <tr>\n",
       "      <th>1926-09-01</th>\n",
       "      <td>0.0036</td>\n",
       "      <td>-0.0132</td>\n",
       "      <td>0.0001</td>\n",
       "      <td>0.0023</td>\n",
       "      <td>0.0059</td>\n",
       "    </tr>\n",
       "    <tr>\n",
       "      <th>1926-10-01</th>\n",
       "      <td>-0.0324</td>\n",
       "      <td>0.0004</td>\n",
       "      <td>0.0051</td>\n",
       "      <td>0.0032</td>\n",
       "      <td>-0.0292</td>\n",
       "    </tr>\n",
       "    <tr>\n",
       "      <th>1926-11-01</th>\n",
       "      <td>0.0253</td>\n",
       "      <td>-0.0020</td>\n",
       "      <td>-0.0035</td>\n",
       "      <td>0.0031</td>\n",
       "      <td>0.0284</td>\n",
       "    </tr>\n",
       "  </tbody>\n",
       "</table>\n",
       "</div>"
      ],
      "text/plain": [
       "            Mkt-RF     SMB     HML      RF  Market-Return\n",
       "1926-07-01  0.0296 -0.0230 -0.0287  0.0022         0.0318\n",
       "1926-08-01  0.0264 -0.0140  0.0419  0.0025         0.0289\n",
       "1926-09-01  0.0036 -0.0132  0.0001  0.0023         0.0059\n",
       "1926-10-01 -0.0324  0.0004  0.0051  0.0032        -0.0292\n",
       "1926-11-01  0.0253 -0.0020 -0.0035  0.0031         0.0284"
      ]
     },
     "execution_count": 6,
     "metadata": {},
     "output_type": "execute_result"
    }
   ],
   "source": [
    "ff.head()"
   ]
  },
  {
   "cell_type": "code",
   "execution_count": 7,
   "metadata": {},
   "outputs": [
    {
     "data": {
      "text/html": [
       "<div>\n",
       "<style scoped>\n",
       "    .dataframe tbody tr th:only-of-type {\n",
       "        vertical-align: middle;\n",
       "    }\n",
       "\n",
       "    .dataframe tbody tr th {\n",
       "        vertical-align: top;\n",
       "    }\n",
       "\n",
       "    .dataframe thead th {\n",
       "        text-align: right;\n",
       "    }\n",
       "</style>\n",
       "<table border=\"1\" class=\"dataframe\">\n",
       "  <thead>\n",
       "    <tr style=\"text-align: right;\">\n",
       "      <th></th>\n",
       "      <th>Mkt-RF</th>\n",
       "      <th>SMB</th>\n",
       "      <th>HML</th>\n",
       "      <th>RF</th>\n",
       "      <th>Market-Return</th>\n",
       "    </tr>\n",
       "  </thead>\n",
       "  <tbody>\n",
       "    <tr>\n",
       "      <th>1963-12-01</th>\n",
       "      <td>0.0183</td>\n",
       "      <td>-0.0196</td>\n",
       "      <td>-0.0010</td>\n",
       "      <td>0.0029</td>\n",
       "      <td>0.0212</td>\n",
       "    </tr>\n",
       "    <tr>\n",
       "      <th>1964-01-01</th>\n",
       "      <td>0.0224</td>\n",
       "      <td>-0.0019</td>\n",
       "      <td>0.0161</td>\n",
       "      <td>0.0030</td>\n",
       "      <td>0.0254</td>\n",
       "    </tr>\n",
       "    <tr>\n",
       "      <th>1964-02-01</th>\n",
       "      <td>0.0154</td>\n",
       "      <td>0.0009</td>\n",
       "      <td>0.0282</td>\n",
       "      <td>0.0026</td>\n",
       "      <td>0.0180</td>\n",
       "    </tr>\n",
       "    <tr>\n",
       "      <th>1964-03-01</th>\n",
       "      <td>0.0141</td>\n",
       "      <td>0.0099</td>\n",
       "      <td>0.0334</td>\n",
       "      <td>0.0031</td>\n",
       "      <td>0.0172</td>\n",
       "    </tr>\n",
       "    <tr>\n",
       "      <th>1964-04-01</th>\n",
       "      <td>0.0010</td>\n",
       "      <td>-0.0136</td>\n",
       "      <td>-0.0053</td>\n",
       "      <td>0.0029</td>\n",
       "      <td>0.0039</td>\n",
       "    </tr>\n",
       "  </tbody>\n",
       "</table>\n",
       "</div>"
      ],
      "text/plain": [
       "            Mkt-RF     SMB     HML      RF  Market-Return\n",
       "1963-12-01  0.0183 -0.0196 -0.0010  0.0029         0.0212\n",
       "1964-01-01  0.0224 -0.0019  0.0161  0.0030         0.0254\n",
       "1964-02-01  0.0154  0.0009  0.0282  0.0026         0.0180\n",
       "1964-03-01  0.0141  0.0099  0.0334  0.0031         0.0172\n",
       "1964-04-01  0.0010 -0.0136 -0.0053  0.0029         0.0039"
      ]
     },
     "execution_count": 7,
     "metadata": {},
     "output_type": "execute_result"
    }
   ],
   "source": [
    "ff6313 = ff['1963-12-01':'2013-12-31']\n",
    "ff6313.head()"
   ]
  },
  {
   "cell_type": "code",
   "execution_count": 8,
   "metadata": {},
   "outputs": [
    {
     "data": {
      "text/html": [
       "<div>\n",
       "<style scoped>\n",
       "    .dataframe tbody tr th:only-of-type {\n",
       "        vertical-align: middle;\n",
       "    }\n",
       "\n",
       "    .dataframe tbody tr th {\n",
       "        vertical-align: top;\n",
       "    }\n",
       "\n",
       "    .dataframe thead th {\n",
       "        text-align: right;\n",
       "    }\n",
       "</style>\n",
       "<table border=\"1\" class=\"dataframe\">\n",
       "  <thead>\n",
       "    <tr style=\"text-align: right;\">\n",
       "      <th></th>\n",
       "      <th>Mkt-RF</th>\n",
       "      <th>SMB</th>\n",
       "      <th>HML</th>\n",
       "      <th>RF</th>\n",
       "      <th>Market-Return</th>\n",
       "    </tr>\n",
       "  </thead>\n",
       "  <tbody>\n",
       "    <tr>\n",
       "      <th>2013-08-01</th>\n",
       "      <td>-0.0271</td>\n",
       "      <td>0.0030</td>\n",
       "      <td>-0.0278</td>\n",
       "      <td>0.0</td>\n",
       "      <td>-0.0271</td>\n",
       "    </tr>\n",
       "    <tr>\n",
       "      <th>2013-09-01</th>\n",
       "      <td>0.0377</td>\n",
       "      <td>0.0294</td>\n",
       "      <td>-0.0118</td>\n",
       "      <td>0.0</td>\n",
       "      <td>0.0377</td>\n",
       "    </tr>\n",
       "    <tr>\n",
       "      <th>2013-10-01</th>\n",
       "      <td>0.0418</td>\n",
       "      <td>-0.0149</td>\n",
       "      <td>0.0115</td>\n",
       "      <td>0.0</td>\n",
       "      <td>0.0418</td>\n",
       "    </tr>\n",
       "    <tr>\n",
       "      <th>2013-11-01</th>\n",
       "      <td>0.0312</td>\n",
       "      <td>0.0124</td>\n",
       "      <td>0.0024</td>\n",
       "      <td>0.0</td>\n",
       "      <td>0.0312</td>\n",
       "    </tr>\n",
       "    <tr>\n",
       "      <th>2013-12-01</th>\n",
       "      <td>0.0281</td>\n",
       "      <td>-0.0050</td>\n",
       "      <td>-0.0030</td>\n",
       "      <td>0.0</td>\n",
       "      <td>0.0281</td>\n",
       "    </tr>\n",
       "  </tbody>\n",
       "</table>\n",
       "</div>"
      ],
      "text/plain": [
       "            Mkt-RF     SMB     HML   RF  Market-Return\n",
       "2013-08-01 -0.0271  0.0030 -0.0278  0.0        -0.0271\n",
       "2013-09-01  0.0377  0.0294 -0.0118  0.0         0.0377\n",
       "2013-10-01  0.0418 -0.0149  0.0115  0.0         0.0418\n",
       "2013-11-01  0.0312  0.0124  0.0024  0.0         0.0312\n",
       "2013-12-01  0.0281 -0.0050 -0.0030  0.0         0.0281"
      ]
     },
     "execution_count": 8,
     "metadata": {},
     "output_type": "execute_result"
    }
   ],
   "source": [
    "ff6313.tail()"
   ]
  },
  {
   "cell_type": "markdown",
   "metadata": {},
   "source": [
    "These tables are the same as the ouput on page 118."
   ]
  },
  {
   "cell_type": "code",
   "execution_count": 9,
   "metadata": {},
   "outputs": [
    {
     "name": "stderr",
     "output_type": "stream",
     "text": [
      "/Users/dsr/Documents/HustleProjects/financethroughpython/venv/lib/python2.7/site-packages/ipykernel_launcher.py:1: SettingWithCopyWarning: \n",
      "A value is trying to be set on a copy of a slice from a DataFrame.\n",
      "Try using .loc[row_indexer,col_indexer] = value instead\n",
      "\n",
      "See the caveats in the documentation: http://pandas.pydata.org/pandas-docs/stable/indexing.html#indexing-view-versus-copy\n",
      "  \"\"\"Entry point for launching an IPython kernel.\n",
      "/Users/dsr/Documents/HustleProjects/financethroughpython/venv/lib/python2.7/site-packages/IPython/core/interactiveshell.py:2882: SettingWithCopyWarning: \n",
      "A value is trying to be set on a copy of a slice from a DataFrame\n",
      "\n",
      "See the caveats in the documentation: http://pandas.pydata.org/pandas-docs/stable/indexing.html#indexing-view-versus-copy\n",
      "  exec(code_obj, self.user_global_ns, self.user_ns)\n",
      "/Users/dsr/Documents/HustleProjects/financethroughpython/venv/lib/python2.7/site-packages/ipykernel_launcher.py:3: SettingWithCopyWarning: \n",
      "A value is trying to be set on a copy of a slice from a DataFrame.\n",
      "Try using .loc[row_indexer,col_indexer] = value instead\n",
      "\n",
      "See the caveats in the documentation: http://pandas.pydata.org/pandas-docs/stable/indexing.html#indexing-view-versus-copy\n",
      "  This is separate from the ipykernel package so we can avoid doing imports until\n"
     ]
    }
   ],
   "source": [
    "ff6313['RF-Gross'] = ff6313['RF'] + 1\n",
    "ff6313['RF-Gross']['1963-12-01'] = 1\n",
    "ff6313['Market-Return-Gross'] = ff6313['Market-Return'] + 1\n",
    "ff6313['Market-Return-Gross']['1963-12-01'] = 1"
   ]
  },
  {
   "cell_type": "code",
   "execution_count": 10,
   "metadata": {},
   "outputs": [
    {
     "data": {
      "text/html": [
       "<div>\n",
       "<style scoped>\n",
       "    .dataframe tbody tr th:only-of-type {\n",
       "        vertical-align: middle;\n",
       "    }\n",
       "\n",
       "    .dataframe tbody tr th {\n",
       "        vertical-align: top;\n",
       "    }\n",
       "\n",
       "    .dataframe thead th {\n",
       "        text-align: right;\n",
       "    }\n",
       "</style>\n",
       "<table border=\"1\" class=\"dataframe\">\n",
       "  <thead>\n",
       "    <tr style=\"text-align: right;\">\n",
       "      <th></th>\n",
       "      <th>Mkt-RF</th>\n",
       "      <th>SMB</th>\n",
       "      <th>HML</th>\n",
       "      <th>RF</th>\n",
       "      <th>Market-Return</th>\n",
       "      <th>RF-Gross</th>\n",
       "      <th>Market-Return-Gross</th>\n",
       "    </tr>\n",
       "  </thead>\n",
       "  <tbody>\n",
       "    <tr>\n",
       "      <th>1963-12-01</th>\n",
       "      <td>0.0183</td>\n",
       "      <td>-0.0196</td>\n",
       "      <td>-0.0010</td>\n",
       "      <td>0.0029</td>\n",
       "      <td>0.0212</td>\n",
       "      <td>1.0000</td>\n",
       "      <td>1.0000</td>\n",
       "    </tr>\n",
       "    <tr>\n",
       "      <th>1964-01-01</th>\n",
       "      <td>0.0224</td>\n",
       "      <td>-0.0019</td>\n",
       "      <td>0.0161</td>\n",
       "      <td>0.0030</td>\n",
       "      <td>0.0254</td>\n",
       "      <td>1.0030</td>\n",
       "      <td>1.0254</td>\n",
       "    </tr>\n",
       "    <tr>\n",
       "      <th>1964-02-01</th>\n",
       "      <td>0.0154</td>\n",
       "      <td>0.0009</td>\n",
       "      <td>0.0282</td>\n",
       "      <td>0.0026</td>\n",
       "      <td>0.0180</td>\n",
       "      <td>1.0026</td>\n",
       "      <td>1.0180</td>\n",
       "    </tr>\n",
       "    <tr>\n",
       "      <th>1964-03-01</th>\n",
       "      <td>0.0141</td>\n",
       "      <td>0.0099</td>\n",
       "      <td>0.0334</td>\n",
       "      <td>0.0031</td>\n",
       "      <td>0.0172</td>\n",
       "      <td>1.0031</td>\n",
       "      <td>1.0172</td>\n",
       "    </tr>\n",
       "    <tr>\n",
       "      <th>1964-04-01</th>\n",
       "      <td>0.0010</td>\n",
       "      <td>-0.0136</td>\n",
       "      <td>-0.0053</td>\n",
       "      <td>0.0029</td>\n",
       "      <td>0.0039</td>\n",
       "      <td>1.0029</td>\n",
       "      <td>1.0039</td>\n",
       "    </tr>\n",
       "  </tbody>\n",
       "</table>\n",
       "</div>"
      ],
      "text/plain": [
       "            Mkt-RF     SMB     HML      RF  Market-Return  RF-Gross  \\\n",
       "1963-12-01  0.0183 -0.0196 -0.0010  0.0029         0.0212    1.0000   \n",
       "1964-01-01  0.0224 -0.0019  0.0161  0.0030         0.0254    1.0030   \n",
       "1964-02-01  0.0154  0.0009  0.0282  0.0026         0.0180    1.0026   \n",
       "1964-03-01  0.0141  0.0099  0.0334  0.0031         0.0172    1.0031   \n",
       "1964-04-01  0.0010 -0.0136 -0.0053  0.0029         0.0039    1.0029   \n",
       "\n",
       "            Market-Return-Gross  \n",
       "1963-12-01               1.0000  \n",
       "1964-01-01               1.0254  \n",
       "1964-02-01               1.0180  \n",
       "1964-03-01               1.0172  \n",
       "1964-04-01               1.0039  "
      ]
     },
     "execution_count": 10,
     "metadata": {},
     "output_type": "execute_result"
    }
   ],
   "source": [
    "ff6313.head()"
   ]
  },
  {
   "cell_type": "code",
   "execution_count": 11,
   "metadata": {},
   "outputs": [
    {
     "name": "stderr",
     "output_type": "stream",
     "text": [
      "/Users/dsr/Documents/HustleProjects/financethroughpython/venv/lib/python2.7/site-packages/ipykernel_launcher.py:1: SettingWithCopyWarning: \n",
      "A value is trying to be set on a copy of a slice from a DataFrame.\n",
      "Try using .loc[row_indexer,col_indexer] = value instead\n",
      "\n",
      "See the caveats in the documentation: http://pandas.pydata.org/pandas-docs/stable/indexing.html#indexing-view-versus-copy\n",
      "  \"\"\"Entry point for launching an IPython kernel.\n",
      "/Users/dsr/Documents/HustleProjects/financethroughpython/venv/lib/python2.7/site-packages/ipykernel_launcher.py:2: SettingWithCopyWarning: \n",
      "A value is trying to be set on a copy of a slice from a DataFrame.\n",
      "Try using .loc[row_indexer,col_indexer] = value instead\n",
      "\n",
      "See the caveats in the documentation: http://pandas.pydata.org/pandas-docs/stable/indexing.html#indexing-view-versus-copy\n",
      "  \n"
     ]
    },
    {
     "data": {
      "text/html": [
       "<div>\n",
       "<style scoped>\n",
       "    .dataframe tbody tr th:only-of-type {\n",
       "        vertical-align: middle;\n",
       "    }\n",
       "\n",
       "    .dataframe tbody tr th {\n",
       "        vertical-align: top;\n",
       "    }\n",
       "\n",
       "    .dataframe thead th {\n",
       "        text-align: right;\n",
       "    }\n",
       "</style>\n",
       "<table border=\"1\" class=\"dataframe\">\n",
       "  <thead>\n",
       "    <tr style=\"text-align: right;\">\n",
       "      <th></th>\n",
       "      <th>Mkt-RF</th>\n",
       "      <th>SMB</th>\n",
       "      <th>HML</th>\n",
       "      <th>RF</th>\n",
       "      <th>Market-Return</th>\n",
       "      <th>RF-Gross</th>\n",
       "      <th>Market-Return-Gross</th>\n",
       "      <th>Market-Return-Gross-Cum</th>\n",
       "      <th>RF-Gross-Cum</th>\n",
       "    </tr>\n",
       "  </thead>\n",
       "  <tbody>\n",
       "    <tr>\n",
       "      <th>1963-12-01</th>\n",
       "      <td>0.0183</td>\n",
       "      <td>-0.0196</td>\n",
       "      <td>-0.0010</td>\n",
       "      <td>0.0029</td>\n",
       "      <td>0.0212</td>\n",
       "      <td>1.0000</td>\n",
       "      <td>1.0000</td>\n",
       "      <td>1.000000</td>\n",
       "      <td>1.000000</td>\n",
       "    </tr>\n",
       "    <tr>\n",
       "      <th>1964-01-01</th>\n",
       "      <td>0.0224</td>\n",
       "      <td>-0.0019</td>\n",
       "      <td>0.0161</td>\n",
       "      <td>0.0030</td>\n",
       "      <td>0.0254</td>\n",
       "      <td>1.0030</td>\n",
       "      <td>1.0254</td>\n",
       "      <td>1.025400</td>\n",
       "      <td>1.003000</td>\n",
       "    </tr>\n",
       "    <tr>\n",
       "      <th>1964-02-01</th>\n",
       "      <td>0.0154</td>\n",
       "      <td>0.0009</td>\n",
       "      <td>0.0282</td>\n",
       "      <td>0.0026</td>\n",
       "      <td>0.0180</td>\n",
       "      <td>1.0026</td>\n",
       "      <td>1.0180</td>\n",
       "      <td>1.043857</td>\n",
       "      <td>1.005608</td>\n",
       "    </tr>\n",
       "    <tr>\n",
       "      <th>1964-03-01</th>\n",
       "      <td>0.0141</td>\n",
       "      <td>0.0099</td>\n",
       "      <td>0.0334</td>\n",
       "      <td>0.0031</td>\n",
       "      <td>0.0172</td>\n",
       "      <td>1.0031</td>\n",
       "      <td>1.0172</td>\n",
       "      <td>1.061812</td>\n",
       "      <td>1.008725</td>\n",
       "    </tr>\n",
       "    <tr>\n",
       "      <th>1964-04-01</th>\n",
       "      <td>0.0010</td>\n",
       "      <td>-0.0136</td>\n",
       "      <td>-0.0053</td>\n",
       "      <td>0.0029</td>\n",
       "      <td>0.0039</td>\n",
       "      <td>1.0029</td>\n",
       "      <td>1.0039</td>\n",
       "      <td>1.065953</td>\n",
       "      <td>1.011650</td>\n",
       "    </tr>\n",
       "  </tbody>\n",
       "</table>\n",
       "</div>"
      ],
      "text/plain": [
       "            Mkt-RF     SMB     HML      RF  Market-Return  RF-Gross  \\\n",
       "1963-12-01  0.0183 -0.0196 -0.0010  0.0029         0.0212    1.0000   \n",
       "1964-01-01  0.0224 -0.0019  0.0161  0.0030         0.0254    1.0030   \n",
       "1964-02-01  0.0154  0.0009  0.0282  0.0026         0.0180    1.0026   \n",
       "1964-03-01  0.0141  0.0099  0.0334  0.0031         0.0172    1.0031   \n",
       "1964-04-01  0.0010 -0.0136 -0.0053  0.0029         0.0039    1.0029   \n",
       "\n",
       "            Market-Return-Gross  Market-Return-Gross-Cum  RF-Gross-Cum  \n",
       "1963-12-01               1.0000                 1.000000      1.000000  \n",
       "1964-01-01               1.0254                 1.025400      1.003000  \n",
       "1964-02-01               1.0180                 1.043857      1.005608  \n",
       "1964-03-01               1.0172                 1.061812      1.008725  \n",
       "1964-04-01               1.0039                 1.065953      1.011650  "
      ]
     },
     "execution_count": 11,
     "metadata": {},
     "output_type": "execute_result"
    }
   ],
   "source": [
    "ff6313['Market-Return-Gross-Cum'] = ff6313['Market-Return-Gross'].cumprod()\n",
    "ff6313['RF-Gross-Cum'] = ff6313['RF-Gross'].cumprod()\n",
    "ff6313.head()"
   ]
  },
  {
   "cell_type": "markdown",
   "metadata": {},
   "source": [
    "The output in these tables is very similar to the one on page 119."
   ]
  },
  {
   "cell_type": "code",
   "execution_count": 12,
   "metadata": {},
   "outputs": [
    {
     "data": {
      "text/plain": [
       "<matplotlib.axes._subplots.AxesSubplot at 0x1077da290>"
      ]
     },
     "execution_count": 12,
     "metadata": {},
     "output_type": "execute_result"
    },
    {
     "data": {
      "image/png": "[encoded data removed]",
      "text/plain": [
       "<matplotlib.figure.Figure at 0x1077c6c90>"
      ]
     },
     "metadata": {},
     "output_type": "display_data"
    }
   ],
   "source": [
    "ff6313[['Market-Return-Gross-Cum','RF-Gross-Cum']].plot(figsize=(10,10), grid=True,style=['-','--'])"
   ]
  },
  {
   "cell_type": "markdown",
   "metadata": {},
   "source": [
    "The chart above is very similar to the one in Figure 4.1 on page 120."
   ]
  },
  {
   "cell_type": "code",
   "execution_count": 13,
   "metadata": {},
   "outputs": [
    {
     "data": {
      "text/plain": [
       "<matplotlib.lines.Line2D at 0x107772f10>"
      ]
     },
     "execution_count": 13,
     "metadata": {},
     "output_type": "execute_result"
    },
    {
     "data": {
      "image/png": "[encoded data removed]",
      "text/plain": [
       "<matplotlib.figure.Figure at 0x1077720d0>"
      ]
     },
     "metadata": {},
     "output_type": "display_data"
    }
   ],
   "source": [
    "ff6313[['Market-Return','RF']].plot(figsize=(20,10)).axhline(0)"
   ]
  },
  {
   "cell_type": "markdown",
   "metadata": {},
   "source": [
    "Similarly, the chart above is very similar to the one in Figure 4.2 on page 122."
   ]
  },
  {
   "cell_type": "code",
   "execution_count": 14,
   "metadata": {},
   "outputs": [],
   "source": [
    "start = datetime.datetime(2010, 12, 31)\n",
    "end = datetime.datetime(2013, 12, 31)\n",
    "amzn = web.DataReader(\"AMZN\", 'yahoo', start, end)[['Adj Close']]\n",
    "amzn['Returns'] = amzn['Adj Close'].pct_change()"
   ]
  },
  {
   "cell_type": "code",
   "execution_count": 15,
   "metadata": {},
   "outputs": [
    {
     "data": {
      "text/html": [
       "<div>\n",
       "<style scoped>\n",
       "    .dataframe tbody tr th:only-of-type {\n",
       "        vertical-align: middle;\n",
       "    }\n",
       "\n",
       "    .dataframe tbody tr th {\n",
       "        vertical-align: top;\n",
       "    }\n",
       "\n",
       "    .dataframe thead th {\n",
       "        text-align: right;\n",
       "    }\n",
       "</style>\n",
       "<table border=\"1\" class=\"dataframe\">\n",
       "  <thead>\n",
       "    <tr style=\"text-align: right;\">\n",
       "      <th></th>\n",
       "      <th>Adj Close</th>\n",
       "      <th>Returns</th>\n",
       "    </tr>\n",
       "    <tr>\n",
       "      <th>Date</th>\n",
       "      <th></th>\n",
       "      <th></th>\n",
       "    </tr>\n",
       "  </thead>\n",
       "  <tbody>\n",
       "    <tr>\n",
       "      <th>2010-12-31</th>\n",
       "      <td>180.000000</td>\n",
       "      <td>NaN</td>\n",
       "    </tr>\n",
       "    <tr>\n",
       "      <th>2011-01-03</th>\n",
       "      <td>184.220001</td>\n",
       "      <td>0.023444</td>\n",
       "    </tr>\n",
       "    <tr>\n",
       "      <th>2011-01-04</th>\n",
       "      <td>185.009995</td>\n",
       "      <td>0.004288</td>\n",
       "    </tr>\n",
       "    <tr>\n",
       "      <th>2011-01-05</th>\n",
       "      <td>187.419998</td>\n",
       "      <td>0.013026</td>\n",
       "    </tr>\n",
       "    <tr>\n",
       "      <th>2011-01-06</th>\n",
       "      <td>185.860001</td>\n",
       "      <td>-0.008324</td>\n",
       "    </tr>\n",
       "  </tbody>\n",
       "</table>\n",
       "</div>"
      ],
      "text/plain": [
       "             Adj Close   Returns\n",
       "Date                            \n",
       "2010-12-31  180.000000       NaN\n",
       "2011-01-03  184.220001  0.023444\n",
       "2011-01-04  185.009995  0.004288\n",
       "2011-01-05  187.419998  0.013026\n",
       "2011-01-06  185.860001 -0.008324"
      ]
     },
     "execution_count": 15,
     "metadata": {},
     "output_type": "execute_result"
    }
   ],
   "source": [
    "amzn.head()"
   ]
  },
  {
   "cell_type": "code",
   "execution_count": 16,
   "metadata": {},
   "outputs": [],
   "source": [
    "amznvar1113 = amzn['Returns'].var()\n",
    "amznstd1113 = amzn['Returns'].std()\n",
    "amznret1113 = amzn['Returns'].mean()"
   ]
  },
  {
   "cell_type": "code",
   "execution_count": 17,
   "metadata": {},
   "outputs": [
    {
     "name": "stdout",
     "output_type": "stream",
     "text": [
      "0.000425095086513\n",
      "0.0206178341858\n",
      "0.00126667926726\n"
     ]
    }
   ],
   "source": [
    "print amznvar1113\n",
    "print amznstd1113\n",
    "print amznret1113"
   ]
  },
  {
   "cell_type": "markdown",
   "metadata": {},
   "source": [
    "These numbers are the same as the ones on the page 123."
   ]
  },
  {
   "cell_type": "code",
   "execution_count": 18,
   "metadata": {},
   "outputs": [
    {
     "name": "stdout",
     "output_type": "stream",
     "text": [
      "0.000585269325943\n",
      "0.0241923402329\n",
      "0.000138563342241\n"
     ]
    }
   ],
   "source": [
    "amznvar11 = amzn['Returns']['2011'].var()\n",
    "amznstd11 = amzn['Returns']['2011'].std()\n",
    "amznret11 = amzn['Returns']['2011'].mean()\n",
    "print amznvar11\n",
    "print amznstd11\n",
    "print amznret11"
   ]
  },
  {
   "cell_type": "code",
   "execution_count": 19,
   "metadata": {},
   "outputs": [
    {
     "name": "stdout",
     "output_type": "stream",
     "text": [
      "0.000401523124553\n",
      "0.0200380419341\n",
      "0.00168024684704\n"
     ]
    }
   ],
   "source": [
    "amznvar12 = amzn['Returns']['2012'].var()\n",
    "amznstd12 = amzn['Returns']['2012'].std()\n",
    "amznret12 = amzn['Returns']['2012'].mean()\n",
    "print amznvar12\n",
    "print amznstd12\n",
    "print amznret12"
   ]
  },
  {
   "cell_type": "code",
   "execution_count": 20,
   "metadata": {},
   "outputs": [
    {
     "name": "stdout",
     "output_type": "stream",
     "text": [
      "0.00028972679021\n",
      "0.0170213627601\n",
      "0.00198450989488\n"
     ]
    }
   ],
   "source": [
    "amznvar13 = amzn['Returns']['2013'].var()\n",
    "amznstd13 = amzn['Returns']['2013'].std()\n",
    "amznret13 = amzn['Returns']['2013'].mean()\n",
    "print amznvar13\n",
    "print amznstd13\n",
    "print amznret13"
   ]
  },
  {
   "cell_type": "code",
   "execution_count": 21,
   "metadata": {},
   "outputs": [
    {
     "data": {
      "text/html": [
       "<div>\n",
       "<style scoped>\n",
       "    .dataframe tbody tr th:only-of-type {\n",
       "        vertical-align: middle;\n",
       "    }\n",
       "\n",
       "    .dataframe tbody tr th {\n",
       "        vertical-align: top;\n",
       "    }\n",
       "\n",
       "    .dataframe thead th {\n",
       "        text-align: right;\n",
       "    }\n",
       "</style>\n",
       "<table border=\"1\" class=\"dataframe\">\n",
       "  <thead>\n",
       "    <tr style=\"text-align: right;\">\n",
       "      <th></th>\n",
       "      <th>2011</th>\n",
       "      <th>2011-2013</th>\n",
       "      <th>2012</th>\n",
       "      <th>2013</th>\n",
       "    </tr>\n",
       "  </thead>\n",
       "  <tbody>\n",
       "    <tr>\n",
       "      <th>Variance</th>\n",
       "      <td>0.000585</td>\n",
       "      <td>0.000425</td>\n",
       "      <td>0.000402</td>\n",
       "      <td>0.000290</td>\n",
       "    </tr>\n",
       "    <tr>\n",
       "      <th>Std Dev</th>\n",
       "      <td>0.024192</td>\n",
       "      <td>0.020618</td>\n",
       "      <td>0.020038</td>\n",
       "      <td>0.017021</td>\n",
       "    </tr>\n",
       "    <tr>\n",
       "      <th>Mean</th>\n",
       "      <td>0.000139</td>\n",
       "      <td>0.001267</td>\n",
       "      <td>0.001680</td>\n",
       "      <td>0.001985</td>\n",
       "    </tr>\n",
       "  </tbody>\n",
       "</table>\n",
       "</div>"
      ],
      "text/plain": [
       "              2011  2011-2013      2012      2013\n",
       "Variance  0.000585   0.000425  0.000402  0.000290\n",
       "Std Dev   0.024192   0.020618  0.020038  0.017021\n",
       "Mean      0.000139   0.001267  0.001680  0.001985"
      ]
     },
     "execution_count": 21,
     "metadata": {},
     "output_type": "execute_result"
    }
   ],
   "source": [
    "d = {'2011-2013' : [amznvar1113,amznstd1113,amznret1113],'2011' : [amznvar11,amznstd11,amznret11],'2012' : [amznvar12,amznstd12,amznret12], '2013' : [amznvar13,amznstd13,amznret13]}\n",
    "pd.DataFrame(d, index=['Variance', 'Std Dev', 'Mean'])\n"
   ]
  },
  {
   "cell_type": "markdown",
   "metadata": {},
   "source": [
    "Ignoring the order of columns the table above is the same as the output at the top of the page 126."
   ]
  },
  {
   "cell_type": "code",
   "execution_count": 22,
   "metadata": {},
   "outputs": [
    {
     "data": {
      "text/html": [
       "<div>\n",
       "<style scoped>\n",
       "    .dataframe tbody tr th:only-of-type {\n",
       "        vertical-align: middle;\n",
       "    }\n",
       "\n",
       "    .dataframe tbody tr th {\n",
       "        vertical-align: top;\n",
       "    }\n",
       "\n",
       "    .dataframe thead th {\n",
       "        text-align: right;\n",
       "    }\n",
       "</style>\n",
       "<table border=\"1\" class=\"dataframe\">\n",
       "  <thead>\n",
       "    <tr style=\"text-align: right;\">\n",
       "      <th></th>\n",
       "      <th>2011</th>\n",
       "      <th>2011-2013</th>\n",
       "      <th>2012</th>\n",
       "      <th>2013</th>\n",
       "    </tr>\n",
       "  </thead>\n",
       "  <tbody>\n",
       "    <tr>\n",
       "      <th>Variance</th>\n",
       "      <td>0.147488</td>\n",
       "      <td>0.107124</td>\n",
       "      <td>0.101184</td>\n",
       "      <td>0.073011</td>\n",
       "    </tr>\n",
       "    <tr>\n",
       "      <th>Std Dev</th>\n",
       "      <td>0.384041</td>\n",
       "      <td>0.327298</td>\n",
       "      <td>0.318094</td>\n",
       "      <td>0.270206</td>\n",
       "    </tr>\n",
       "    <tr>\n",
       "      <th>Mean</th>\n",
       "      <td>0.034918</td>\n",
       "      <td>0.319203</td>\n",
       "      <td>0.423422</td>\n",
       "      <td>0.500096</td>\n",
       "    </tr>\n",
       "  </tbody>\n",
       "</table>\n",
       "</div>"
      ],
      "text/plain": [
       "              2011  2011-2013      2012      2013\n",
       "Variance  0.147488   0.107124  0.101184  0.073011\n",
       "Std Dev   0.384041   0.327298  0.318094  0.270206\n",
       "Mean      0.034918   0.319203  0.423422  0.500096"
      ]
     },
     "execution_count": 22,
     "metadata": {},
     "output_type": "execute_result"
    }
   ],
   "source": [
    "import math\n",
    "d2 = {'2011-2013' : [amznvar1113*252,amznstd1113*math.sqrt(252),amznret1113*252],'2011' : [amznvar11*252,amznstd11*math.sqrt(252),amznret11*252],'2012' : [amznvar12*252,amznstd12*math.sqrt(252),amznret12*252], '2013' : [amznvar13*252,amznstd13*math.sqrt(252),amznret13*252]}\n",
    "pd.DataFrame(d2, index=['Variance', 'Std Dev', 'Mean'])"
   ]
  },
  {
   "cell_type": "markdown",
   "metadata": {},
   "source": [
    "Ignoring the order of columns the table above is the same as the output at the bottom of the page 126."
   ]
  },
  {
   "cell_type": "code",
   "execution_count": 23,
   "metadata": {},
   "outputs": [
    {
     "data": {
      "text/html": [
       "<div>\n",
       "<style scoped>\n",
       "    .dataframe tbody tr th:only-of-type {\n",
       "        vertical-align: middle;\n",
       "    }\n",
       "\n",
       "    .dataframe tbody tr th {\n",
       "        vertical-align: top;\n",
       "    }\n",
       "\n",
       "    .dataframe thead th {\n",
       "        text-align: right;\n",
       "    }\n",
       "</style>\n",
       "<table border=\"1\" class=\"dataframe\">\n",
       "  <thead>\n",
       "    <tr style=\"text-align: right;\">\n",
       "      <th></th>\n",
       "      <th>AMZN.AdjClose</th>\n",
       "      <th>AMZN.Returns</th>\n",
       "      <th>IBM.AdjClose</th>\n",
       "      <th>IBM.Returns</th>\n",
       "    </tr>\n",
       "    <tr>\n",
       "      <th>Date</th>\n",
       "      <th></th>\n",
       "      <th></th>\n",
       "      <th></th>\n",
       "      <th></th>\n",
       "    </tr>\n",
       "  </thead>\n",
       "  <tbody>\n",
       "    <tr>\n",
       "      <th>2010-12-31</th>\n",
       "      <td>180.000000</td>\n",
       "      <td>NaN</td>\n",
       "      <td>122.063370</td>\n",
       "      <td>NaN</td>\n",
       "    </tr>\n",
       "    <tr>\n",
       "      <th>2011-01-03</th>\n",
       "      <td>184.220001</td>\n",
       "      <td>0.023444</td>\n",
       "      <td>122.662216</td>\n",
       "      <td>0.004906</td>\n",
       "    </tr>\n",
       "    <tr>\n",
       "      <th>2011-01-04</th>\n",
       "      <td>185.009995</td>\n",
       "      <td>0.004288</td>\n",
       "      <td>122.795311</td>\n",
       "      <td>0.001085</td>\n",
       "    </tr>\n",
       "    <tr>\n",
       "      <th>2011-01-05</th>\n",
       "      <td>187.419998</td>\n",
       "      <td>0.013026</td>\n",
       "      <td>122.304588</td>\n",
       "      <td>-0.003996</td>\n",
       "    </tr>\n",
       "    <tr>\n",
       "      <th>2011-01-06</th>\n",
       "      <td>185.860001</td>\n",
       "      <td>-0.008324</td>\n",
       "      <td>123.643654</td>\n",
       "      <td>0.010949</td>\n",
       "    </tr>\n",
       "  </tbody>\n",
       "</table>\n",
       "</div>"
      ],
      "text/plain": [
       "            AMZN.AdjClose  AMZN.Returns  IBM.AdjClose  IBM.Returns\n",
       "Date                                                              \n",
       "2010-12-31     180.000000           NaN    122.063370          NaN\n",
       "2011-01-03     184.220001      0.023444    122.662216     0.004906\n",
       "2011-01-04     185.009995      0.004288    122.795311     0.001085\n",
       "2011-01-05     187.419998      0.013026    122.304588    -0.003996\n",
       "2011-01-06     185.860001     -0.008324    123.643654     0.010949"
      ]
     },
     "execution_count": 23,
     "metadata": {},
     "output_type": "execute_result"
    }
   ],
   "source": [
    "amzn_weight = 0.25\n",
    "ibm_weight = 0.75\n",
    "amzn2 = web.DataReader(\"AMZN\", 'yahoo', start, end)[['Adj Close']]\n",
    "amzn2['Returns'] = amzn2['Adj Close'].pct_change()\n",
    "amzn2.columns = ['AMZN.AdjClose','AMZN.Returns']\n",
    "ibm2 = web.DataReader(\"IBM\", 'yahoo', start, end)[['Adj Close']]\n",
    "ibm2['Returns'] = ibm2['Adj Close'].pct_change()\n",
    "ibm2.columns = ['IBM.AdjClose','IBM.Returns']\n",
    "rettable = pd.concat([amzn2,ibm2], join='outer',axis=1)\n",
    "rettable.head()"
   ]
  },
  {
   "cell_type": "code",
   "execution_count": 24,
   "metadata": {},
   "outputs": [
    {
     "name": "stdout",
     "output_type": "stream",
     "text": [
      "0.32729797097 0.192347640272\n"
     ]
    }
   ],
   "source": [
    "amznstd = rettable['AMZN.Returns'].std()*math.sqrt(252)\n",
    "ibmstd = rettable['IBM.Returns'].std()*math.sqrt(252)\n",
    "print amznstd, ibmstd"
   ]
  },
  {
   "cell_type": "code",
   "execution_count": 25,
   "metadata": {},
   "outputs": [
    {
     "name": "stdout",
     "output_type": "stream",
     "text": [
      "0.0232695803999\n"
     ]
    }
   ],
   "source": [
    "amznibmcov = rettable[['AMZN.Returns','IBM.Returns']].cov()['AMZN.Returns'][1]*252\n",
    "print amznibmcov"
   ]
  },
  {
   "cell_type": "code",
   "execution_count": 26,
   "metadata": {},
   "outputs": [
    {
     "data": {
      "text/plain": [
       "0.36962247979750362"
      ]
     },
     "execution_count": 26,
     "metadata": {},
     "output_type": "execute_result"
    }
   ],
   "source": [
    "rettable[['AMZN.Returns','IBM.Returns']].corr()['AMZN.Returns'][1]"
   ]
  },
  {
   "cell_type": "code",
   "execution_count": 27,
   "metadata": {},
   "outputs": [
    {
     "data": {
      "text/plain": [
       "0.023269580399883222"
      ]
     },
     "execution_count": 27,
     "metadata": {},
     "output_type": "execute_result"
    }
   ],
   "source": [
    "rettable[['AMZN.Returns','IBM.Returns']].corr()['AMZN.Returns'][1]*amznstd*ibmstd"
   ]
  },
  {
   "cell_type": "code",
   "execution_count": 28,
   "metadata": {},
   "outputs": [
    {
     "data": {
      "text/plain": [
       "0.036232498541601932"
      ]
     },
     "execution_count": 28,
     "metadata": {},
     "output_type": "execute_result"
    }
   ],
   "source": [
    "amzn_weight**2*amznstd**2+ibm_weight**2*ibmstd**2+2*amznibmcov*amzn_weight*ibm_weight"
   ]
  },
  {
   "cell_type": "code",
   "execution_count": 29,
   "metadata": {},
   "outputs": [
    {
     "data": {
      "text/plain": [
       "0.19034836101632693"
      ]
     },
     "execution_count": 29,
     "metadata": {},
     "output_type": "execute_result"
    }
   ],
   "source": [
    "math.sqrt(amzn_weight**2*amznstd**2+ibm_weight**2*ibmstd**2+2*amznibmcov*amzn_weight*ibm_weight)"
   ]
  },
  {
   "cell_type": "code",
   "execution_count": 30,
   "metadata": {},
   "outputs": [],
   "source": [
    "rettable['PortReturn'] = rettable['AMZN.Returns']*amzn_weight+rettable['IBM.Returns']*ibm_weight"
   ]
  },
  {
   "cell_type": "code",
   "execution_count": 31,
   "metadata": {},
   "outputs": [
    {
     "data": {
      "text/plain": [
       "0.036232498541601939"
      ]
     },
     "execution_count": 31,
     "metadata": {},
     "output_type": "execute_result"
    }
   ],
   "source": [
    "rettable['PortReturn'].var()*252"
   ]
  },
  {
   "cell_type": "code",
   "execution_count": 32,
   "metadata": {},
   "outputs": [
    {
     "data": {
      "text/plain": [
       "0.19034836101632696"
      ]
     },
     "execution_count": 32,
     "metadata": {},
     "output_type": "execute_result"
    }
   ],
   "source": [
    "rettable['PortReturn'].std()*math.sqrt(252)"
   ]
  },
  {
   "cell_type": "markdown",
   "metadata": {},
   "source": [
    "The figures above are the same ones as on pages 127-130. I have also reconfirmed by calculating portfolio returns directly and taking its standard deviation / variance."
   ]
  },
  {
   "cell_type": "code",
   "execution_count": null,
   "metadata": {},
   "outputs": [],
   "source": []
  }
 ],
 "metadata": {
  "kernelspec": {
   "display_name": "Python 2",
   "language": "python",
   "name": "python2"
  },
  "language_info": {
   "codemirror_mode": {
    "name": "ipython",
    "version": 2
   },
   "file_extension": ".py",
   "mimetype": "text/x-python",
   "name": "python",
   "nbconvert_exporter": "python",
   "pygments_lexer": "ipython2",
   "version": "2.7.11"
  }
 },
 "nbformat": 4,
 "nbformat_minor": 2
}
