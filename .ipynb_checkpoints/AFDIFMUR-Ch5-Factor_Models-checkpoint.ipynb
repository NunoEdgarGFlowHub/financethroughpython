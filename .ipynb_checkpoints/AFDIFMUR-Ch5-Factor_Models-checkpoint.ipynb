{
 "cells": [
  {
   "cell_type": "code",
   "execution_count": 1,
   "metadata": {},
   "outputs": [],
   "source": [
    "from pandas_datareader.famafrench import get_available_datasets\n",
    "import pandas_datareader.data as web\n",
    "import numpy as np\n",
    "import pandas as pd\n",
    "import datetime\n",
    "import matplotlib.pyplot as plt\n",
    "%matplotlib inline"
   ]
  },
  {
   "cell_type": "code",
   "execution_count": 2,
   "metadata": {},
   "outputs": [
    {
     "data": {
      "text/plain": [
       "2011-01-31    0.085639\n",
       "2011-02-28    0.099346\n",
       "2011-03-31    0.060996\n",
       "2011-04-30    0.107719\n",
       "2011-05-31   -0.019119\n",
       "Freq: M, dtype: float64"
      ]
     },
     "execution_count": 2,
     "metadata": {},
     "output_type": "execute_result"
    }
   ],
   "source": [
    "hp = pd.Series(np.random.uniform(-0.05, 0.15, 36), index=pd.date_range('1/1/2011', periods=36, freq='M'))\n",
    "hp.head()"
   ]
  },
  {
   "cell_type": "code",
   "execution_count": 3,
   "metadata": {},
   "outputs": [
    {
     "data": {
      "text/html": [
       "<div>\n",
       "<style scoped>\n",
       "    .dataframe tbody tr th:only-of-type {\n",
       "        vertical-align: middle;\n",
       "    }\n",
       "\n",
       "    .dataframe tbody tr th {\n",
       "        vertical-align: top;\n",
       "    }\n",
       "\n",
       "    .dataframe thead th {\n",
       "        text-align: right;\n",
       "    }\n",
       "</style>\n",
       "<table border=\"1\" class=\"dataframe\">\n",
       "  <thead>\n",
       "    <tr style=\"text-align: right;\">\n",
       "      <th></th>\n",
       "      <th>Adj Close</th>\n",
       "    </tr>\n",
       "    <tr>\n",
       "      <th>Date</th>\n",
       "      <th></th>\n",
       "    </tr>\n",
       "  </thead>\n",
       "  <tbody>\n",
       "    <tr>\n",
       "      <th>2011-01-31</th>\n",
       "      <td>0.022646</td>\n",
       "    </tr>\n",
       "    <tr>\n",
       "      <th>2011-02-28</th>\n",
       "      <td>0.031957</td>\n",
       "    </tr>\n",
       "    <tr>\n",
       "      <th>2011-03-31</th>\n",
       "      <td>-0.001047</td>\n",
       "    </tr>\n",
       "    <tr>\n",
       "      <th>2011-04-30</th>\n",
       "      <td>0.028495</td>\n",
       "    </tr>\n",
       "    <tr>\n",
       "      <th>2011-05-31</th>\n",
       "      <td>-0.013501</td>\n",
       "    </tr>\n",
       "  </tbody>\n",
       "</table>\n",
       "</div>"
      ],
      "text/plain": [
       "            Adj Close\n",
       "Date                 \n",
       "2011-01-31   0.022646\n",
       "2011-02-28   0.031957\n",
       "2011-03-31  -0.001047\n",
       "2011-04-30   0.028495\n",
       "2011-05-31  -0.013501"
      ]
     },
     "execution_count": 3,
     "metadata": {},
     "output_type": "execute_result"
    }
   ],
   "source": [
    "start = datetime.datetime(2010, 12, 31)\n",
    "end = datetime.datetime(2013, 12, 31)\n",
    "gspc = web.DataReader(\"^GSPC\", 'yahoo', start, end)[['Adj Close']]\n",
    "gspc = gspc.resample('M').last().pct_change()[1:]\n",
    "gspc.head()"
   ]
  },
  {
   "cell_type": "code",
   "execution_count": 4,
   "metadata": {},
   "outputs": [],
   "source": [
    "from __future__ import division\n",
    "pd.options.display.float_format = '{:.7f}'.format\n",
    "us3m = web.DataReader(\"DGS3MO\", \"fred\", start, end)[1:]\n",
    "us3m = us3m.resample('M').last()\n",
    "us3m['DGS3MO'] = (1+us3m['DGS3MO']/100)**(1/12)-1"
   ]
  },
  {
   "cell_type": "code",
   "execution_count": 5,
   "metadata": {},
   "outputs": [
    {
     "data": {
      "text/html": [
       "<div>\n",
       "<style scoped>\n",
       "    .dataframe tbody tr th:only-of-type {\n",
       "        vertical-align: middle;\n",
       "    }\n",
       "\n",
       "    .dataframe tbody tr th {\n",
       "        vertical-align: top;\n",
       "    }\n",
       "\n",
       "    .dataframe thead th {\n",
       "        text-align: right;\n",
       "    }\n",
       "</style>\n",
       "<table border=\"1\" class=\"dataframe\">\n",
       "  <thead>\n",
       "    <tr style=\"text-align: right;\">\n",
       "      <th></th>\n",
       "      <th>DGS3MO</th>\n",
       "    </tr>\n",
       "    <tr>\n",
       "      <th>DATE</th>\n",
       "      <th></th>\n",
       "    </tr>\n",
       "  </thead>\n",
       "  <tbody>\n",
       "    <tr>\n",
       "      <th>2011-01-31</th>\n",
       "      <td>0.0001249</td>\n",
       "    </tr>\n",
       "    <tr>\n",
       "      <th>2011-02-28</th>\n",
       "      <td>0.0001249</td>\n",
       "    </tr>\n",
       "    <tr>\n",
       "      <th>2011-03-31</th>\n",
       "      <td>0.0000750</td>\n",
       "    </tr>\n",
       "    <tr>\n",
       "      <th>2011-04-30</th>\n",
       "      <td>0.0000333</td>\n",
       "    </tr>\n",
       "    <tr>\n",
       "      <th>2011-05-31</th>\n",
       "      <td>0.0000500</td>\n",
       "    </tr>\n",
       "  </tbody>\n",
       "</table>\n",
       "</div>"
      ],
      "text/plain": [
       "              DGS3MO\n",
       "DATE                \n",
       "2011-01-31 0.0001249\n",
       "2011-02-28 0.0001249\n",
       "2011-03-31 0.0000750\n",
       "2011-04-30 0.0000333\n",
       "2011-05-31 0.0000500"
      ]
     },
     "execution_count": 5,
     "metadata": {},
     "output_type": "execute_result"
    }
   ],
   "source": [
    "us3m.head()"
   ]
  },
  {
   "cell_type": "code",
   "execution_count": 6,
   "metadata": {},
   "outputs": [
    {
     "data": {
      "text/html": [
       "<div>\n",
       "<style scoped>\n",
       "    .dataframe tbody tr th:only-of-type {\n",
       "        vertical-align: middle;\n",
       "    }\n",
       "\n",
       "    .dataframe tbody tr th {\n",
       "        vertical-align: top;\n",
       "    }\n",
       "\n",
       "    .dataframe thead th {\n",
       "        text-align: right;\n",
       "    }\n",
       "</style>\n",
       "<table border=\"1\" class=\"dataframe\">\n",
       "  <thead>\n",
       "    <tr style=\"text-align: right;\">\n",
       "      <th></th>\n",
       "      <th>mkt_ret</th>\n",
       "      <th>rf</th>\n",
       "      <th>port_ret</th>\n",
       "    </tr>\n",
       "    <tr>\n",
       "      <th>Date</th>\n",
       "      <th></th>\n",
       "      <th></th>\n",
       "      <th></th>\n",
       "    </tr>\n",
       "  </thead>\n",
       "  <tbody>\n",
       "    <tr>\n",
       "      <th>2011-01-31</th>\n",
       "      <td>0.0226456</td>\n",
       "      <td>0.0001249</td>\n",
       "      <td>0.0856385</td>\n",
       "    </tr>\n",
       "    <tr>\n",
       "      <th>2011-02-28</th>\n",
       "      <td>0.0319566</td>\n",
       "      <td>0.0001249</td>\n",
       "      <td>0.0993463</td>\n",
       "    </tr>\n",
       "    <tr>\n",
       "      <th>2011-03-31</th>\n",
       "      <td>-0.0010473</td>\n",
       "      <td>0.0000750</td>\n",
       "      <td>0.0609960</td>\n",
       "    </tr>\n",
       "    <tr>\n",
       "      <th>2011-04-30</th>\n",
       "      <td>0.0284954</td>\n",
       "      <td>0.0000333</td>\n",
       "      <td>0.1077185</td>\n",
       "    </tr>\n",
       "    <tr>\n",
       "      <th>2011-05-31</th>\n",
       "      <td>-0.0135010</td>\n",
       "      <td>0.0000500</td>\n",
       "      <td>-0.0191188</td>\n",
       "    </tr>\n",
       "  </tbody>\n",
       "</table>\n",
       "</div>"
      ],
      "text/plain": [
       "              mkt_ret        rf   port_ret\n",
       "Date                                      \n",
       "2011-01-31  0.0226456 0.0001249  0.0856385\n",
       "2011-02-28  0.0319566 0.0001249  0.0993463\n",
       "2011-03-31 -0.0010473 0.0000750  0.0609960\n",
       "2011-04-30  0.0284954 0.0000333  0.1077185\n",
       "2011-05-31 -0.0135010 0.0000500 -0.0191188"
      ]
     },
     "execution_count": 6,
     "metadata": {},
     "output_type": "execute_result"
    }
   ],
   "source": [
    "tbl = pd.concat([gspc,us3m,hp], join='outer', axis = 1)\n",
    "tbl.columns = ['mkt_ret','rf','port_ret']\n",
    "tbl.head()"
   ]
  },
  {
   "cell_type": "markdown",
   "metadata": {},
   "source": [
    "The output above is similar to the one on the page 168, expecept for the hypothetical portfolio performance returns."
   ]
  },
  {
   "cell_type": "code",
   "execution_count": 7,
   "metadata": {},
   "outputs": [],
   "source": [
    "tbl['pr_rf'] = tbl['port_ret'] - tbl['rf']\n",
    "tbl['mr_rf'] = tbl['mkt_ret'] - tbl['rf']"
   ]
  },
  {
   "cell_type": "code",
   "execution_count": 8,
   "metadata": {},
   "outputs": [
    {
     "data": {
      "text/html": [
       "<div>\n",
       "<style scoped>\n",
       "    .dataframe tbody tr th:only-of-type {\n",
       "        vertical-align: middle;\n",
       "    }\n",
       "\n",
       "    .dataframe tbody tr th {\n",
       "        vertical-align: top;\n",
       "    }\n",
       "\n",
       "    .dataframe thead th {\n",
       "        text-align: right;\n",
       "    }\n",
       "</style>\n",
       "<table border=\"1\" class=\"dataframe\">\n",
       "  <thead>\n",
       "    <tr style=\"text-align: right;\">\n",
       "      <th></th>\n",
       "      <th>mkt_ret</th>\n",
       "      <th>rf</th>\n",
       "      <th>port_ret</th>\n",
       "      <th>pr_rf</th>\n",
       "      <th>mr_rf</th>\n",
       "    </tr>\n",
       "    <tr>\n",
       "      <th>Date</th>\n",
       "      <th></th>\n",
       "      <th></th>\n",
       "      <th></th>\n",
       "      <th></th>\n",
       "      <th></th>\n",
       "    </tr>\n",
       "  </thead>\n",
       "  <tbody>\n",
       "    <tr>\n",
       "      <th>2011-01-31</th>\n",
       "      <td>0.0226456</td>\n",
       "      <td>0.0001249</td>\n",
       "      <td>0.0856385</td>\n",
       "      <td>0.0855136</td>\n",
       "      <td>0.0225207</td>\n",
       "    </tr>\n",
       "    <tr>\n",
       "      <th>2011-02-28</th>\n",
       "      <td>0.0319566</td>\n",
       "      <td>0.0001249</td>\n",
       "      <td>0.0993463</td>\n",
       "      <td>0.0992214</td>\n",
       "      <td>0.0318316</td>\n",
       "    </tr>\n",
       "    <tr>\n",
       "      <th>2011-03-31</th>\n",
       "      <td>-0.0010473</td>\n",
       "      <td>0.0000750</td>\n",
       "      <td>0.0609960</td>\n",
       "      <td>0.0609211</td>\n",
       "      <td>-0.0011223</td>\n",
       "    </tr>\n",
       "    <tr>\n",
       "      <th>2011-04-30</th>\n",
       "      <td>0.0284954</td>\n",
       "      <td>0.0000333</td>\n",
       "      <td>0.1077185</td>\n",
       "      <td>0.1076852</td>\n",
       "      <td>0.0284621</td>\n",
       "    </tr>\n",
       "    <tr>\n",
       "      <th>2011-05-31</th>\n",
       "      <td>-0.0135010</td>\n",
       "      <td>0.0000500</td>\n",
       "      <td>-0.0191188</td>\n",
       "      <td>-0.0191688</td>\n",
       "      <td>-0.0135509</td>\n",
       "    </tr>\n",
       "  </tbody>\n",
       "</table>\n",
       "</div>"
      ],
      "text/plain": [
       "              mkt_ret        rf   port_ret      pr_rf      mr_rf\n",
       "Date                                                            \n",
       "2011-01-31  0.0226456 0.0001249  0.0856385  0.0855136  0.0225207\n",
       "2011-02-28  0.0319566 0.0001249  0.0993463  0.0992214  0.0318316\n",
       "2011-03-31 -0.0010473 0.0000750  0.0609960  0.0609211 -0.0011223\n",
       "2011-04-30  0.0284954 0.0000333  0.1077185  0.1076852  0.0284621\n",
       "2011-05-31 -0.0135010 0.0000500 -0.0191188 -0.0191688 -0.0135509"
      ]
     },
     "execution_count": 8,
     "metadata": {},
     "output_type": "execute_result"
    }
   ],
   "source": [
    "tbl.head()"
   ]
  },
  {
   "cell_type": "code",
   "execution_count": 9,
   "metadata": {
    "scrolled": false
   },
   "outputs": [
    {
     "data": {
      "text/html": [
       "<table class=\"simpletable\">\n",
       "<caption>OLS Regression Results</caption>\n",
       "<tr>\n",
       "  <th>Dep. Variable:</th>          <td>pr_rf</td>      <th>  R-squared:         </th> <td>   0.097</td>\n",
       "</tr>\n",
       "<tr>\n",
       "  <th>Model:</th>                   <td>OLS</td>       <th>  Adj. R-squared:    </th> <td>   0.071</td>\n",
       "</tr>\n",
       "<tr>\n",
       "  <th>Method:</th>             <td>Least Squares</td>  <th>  F-statistic:       </th> <td>   3.668</td>\n",
       "</tr>\n",
       "<tr>\n",
       "  <th>Date:</th>             <td>Wed, 15 Nov 2017</td> <th>  Prob (F-statistic):</th>  <td>0.0639</td> \n",
       "</tr>\n",
       "<tr>\n",
       "  <th>Time:</th>                 <td>20:10:35</td>     <th>  Log-Likelihood:    </th> <td>  59.492</td>\n",
       "</tr>\n",
       "<tr>\n",
       "  <th>No. Observations:</th>      <td>    36</td>      <th>  AIC:               </th> <td>  -115.0</td>\n",
       "</tr>\n",
       "<tr>\n",
       "  <th>Df Residuals:</th>          <td>    34</td>      <th>  BIC:               </th> <td>  -111.8</td>\n",
       "</tr>\n",
       "<tr>\n",
       "  <th>Df Model:</th>              <td>     1</td>      <th>                     </th>     <td> </td>   \n",
       "</tr>\n",
       "<tr>\n",
       "  <th>Covariance Type:</th>      <td>nonrobust</td>    <th>                     </th>     <td> </td>   \n",
       "</tr>\n",
       "</table>\n",
       "<table class=\"simpletable\">\n",
       "<tr>\n",
       "      <td></td>         <th>coef</th>     <th>std err</th>      <th>t</th>      <th>P>|t|</th>  <th>[0.025</th>    <th>0.975]</th>  \n",
       "</tr>\n",
       "<tr>\n",
       "  <th>Intercept</th> <td>    0.0538</td> <td>    0.008</td> <td>    6.434</td> <td> 0.000</td> <td>    0.037</td> <td>    0.071</td>\n",
       "</tr>\n",
       "<tr>\n",
       "  <th>mr_rf</th>     <td>    0.4405</td> <td>    0.230</td> <td>    1.915</td> <td> 0.064</td> <td>   -0.027</td> <td>    0.908</td>\n",
       "</tr>\n",
       "</table>\n",
       "<table class=\"simpletable\">\n",
       "<tr>\n",
       "  <th>Omnibus:</th>       <td> 2.013</td> <th>  Durbin-Watson:     </th> <td>   1.874</td>\n",
       "</tr>\n",
       "<tr>\n",
       "  <th>Prob(Omnibus):</th> <td> 0.365</td> <th>  Jarque-Bera (JB):  </th> <td>   1.247</td>\n",
       "</tr>\n",
       "<tr>\n",
       "  <th>Skew:</th>          <td>-0.131</td> <th>  Prob(JB):          </th> <td>   0.536</td>\n",
       "</tr>\n",
       "<tr>\n",
       "  <th>Kurtosis:</th>      <td> 2.127</td> <th>  Cond. No.          </th> <td>    28.9</td>\n",
       "</tr>\n",
       "</table>"
      ],
      "text/plain": [
       "<class 'statsmodels.iolib.summary.Summary'>\n",
       "\"\"\"\n",
       "                            OLS Regression Results                            \n",
       "==============================================================================\n",
       "Dep. Variable:                  pr_rf   R-squared:                       0.097\n",
       "Model:                            OLS   Adj. R-squared:                  0.071\n",
       "Method:                 Least Squares   F-statistic:                     3.668\n",
       "Date:                Wed, 15 Nov 2017   Prob (F-statistic):             0.0639\n",
       "Time:                        20:10:35   Log-Likelihood:                 59.492\n",
       "No. Observations:                  36   AIC:                            -115.0\n",
       "Df Residuals:                      34   BIC:                            -111.8\n",
       "Df Model:                           1                                         \n",
       "Covariance Type:            nonrobust                                         \n",
       "==============================================================================\n",
       "                 coef    std err          t      P>|t|      [0.025      0.975]\n",
       "------------------------------------------------------------------------------\n",
       "Intercept      0.0538      0.008      6.434      0.000       0.037       0.071\n",
       "mr_rf          0.4405      0.230      1.915      0.064      -0.027       0.908\n",
       "==============================================================================\n",
       "Omnibus:                        2.013   Durbin-Watson:                   1.874\n",
       "Prob(Omnibus):                  0.365   Jarque-Bera (JB):                1.247\n",
       "Skew:                          -0.131   Prob(JB):                        0.536\n",
       "Kurtosis:                       2.127   Cond. No.                         28.9\n",
       "==============================================================================\n",
       "\n",
       "Warnings:\n",
       "[1] Standard Errors assume that the covariance matrix of the errors is correctly specified.\n",
       "\"\"\""
      ]
     },
     "execution_count": 9,
     "metadata": {},
     "output_type": "execute_result"
    }
   ],
   "source": [
    "import statsmodels.formula.api as sm\n",
    "result = sm.ols(formula=\"pr_rf ~ mr_rf\", data=tbl).fit()\n",
    "result.summary()"
   ]
  },
  {
   "cell_type": "code",
   "execution_count": 10,
   "metadata": {
    "scrolled": false
   },
   "outputs": [
    {
     "data": {
      "text/plain": [
       "[<matplotlib.lines.Line2D at 0x10c520b50>]"
      ]
     },
     "execution_count": 10,
     "metadata": {},
     "output_type": "execute_result"
    },
    {
     "data": {
      "image/png": "[encoded data removed]",
      "text/plain": [
       "<matplotlib.figure.Figure at 0x10c4b31d0>"
      ]
     },
     "metadata": {},
     "output_type": "display_data"
    }
   ],
   "source": [
    "plt.scatter(tbl['mr_rf'],tbl['pr_rf'])\n",
    "plt.plot(tbl['mr_rf'], result.fittedvalues,'g')"
   ]
  },
  {
   "cell_type": "code",
   "execution_count": 11,
   "metadata": {
    "scrolled": false
   },
   "outputs": [
    {
     "data": {
      "text/html": [
       "<table class=\"simpletable\">\n",
       "<caption>OLS Regression Results</caption>\n",
       "<tr>\n",
       "  <th>Dep. Variable:</th>        <td>port_ret</td>     <th>  R-squared:         </th> <td>   0.097</td>\n",
       "</tr>\n",
       "<tr>\n",
       "  <th>Model:</th>                   <td>OLS</td>       <th>  Adj. R-squared:    </th> <td>   0.071</td>\n",
       "</tr>\n",
       "<tr>\n",
       "  <th>Method:</th>             <td>Least Squares</td>  <th>  F-statistic:       </th> <td>   3.669</td>\n",
       "</tr>\n",
       "<tr>\n",
       "  <th>Date:</th>             <td>Wed, 15 Nov 2017</td> <th>  Prob (F-statistic):</th>  <td>0.0639</td> \n",
       "</tr>\n",
       "<tr>\n",
       "  <th>Time:</th>                 <td>20:10:35</td>     <th>  Log-Likelihood:    </th> <td>  59.492</td>\n",
       "</tr>\n",
       "<tr>\n",
       "  <th>No. Observations:</th>      <td>    36</td>      <th>  AIC:               </th> <td>  -115.0</td>\n",
       "</tr>\n",
       "<tr>\n",
       "  <th>Df Residuals:</th>          <td>    34</td>      <th>  BIC:               </th> <td>  -111.8</td>\n",
       "</tr>\n",
       "<tr>\n",
       "  <th>Df Model:</th>              <td>     1</td>      <th>                     </th>     <td> </td>   \n",
       "</tr>\n",
       "<tr>\n",
       "  <th>Covariance Type:</th>      <td>nonrobust</td>    <th>                     </th>     <td> </td>   \n",
       "</tr>\n",
       "</table>\n",
       "<table class=\"simpletable\">\n",
       "<tr>\n",
       "      <td></td>         <th>coef</th>     <th>std err</th>      <th>t</th>      <th>P>|t|</th>  <th>[0.025</th>    <th>0.975]</th>  \n",
       "</tr>\n",
       "<tr>\n",
       "  <th>Intercept</th> <td>    0.0538</td> <td>    0.008</td> <td>    6.435</td> <td> 0.000</td> <td>    0.037</td> <td>    0.071</td>\n",
       "</tr>\n",
       "<tr>\n",
       "  <th>mkt_ret</th>   <td>    0.4405</td> <td>    0.230</td> <td>    1.915</td> <td> 0.064</td> <td>   -0.027</td> <td>    0.908</td>\n",
       "</tr>\n",
       "</table>\n",
       "<table class=\"simpletable\">\n",
       "<tr>\n",
       "  <th>Omnibus:</th>       <td> 2.015</td> <th>  Durbin-Watson:     </th> <td>   1.873</td>\n",
       "</tr>\n",
       "<tr>\n",
       "  <th>Prob(Omnibus):</th> <td> 0.365</td> <th>  Jarque-Bera (JB):  </th> <td>   1.248</td>\n",
       "</tr>\n",
       "<tr>\n",
       "  <th>Skew:</th>          <td>-0.131</td> <th>  Prob(JB):          </th> <td>   0.536</td>\n",
       "</tr>\n",
       "<tr>\n",
       "  <th>Kurtosis:</th>      <td> 2.126</td> <th>  Cond. No.          </th> <td>    28.9</td>\n",
       "</tr>\n",
       "</table>"
      ],
      "text/plain": [
       "<class 'statsmodels.iolib.summary.Summary'>\n",
       "\"\"\"\n",
       "                            OLS Regression Results                            \n",
       "==============================================================================\n",
       "Dep. Variable:               port_ret   R-squared:                       0.097\n",
       "Model:                            OLS   Adj. R-squared:                  0.071\n",
       "Method:                 Least Squares   F-statistic:                     3.669\n",
       "Date:                Wed, 15 Nov 2017   Prob (F-statistic):             0.0639\n",
       "Time:                        20:10:35   Log-Likelihood:                 59.492\n",
       "No. Observations:                  36   AIC:                            -115.0\n",
       "Df Residuals:                      34   BIC:                            -111.8\n",
       "Df Model:                           1                                         \n",
       "Covariance Type:            nonrobust                                         \n",
       "==============================================================================\n",
       "                 coef    std err          t      P>|t|      [0.025      0.975]\n",
       "------------------------------------------------------------------------------\n",
       "Intercept      0.0538      0.008      6.435      0.000       0.037       0.071\n",
       "mkt_ret        0.4405      0.230      1.915      0.064      -0.027       0.908\n",
       "==============================================================================\n",
       "Omnibus:                        2.015   Durbin-Watson:                   1.873\n",
       "Prob(Omnibus):                  0.365   Jarque-Bera (JB):                1.248\n",
       "Skew:                          -0.131   Prob(JB):                        0.536\n",
       "Kurtosis:                       2.126   Cond. No.                         28.9\n",
       "==============================================================================\n",
       "\n",
       "Warnings:\n",
       "[1] Standard Errors assume that the covariance matrix of the errors is correctly specified.\n",
       "\"\"\""
      ]
     },
     "execution_count": 11,
     "metadata": {},
     "output_type": "execute_result"
    }
   ],
   "source": [
    "result2 = sm.ols(formula=\"port_ret ~ mkt_ret\", data=tbl).fit()\n",
    "result2.summary()"
   ]
  },
  {
   "cell_type": "code",
   "execution_count": 12,
   "metadata": {},
   "outputs": [
    {
     "data": {
      "text/plain": [
       "[<matplotlib.lines.Line2D at 0x10c60c910>]"
      ]
     },
     "execution_count": 12,
     "metadata": {},
     "output_type": "execute_result"
    },
    {
     "data": {
      "image/png": "[encoded data removed]",
      "text/plain": [
       "<matplotlib.figure.Figure at 0x10c5bb690>"
      ]
     },
     "metadata": {},
     "output_type": "display_data"
    }
   ],
   "source": [
    "plt.scatter(tbl['mkt_ret'],tbl['port_ret'])\n",
    "plt.plot(tbl['mkt_ret'], result2.fittedvalues,'g')"
   ]
  },
  {
   "cell_type": "code",
   "execution_count": 13,
   "metadata": {},
   "outputs": [],
   "source": [
    "start = datetime.datetime(2010, 12, 31)\n",
    "end = datetime.datetime(2013, 12, 31)\n",
    "gspc = web.DataReader(\"^GSPC\", 'yahoo', start, end)[['Adj Close']].pct_change()\n",
    "amzn = web.DataReader(\"AMZN\", 'yahoo', start, end)[['Adj Close']].pct_change()"
   ]
  },
  {
   "cell_type": "code",
   "execution_count": 14,
   "metadata": {},
   "outputs": [
    {
     "data": {
      "text/html": [
       "<div>\n",
       "<style scoped>\n",
       "    .dataframe tbody tr th:only-of-type {\n",
       "        vertical-align: middle;\n",
       "    }\n",
       "\n",
       "    .dataframe tbody tr th {\n",
       "        vertical-align: top;\n",
       "    }\n",
       "\n",
       "    .dataframe thead th {\n",
       "        text-align: right;\n",
       "    }\n",
       "</style>\n",
       "<table border=\"1\" class=\"dataframe\">\n",
       "  <thead>\n",
       "    <tr style=\"text-align: right;\">\n",
       "      <th></th>\n",
       "      <th>AMZNr</th>\n",
       "      <th>GSPCr</th>\n",
       "      <th>250beta</th>\n",
       "      <th>250alpha</th>\n",
       "    </tr>\n",
       "    <tr>\n",
       "      <th>Date</th>\n",
       "      <th></th>\n",
       "      <th></th>\n",
       "      <th></th>\n",
       "      <th></th>\n",
       "    </tr>\n",
       "  </thead>\n",
       "  <tbody>\n",
       "    <tr>\n",
       "      <th>2013-12-24</th>\n",
       "      <td>-0.0092326</td>\n",
       "      <td>0.0029157</td>\n",
       "      <td>1.2594895</td>\n",
       "      <td>0.0007193</td>\n",
       "    </tr>\n",
       "    <tr>\n",
       "      <th>2013-12-26</th>\n",
       "      <td>0.0130010</td>\n",
       "      <td>0.0047455</td>\n",
       "      <td>1.2619081</td>\n",
       "      <td>0.0007394</td>\n",
       "    </tr>\n",
       "    <tr>\n",
       "      <th>2013-12-27</th>\n",
       "      <td>-0.0156038</td>\n",
       "      <td>-0.0003366</td>\n",
       "      <td>1.2622950</td>\n",
       "      <td>0.0006710</td>\n",
       "    </tr>\n",
       "    <tr>\n",
       "      <th>2013-12-30</th>\n",
       "      <td>-0.0118318</td>\n",
       "      <td>-0.0001793</td>\n",
       "      <td>1.2783866</td>\n",
       "      <td>0.0006349</td>\n",
       "    </tr>\n",
       "    <tr>\n",
       "      <th>2013-12-31</th>\n",
       "      <td>0.0137784</td>\n",
       "      <td>0.0039597</td>\n",
       "      <td>1.2822029</td>\n",
       "      <td>0.0006373</td>\n",
       "    </tr>\n",
       "  </tbody>\n",
       "</table>\n",
       "</div>"
      ],
      "text/plain": [
       "                AMZNr      GSPCr   250beta  250alpha\n",
       "Date                                                \n",
       "2013-12-24 -0.0092326  0.0029157 1.2594895 0.0007193\n",
       "2013-12-26  0.0130010  0.0047455 1.2619081 0.0007394\n",
       "2013-12-27 -0.0156038 -0.0003366 1.2622950 0.0006710\n",
       "2013-12-30 -0.0118318 -0.0001793 1.2783866 0.0006349\n",
       "2013-12-31  0.0137784  0.0039597 1.2822029 0.0006373"
      ]
     },
     "execution_count": 14,
     "metadata": {},
     "output_type": "execute_result"
    }
   ],
   "source": [
    "tbl2 = pd.concat([amzn,gspc], axis=1, join='outer')[1:]\n",
    "tbl2.columns = ['AMZNr','GSPCr']\n",
    "tbl2['250beta'] = tbl2['GSPCr'].rolling(window=250).cov(tbl2['AMZNr'])/tbl2['GSPCr'].rolling(window=250).var()\n",
    "tbl2['250alpha'] = tbl2['AMZNr'].rolling(window=250).mean() - tbl2['250beta'] * tbl2['GSPCr'].rolling(window=250).mean()\n",
    "tbl2.tail()"
   ]
  },
  {
   "cell_type": "markdown",
   "metadata": {},
   "source": [
    "These values are very similar to the ones in outs on pages 173 to 175."
   ]
  },
  {
   "cell_type": "code",
   "execution_count": 15,
   "metadata": {},
   "outputs": [
    {
     "data": {
      "text/html": [
       "<table class=\"simpletable\">\n",
       "<caption>OLS Regression Results</caption>\n",
       "<tr>\n",
       "  <th>Dep. Variable:</th>          <td>AMZNr</td>      <th>  R-squared:         </th> <td>   0.264</td>\n",
       "</tr>\n",
       "<tr>\n",
       "  <th>Model:</th>                   <td>OLS</td>       <th>  Adj. R-squared:    </th> <td>   0.261</td>\n",
       "</tr>\n",
       "<tr>\n",
       "  <th>Method:</th>             <td>Least Squares</td>  <th>  F-statistic:       </th> <td>   89.09</td>\n",
       "</tr>\n",
       "<tr>\n",
       "  <th>Date:</th>             <td>Wed, 15 Nov 2017</td> <th>  Prob (F-statistic):</th> <td>2.89e-18</td>\n",
       "</tr>\n",
       "<tr>\n",
       "  <th>Time:</th>                 <td>20:10:39</td>     <th>  Log-Likelihood:    </th> <td>  702.44</td>\n",
       "</tr>\n",
       "<tr>\n",
       "  <th>No. Observations:</th>      <td>   250</td>      <th>  AIC:               </th> <td>  -1401.</td>\n",
       "</tr>\n",
       "<tr>\n",
       "  <th>Df Residuals:</th>          <td>   248</td>      <th>  BIC:               </th> <td>  -1394.</td>\n",
       "</tr>\n",
       "<tr>\n",
       "  <th>Df Model:</th>              <td>     1</td>      <th>                     </th>     <td> </td>   \n",
       "</tr>\n",
       "<tr>\n",
       "  <th>Covariance Type:</th>      <td>nonrobust</td>    <th>                     </th>     <td> </td>   \n",
       "</tr>\n",
       "</table>\n",
       "<table class=\"simpletable\">\n",
       "<tr>\n",
       "      <td></td>         <th>coef</th>     <th>std err</th>      <th>t</th>      <th>P>|t|</th>  <th>[0.025</th>    <th>0.975]</th>  \n",
       "</tr>\n",
       "<tr>\n",
       "  <th>Intercept</th> <td>    0.0006</td> <td>    0.001</td> <td>    0.682</td> <td> 0.496</td> <td>   -0.001</td> <td>    0.002</td>\n",
       "</tr>\n",
       "<tr>\n",
       "  <th>GSPCr</th>     <td>    1.2822</td> <td>    0.136</td> <td>    9.439</td> <td> 0.000</td> <td>    1.015</td> <td>    1.550</td>\n",
       "</tr>\n",
       "</table>\n",
       "<table class=\"simpletable\">\n",
       "<tr>\n",
       "  <th>Omnibus:</th>       <td>61.876</td> <th>  Durbin-Watson:     </th> <td>   2.154</td> \n",
       "</tr>\n",
       "<tr>\n",
       "  <th>Prob(Omnibus):</th> <td> 0.000</td> <th>  Jarque-Bera (JB):  </th> <td> 783.117</td> \n",
       "</tr>\n",
       "<tr>\n",
       "  <th>Skew:</th>          <td> 0.516</td> <th>  Prob(JB):          </th> <td>8.88e-171</td>\n",
       "</tr>\n",
       "<tr>\n",
       "  <th>Kurtosis:</th>      <td>11.609</td> <th>  Cond. No.          </th> <td>    147.</td> \n",
       "</tr>\n",
       "</table>"
      ],
      "text/plain": [
       "<class 'statsmodels.iolib.summary.Summary'>\n",
       "\"\"\"\n",
       "                            OLS Regression Results                            \n",
       "==============================================================================\n",
       "Dep. Variable:                  AMZNr   R-squared:                       0.264\n",
       "Model:                            OLS   Adj. R-squared:                  0.261\n",
       "Method:                 Least Squares   F-statistic:                     89.09\n",
       "Date:                Wed, 15 Nov 2017   Prob (F-statistic):           2.89e-18\n",
       "Time:                        20:10:39   Log-Likelihood:                 702.44\n",
       "No. Observations:                 250   AIC:                            -1401.\n",
       "Df Residuals:                     248   BIC:                            -1394.\n",
       "Df Model:                           1                                         \n",
       "Covariance Type:            nonrobust                                         \n",
       "==============================================================================\n",
       "                 coef    std err          t      P>|t|      [0.025      0.975]\n",
       "------------------------------------------------------------------------------\n",
       "Intercept      0.0006      0.001      0.682      0.496      -0.001       0.002\n",
       "GSPCr          1.2822      0.136      9.439      0.000       1.015       1.550\n",
       "==============================================================================\n",
       "Omnibus:                       61.876   Durbin-Watson:                   2.154\n",
       "Prob(Omnibus):                  0.000   Jarque-Bera (JB):              783.117\n",
       "Skew:                           0.516   Prob(JB):                    8.88e-171\n",
       "Kurtosis:                      11.609   Cond. No.                         147.\n",
       "==============================================================================\n",
       "\n",
       "Warnings:\n",
       "[1] Standard Errors assume that the covariance matrix of the errors is correctly specified.\n",
       "\"\"\""
      ]
     },
     "execution_count": 15,
     "metadata": {},
     "output_type": "execute_result"
    }
   ],
   "source": [
    "result3 = sm.ols(formula=\"AMZNr ~ GSPCr\", data=tbl2[-250:]).fit()\n",
    "result3.summary()"
   ]
  },
  {
   "cell_type": "markdown",
   "metadata": {},
   "source": [
    "The output is the the same as the values in the last row above, meaning the calculations are correct."
   ]
  },
  {
   "cell_type": "code",
   "execution_count": 16,
   "metadata": {},
   "outputs": [
    {
     "data": {
      "text/plain": [
       "<matplotlib.axes._subplots.AxesSubplot at 0x109c85790>"
      ]
     },
     "execution_count": 16,
     "metadata": {},
     "output_type": "execute_result"
    },
    {
     "data": {
      "image/png": "[encoded data removed]",
      "text/plain": [
       "<matplotlib.figure.Figure at 0x109c85210>"
      ]
     },
     "metadata": {},
     "output_type": "display_data"
    }
   ],
   "source": [
    "tbl2[['250beta','250alpha']]['2012':].plot()"
   ]
  },
  {
   "cell_type": "code",
   "execution_count": 17,
   "metadata": {},
   "outputs": [
    {
     "data": {
      "text/plain": [
       "Text(0.5,1,u'Rolling Beta')"
      ]
     },
     "execution_count": 17,
     "metadata": {},
     "output_type": "execute_result"
    },
    {
     "data": {
      "image/png": "[encoded data removed]",
      "text/plain": [
       "<matplotlib.figure.Figure at 0x10c59d1d0>"
      ]
     },
     "metadata": {},
     "output_type": "display_data"
    }
   ],
   "source": [
    "fig, axes = plt.subplots(2,figsize=(20,10),sharex=True)\n",
    "axes[1].plot(tbl2.index,tbl2['250alpha'])\n",
    "axes[1].set_title('Rolling Alpha')\n",
    "axes[0].plot(tbl2.index,tbl2['250beta'])\n",
    "axes[0].set_title('Rolling Beta')"
   ]
  },
  {
   "cell_type": "markdown",
   "metadata": {},
   "source": [
    "The plot above is the same as the one in Figure 5.1 on page 176."
   ]
  },
  {
   "cell_type": "code",
   "execution_count": 25,
   "metadata": {},
   "outputs": [
    {
     "data": {
      "text/html": [
       "<div>\n",
       "<style scoped>\n",
       "    .dataframe tbody tr th:only-of-type {\n",
       "        vertical-align: middle;\n",
       "    }\n",
       "\n",
       "    .dataframe tbody tr th {\n",
       "        vertical-align: top;\n",
       "    }\n",
       "\n",
       "    .dataframe thead th {\n",
       "        text-align: right;\n",
       "    }\n",
       "</style>\n",
       "<table border=\"1\" class=\"dataframe\">\n",
       "  <thead>\n",
       "    <tr style=\"text-align: right;\">\n",
       "      <th></th>\n",
       "      <th>Mkt-RF</th>\n",
       "      <th>SMB</th>\n",
       "      <th>HML</th>\n",
       "      <th>RF</th>\n",
       "    </tr>\n",
       "  </thead>\n",
       "  <tbody>\n",
       "    <tr>\n",
       "      <th>2011-01-01</th>\n",
       "      <td>0.0199000</td>\n",
       "      <td>-0.0247000</td>\n",
       "      <td>0.0081000</td>\n",
       "      <td>0.0001000</td>\n",
       "    </tr>\n",
       "    <tr>\n",
       "      <th>2011-02-01</th>\n",
       "      <td>0.0349000</td>\n",
       "      <td>0.0152000</td>\n",
       "      <td>0.0109000</td>\n",
       "      <td>0.0001000</td>\n",
       "    </tr>\n",
       "    <tr>\n",
       "      <th>2011-03-01</th>\n",
       "      <td>0.0045000</td>\n",
       "      <td>0.0260000</td>\n",
       "      <td>-0.0155000</td>\n",
       "      <td>0.0001000</td>\n",
       "    </tr>\n",
       "    <tr>\n",
       "      <th>2011-04-01</th>\n",
       "      <td>0.0290000</td>\n",
       "      <td>-0.0034000</td>\n",
       "      <td>-0.0251000</td>\n",
       "      <td>0.0000000</td>\n",
       "    </tr>\n",
       "    <tr>\n",
       "      <th>2011-05-01</th>\n",
       "      <td>-0.0127000</td>\n",
       "      <td>-0.0070000</td>\n",
       "      <td>-0.0206000</td>\n",
       "      <td>0.0000000</td>\n",
       "    </tr>\n",
       "  </tbody>\n",
       "</table>\n",
       "</div>"
      ],
      "text/plain": [
       "               Mkt-RF        SMB        HML        RF\n",
       "2011-01-01  0.0199000 -0.0247000  0.0081000 0.0001000\n",
       "2011-02-01  0.0349000  0.0152000  0.0109000 0.0001000\n",
       "2011-03-01  0.0045000  0.0260000 -0.0155000 0.0001000\n",
       "2011-04-01  0.0290000 -0.0034000 -0.0251000 0.0000000\n",
       "2011-05-01 -0.0127000 -0.0070000 -0.0206000 0.0000000"
      ]
     },
     "execution_count": 25,
     "metadata": {},
     "output_type": "execute_result"
    }
   ],
   "source": [
    "dateparse = lambda x: pd.datetime.strptime(x, '%Y%m')\n",
    "ff = pd.read_csv('F-F_Research_Data_Factors.csv',index_col=0, parse_dates=True, date_parser=dateparse)['2011':'2013']\n",
    "ff = ff / 100\n",
    "ff.head()"
   ]
  },
  {
   "cell_type": "code",
   "execution_count": 35,
   "metadata": {},
   "outputs": [
    {
     "data": {
      "text/plain": [
       "2013-08-01    0.0882562\n",
       "2013-09-01    0.1088423\n",
       "2013-10-01    0.0007410\n",
       "2013-11-01    0.0710350\n",
       "2013-12-01   -0.0054514\n",
       "Freq: MS, dtype: float64"
      ]
     },
     "execution_count": 35,
     "metadata": {},
     "output_type": "execute_result"
    }
   ],
   "source": [
    "hp2 = pd.Series(np.random.uniform(-0.05, 0.15, 36), index=pd.date_range('1/1/2011', periods=36, freq='MS'))\n",
    "hp2.tail()"
   ]
  },
  {
   "cell_type": "code",
   "execution_count": 43,
   "metadata": {},
   "outputs": [
    {
     "data": {
      "text/html": [
       "<div>\n",
       "<style scoped>\n",
       "    .dataframe tbody tr th:only-of-type {\n",
       "        vertical-align: middle;\n",
       "    }\n",
       "\n",
       "    .dataframe tbody tr th {\n",
       "        vertical-align: top;\n",
       "    }\n",
       "\n",
       "    .dataframe thead th {\n",
       "        text-align: right;\n",
       "    }\n",
       "</style>\n",
       "<table border=\"1\" class=\"dataframe\">\n",
       "  <thead>\n",
       "    <tr style=\"text-align: right;\">\n",
       "      <th></th>\n",
       "      <th>Mkt_RF</th>\n",
       "      <th>SMB</th>\n",
       "      <th>HML</th>\n",
       "      <th>RF</th>\n",
       "      <th>HPr</th>\n",
       "      <th>HPr_RF</th>\n",
       "    </tr>\n",
       "  </thead>\n",
       "  <tbody>\n",
       "    <tr>\n",
       "      <th>2011-01-01</th>\n",
       "      <td>0.0199000</td>\n",
       "      <td>-0.0247000</td>\n",
       "      <td>0.0081000</td>\n",
       "      <td>0.0001000</td>\n",
       "      <td>-0.0114215</td>\n",
       "      <td>-0.0115215</td>\n",
       "    </tr>\n",
       "    <tr>\n",
       "      <th>2011-02-01</th>\n",
       "      <td>0.0349000</td>\n",
       "      <td>0.0152000</td>\n",
       "      <td>0.0109000</td>\n",
       "      <td>0.0001000</td>\n",
       "      <td>0.0101463</td>\n",
       "      <td>0.0100463</td>\n",
       "    </tr>\n",
       "    <tr>\n",
       "      <th>2011-03-01</th>\n",
       "      <td>0.0045000</td>\n",
       "      <td>0.0260000</td>\n",
       "      <td>-0.0155000</td>\n",
       "      <td>0.0001000</td>\n",
       "      <td>0.0017159</td>\n",
       "      <td>0.0016159</td>\n",
       "    </tr>\n",
       "    <tr>\n",
       "      <th>2011-04-01</th>\n",
       "      <td>0.0290000</td>\n",
       "      <td>-0.0034000</td>\n",
       "      <td>-0.0251000</td>\n",
       "      <td>0.0000000</td>\n",
       "      <td>0.0358788</td>\n",
       "      <td>0.0358788</td>\n",
       "    </tr>\n",
       "    <tr>\n",
       "      <th>2011-05-01</th>\n",
       "      <td>-0.0127000</td>\n",
       "      <td>-0.0070000</td>\n",
       "      <td>-0.0206000</td>\n",
       "      <td>0.0000000</td>\n",
       "      <td>0.1078380</td>\n",
       "      <td>0.1078380</td>\n",
       "    </tr>\n",
       "  </tbody>\n",
       "</table>\n",
       "</div>"
      ],
      "text/plain": [
       "               Mkt_RF        SMB        HML        RF        HPr     HPr_RF\n",
       "2011-01-01  0.0199000 -0.0247000  0.0081000 0.0001000 -0.0114215 -0.0115215\n",
       "2011-02-01  0.0349000  0.0152000  0.0109000 0.0001000  0.0101463  0.0100463\n",
       "2011-03-01  0.0045000  0.0260000 -0.0155000 0.0001000  0.0017159  0.0016159\n",
       "2011-04-01  0.0290000 -0.0034000 -0.0251000 0.0000000  0.0358788  0.0358788\n",
       "2011-05-01 -0.0127000 -0.0070000 -0.0206000 0.0000000  0.1078380  0.1078380"
      ]
     },
     "execution_count": 43,
     "metadata": {},
     "output_type": "execute_result"
    }
   ],
   "source": [
    "tbl3 = pd.concat([ff,hp2], axis = 1, join='outer')\n",
    "tbl3.columns = ['Mkt_RF','SMB','HML','RF','HPr']\n",
    "tbl3['HPr_RF'] = tbl3['HPr'] - tbl3['RF']\n",
    "tbl3.head()"
   ]
  },
  {
   "cell_type": "code",
   "execution_count": 44,
   "metadata": {
    "scrolled": false
   },
   "outputs": [
    {
     "data": {
      "text/html": [
       "<table class=\"simpletable\">\n",
       "<caption>OLS Regression Results</caption>\n",
       "<tr>\n",
       "  <th>Dep. Variable:</th>         <td>HPr_RF</td>      <th>  R-squared:         </th> <td>   0.175</td>\n",
       "</tr>\n",
       "<tr>\n",
       "  <th>Model:</th>                   <td>OLS</td>       <th>  Adj. R-squared:    </th> <td>   0.098</td>\n",
       "</tr>\n",
       "<tr>\n",
       "  <th>Method:</th>             <td>Least Squares</td>  <th>  F-statistic:       </th> <td>   2.261</td>\n",
       "</tr>\n",
       "<tr>\n",
       "  <th>Date:</th>             <td>Wed, 15 Nov 2017</td> <th>  Prob (F-statistic):</th>  <td> 0.100</td> \n",
       "</tr>\n",
       "<tr>\n",
       "  <th>Time:</th>                 <td>20:21:58</td>     <th>  Log-Likelihood:    </th> <td>  54.870</td>\n",
       "</tr>\n",
       "<tr>\n",
       "  <th>No. Observations:</th>      <td>    36</td>      <th>  AIC:               </th> <td>  -101.7</td>\n",
       "</tr>\n",
       "<tr>\n",
       "  <th>Df Residuals:</th>          <td>    32</td>      <th>  BIC:               </th> <td>  -95.41</td>\n",
       "</tr>\n",
       "<tr>\n",
       "  <th>Df Model:</th>              <td>     3</td>      <th>                     </th>     <td> </td>   \n",
       "</tr>\n",
       "<tr>\n",
       "  <th>Covariance Type:</th>      <td>nonrobust</td>    <th>                     </th>     <td> </td>   \n",
       "</tr>\n",
       "</table>\n",
       "<table class=\"simpletable\">\n",
       "<tr>\n",
       "      <td></td>         <th>coef</th>     <th>std err</th>      <th>t</th>      <th>P>|t|</th>  <th>[0.025</th>    <th>0.975]</th>  \n",
       "</tr>\n",
       "<tr>\n",
       "  <th>Intercept</th> <td>    0.0538</td> <td>    0.010</td> <td>    5.249</td> <td> 0.000</td> <td>    0.033</td> <td>    0.075</td>\n",
       "</tr>\n",
       "<tr>\n",
       "  <th>Mkt_RF</th>    <td>   -0.1950</td> <td>    0.323</td> <td>   -0.604</td> <td> 0.550</td> <td>   -0.852</td> <td>    0.462</td>\n",
       "</tr>\n",
       "<tr>\n",
       "  <th>SMB</th>       <td>   -0.5541</td> <td>    0.677</td> <td>   -0.819</td> <td> 0.419</td> <td>   -1.933</td> <td>    0.825</td>\n",
       "</tr>\n",
       "<tr>\n",
       "  <th>HML</th>       <td>   -1.1244</td> <td>    0.653</td> <td>   -1.722</td> <td> 0.095</td> <td>   -2.455</td> <td>    0.206</td>\n",
       "</tr>\n",
       "</table>\n",
       "<table class=\"simpletable\">\n",
       "<tr>\n",
       "  <th>Omnibus:</th>       <td> 8.380</td> <th>  Durbin-Watson:     </th> <td>   1.420</td>\n",
       "</tr>\n",
       "<tr>\n",
       "  <th>Prob(Omnibus):</th> <td> 0.015</td> <th>  Jarque-Bera (JB):  </th> <td>   2.370</td>\n",
       "</tr>\n",
       "<tr>\n",
       "  <th>Skew:</th>          <td> 0.099</td> <th>  Prob(JB):          </th> <td>   0.306</td>\n",
       "</tr>\n",
       "<tr>\n",
       "  <th>Kurtosis:</th>      <td> 1.759</td> <th>  Cond. No.          </th> <td>    77.9</td>\n",
       "</tr>\n",
       "</table>"
      ],
      "text/plain": [
       "<class 'statsmodels.iolib.summary.Summary'>\n",
       "\"\"\"\n",
       "                            OLS Regression Results                            \n",
       "==============================================================================\n",
       "Dep. Variable:                 HPr_RF   R-squared:                       0.175\n",
       "Model:                            OLS   Adj. R-squared:                  0.098\n",
       "Method:                 Least Squares   F-statistic:                     2.261\n",
       "Date:                Wed, 15 Nov 2017   Prob (F-statistic):              0.100\n",
       "Time:                        20:21:58   Log-Likelihood:                 54.870\n",
       "No. Observations:                  36   AIC:                            -101.7\n",
       "Df Residuals:                      32   BIC:                            -95.41\n",
       "Df Model:                           3                                         \n",
       "Covariance Type:            nonrobust                                         \n",
       "==============================================================================\n",
       "                 coef    std err          t      P>|t|      [0.025      0.975]\n",
       "------------------------------------------------------------------------------\n",
       "Intercept      0.0538      0.010      5.249      0.000       0.033       0.075\n",
       "Mkt_RF        -0.1950      0.323     -0.604      0.550      -0.852       0.462\n",
       "SMB           -0.5541      0.677     -0.819      0.419      -1.933       0.825\n",
       "HML           -1.1244      0.653     -1.722      0.095      -2.455       0.206\n",
       "==============================================================================\n",
       "Omnibus:                        8.380   Durbin-Watson:                   1.420\n",
       "Prob(Omnibus):                  0.015   Jarque-Bera (JB):                2.370\n",
       "Skew:                           0.099   Prob(JB):                        0.306\n",
       "Kurtosis:                       1.759   Cond. No.                         77.9\n",
       "==============================================================================\n",
       "\n",
       "Warnings:\n",
       "[1] Standard Errors assume that the covariance matrix of the errors is correctly specified.\n",
       "\"\"\""
      ]
     },
     "execution_count": 44,
     "metadata": {},
     "output_type": "execute_result"
    }
   ],
   "source": [
    "result4 = sm.ols(formula=\"HPr_RF ~ Mkt_RF + SMB + HML\", data=tbl3).fit()\n",
    "result4.summary()"
   ]
  },
  {
   "cell_type": "markdown",
   "metadata": {},
   "source": [
    "The output above is similar to the one on page 179."
   ]
  },
  {
   "cell_type": "code",
   "execution_count": 45,
   "metadata": {},
   "outputs": [
    {
     "data": {
      "text/html": [
       "<table class=\"simpletable\">\n",
       "<caption>OLS Regression Results</caption>\n",
       "<tr>\n",
       "  <th>Dep. Variable:</th>         <td>HPr_RF</td>      <th>  R-squared:         </th> <td>   0.087</td>\n",
       "</tr>\n",
       "<tr>\n",
       "  <th>Model:</th>                   <td>OLS</td>       <th>  Adj. R-squared:    </th> <td>   0.060</td>\n",
       "</tr>\n",
       "<tr>\n",
       "  <th>Method:</th>             <td>Least Squares</td>  <th>  F-statistic:       </th> <td>   3.236</td>\n",
       "</tr>\n",
       "<tr>\n",
       "  <th>Date:</th>             <td>Wed, 15 Nov 2017</td> <th>  Prob (F-statistic):</th>  <td>0.0809</td> \n",
       "</tr>\n",
       "<tr>\n",
       "  <th>Time:</th>                 <td>20:22:57</td>     <th>  Log-Likelihood:    </th> <td>  53.046</td>\n",
       "</tr>\n",
       "<tr>\n",
       "  <th>No. Observations:</th>      <td>    36</td>      <th>  AIC:               </th> <td>  -102.1</td>\n",
       "</tr>\n",
       "<tr>\n",
       "  <th>Df Residuals:</th>          <td>    34</td>      <th>  BIC:               </th> <td>  -98.92</td>\n",
       "</tr>\n",
       "<tr>\n",
       "  <th>Df Model:</th>              <td>     1</td>      <th>                     </th>     <td> </td>   \n",
       "</tr>\n",
       "<tr>\n",
       "  <th>Covariance Type:</th>      <td>nonrobust</td>    <th>                     </th>     <td> </td>   \n",
       "</tr>\n",
       "</table>\n",
       "<table class=\"simpletable\">\n",
       "<tr>\n",
       "      <td></td>         <th>coef</th>     <th>std err</th>      <th>t</th>      <th>P>|t|</th>  <th>[0.025</th>    <th>0.975]</th>  \n",
       "</tr>\n",
       "<tr>\n",
       "  <th>Intercept</th> <td>    0.0572</td> <td>    0.010</td> <td>    5.644</td> <td> 0.000</td> <td>    0.037</td> <td>    0.078</td>\n",
       "</tr>\n",
       "<tr>\n",
       "  <th>Mkt_RF</th>    <td>   -0.4728</td> <td>    0.263</td> <td>   -1.799</td> <td> 0.081</td> <td>   -1.007</td> <td>    0.061</td>\n",
       "</tr>\n",
       "</table>\n",
       "<table class=\"simpletable\">\n",
       "<tr>\n",
       "  <th>Omnibus:</th>       <td> 4.608</td> <th>  Durbin-Watson:     </th> <td>   1.267</td>\n",
       "</tr>\n",
       "<tr>\n",
       "  <th>Prob(Omnibus):</th> <td> 0.100</td> <th>  Jarque-Bera (JB):  </th> <td>   1.776</td>\n",
       "</tr>\n",
       "<tr>\n",
       "  <th>Skew:</th>          <td> 0.031</td> <th>  Prob(JB):          </th> <td>   0.411</td>\n",
       "</tr>\n",
       "<tr>\n",
       "  <th>Kurtosis:</th>      <td> 1.914</td> <th>  Cond. No.          </th> <td>    27.7</td>\n",
       "</tr>\n",
       "</table>"
      ],
      "text/plain": [
       "<class 'statsmodels.iolib.summary.Summary'>\n",
       "\"\"\"\n",
       "                            OLS Regression Results                            \n",
       "==============================================================================\n",
       "Dep. Variable:                 HPr_RF   R-squared:                       0.087\n",
       "Model:                            OLS   Adj. R-squared:                  0.060\n",
       "Method:                 Least Squares   F-statistic:                     3.236\n",
       "Date:                Wed, 15 Nov 2017   Prob (F-statistic):             0.0809\n",
       "Time:                        20:22:57   Log-Likelihood:                 53.046\n",
       "No. Observations:                  36   AIC:                            -102.1\n",
       "Df Residuals:                      34   BIC:                            -98.92\n",
       "Df Model:                           1                                         \n",
       "Covariance Type:            nonrobust                                         \n",
       "==============================================================================\n",
       "                 coef    std err          t      P>|t|      [0.025      0.975]\n",
       "------------------------------------------------------------------------------\n",
       "Intercept      0.0572      0.010      5.644      0.000       0.037       0.078\n",
       "Mkt_RF        -0.4728      0.263     -1.799      0.081      -1.007       0.061\n",
       "==============================================================================\n",
       "Omnibus:                        4.608   Durbin-Watson:                   1.267\n",
       "Prob(Omnibus):                  0.100   Jarque-Bera (JB):                1.776\n",
       "Skew:                           0.031   Prob(JB):                        0.411\n",
       "Kurtosis:                       1.914   Cond. No.                         27.7\n",
       "==============================================================================\n",
       "\n",
       "Warnings:\n",
       "[1] Standard Errors assume that the covariance matrix of the errors is correctly specified.\n",
       "\"\"\""
      ]
     },
     "execution_count": 45,
     "metadata": {},
     "output_type": "execute_result"
    }
   ],
   "source": [
    "result5 = sm.ols(formula=\"HPr_RF ~ Mkt_RF\", data=tbl3).fit()\n",
    "result5.summary()"
   ]
  },
  {
   "cell_type": "markdown",
   "metadata": {},
   "source": [
    "Again variables are not significant, most likely due to a random nature of portfolio returns being created. "
   ]
  },
  {
   "cell_type": "code",
   "execution_count": null,
   "metadata": {},
   "outputs": [],
   "source": []
  }
 ],
 "metadata": {
  "kernelspec": {
   "display_name": "Python 2",
   "language": "python",
   "name": "python2"
  },
  "language_info": {
   "codemirror_mode": {
    "name": "ipython",
    "version": 2
   },
   "file_extension": ".py",
   "mimetype": "text/x-python",
   "name": "python",
   "nbconvert_exporter": "python",
   "pygments_lexer": "ipython2",
   "version": "2.7.11"
  }
 },
 "nbformat": 4,
 "nbformat_minor": 2
}
