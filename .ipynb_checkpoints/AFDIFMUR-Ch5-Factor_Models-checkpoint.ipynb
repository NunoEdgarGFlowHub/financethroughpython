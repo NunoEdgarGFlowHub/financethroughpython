{
 "cells": [
  {
   "cell_type": "code",
   "execution_count": 1,
   "metadata": {},
   "outputs": [],
   "source": [
    "from pandas_datareader.famafrench import get_available_datasets\n",
    "import pandas_datareader.data as web\n",
    "import numpy as np\n",
    "import pandas as pd\n",
    "import datetime\n",
    "import matplotlib.pyplot as plt\n",
    "%matplotlib inline"
   ]
  },
  {
   "cell_type": "code",
   "execution_count": 2,
   "metadata": {},
   "outputs": [
    {
     "data": {
      "text/plain": [
       "2011-01-31    0.060766\n",
       "2011-02-28   -0.016815\n",
       "2011-03-31    0.101381\n",
       "2011-04-30    0.116061\n",
       "2011-05-31   -0.028962\n",
       "Freq: M, dtype: float64"
      ]
     },
     "execution_count": 2,
     "metadata": {},
     "output_type": "execute_result"
    }
   ],
   "source": [
    "hp = pd.Series(np.random.uniform(-0.05, 0.15, 36), index=pd.date_range('1/1/2011', periods=36, freq='M'))\n",
    "hp.head()"
   ]
  },
  {
   "cell_type": "code",
   "execution_count": 3,
   "metadata": {},
   "outputs": [
    {
     "data": {
      "text/html": [
       "<div>\n",
       "<style scoped>\n",
       "    .dataframe tbody tr th:only-of-type {\n",
       "        vertical-align: middle;\n",
       "    }\n",
       "\n",
       "    .dataframe tbody tr th {\n",
       "        vertical-align: top;\n",
       "    }\n",
       "\n",
       "    .dataframe thead th {\n",
       "        text-align: right;\n",
       "    }\n",
       "</style>\n",
       "<table border=\"1\" class=\"dataframe\">\n",
       "  <thead>\n",
       "    <tr style=\"text-align: right;\">\n",
       "      <th></th>\n",
       "      <th>Adj Close</th>\n",
       "    </tr>\n",
       "    <tr>\n",
       "      <th>Date</th>\n",
       "      <th></th>\n",
       "    </tr>\n",
       "  </thead>\n",
       "  <tbody>\n",
       "    <tr>\n",
       "      <th>2011-01-31</th>\n",
       "      <td>0.022646</td>\n",
       "    </tr>\n",
       "    <tr>\n",
       "      <th>2011-02-28</th>\n",
       "      <td>0.031957</td>\n",
       "    </tr>\n",
       "    <tr>\n",
       "      <th>2011-03-31</th>\n",
       "      <td>-0.001047</td>\n",
       "    </tr>\n",
       "    <tr>\n",
       "      <th>2011-04-30</th>\n",
       "      <td>0.028495</td>\n",
       "    </tr>\n",
       "    <tr>\n",
       "      <th>2011-05-31</th>\n",
       "      <td>-0.013501</td>\n",
       "    </tr>\n",
       "  </tbody>\n",
       "</table>\n",
       "</div>"
      ],
      "text/plain": [
       "            Adj Close\n",
       "Date                 \n",
       "2011-01-31   0.022646\n",
       "2011-02-28   0.031957\n",
       "2011-03-31  -0.001047\n",
       "2011-04-30   0.028495\n",
       "2011-05-31  -0.013501"
      ]
     },
     "execution_count": 3,
     "metadata": {},
     "output_type": "execute_result"
    }
   ],
   "source": [
    "start = datetime.datetime(2010, 12, 31)\n",
    "end = datetime.datetime(2013, 12, 31)\n",
    "gspc = web.DataReader(\"^GSPC\", 'yahoo', start, end)[['Adj Close']]\n",
    "gspc = gspc.resample('M').last().pct_change()[1:]\n",
    "gspc.head()"
   ]
  },
  {
   "cell_type": "code",
   "execution_count": 4,
   "metadata": {},
   "outputs": [],
   "source": [
    "from __future__ import division\n",
    "pd.options.display.float_format = '{:.7f}'.format\n",
    "us3m = web.DataReader(\"DGS3MO\", \"fred\", start, end)[1:]\n",
    "us3m = us3m.resample('M').last()\n",
    "us3m['DGS3MO'] = (1+us3m['DGS3MO']/100)**(1/12)-1"
   ]
  },
  {
   "cell_type": "code",
   "execution_count": 5,
   "metadata": {},
   "outputs": [
    {
     "data": {
      "text/html": [
       "<div>\n",
       "<style scoped>\n",
       "    .dataframe tbody tr th:only-of-type {\n",
       "        vertical-align: middle;\n",
       "    }\n",
       "\n",
       "    .dataframe tbody tr th {\n",
       "        vertical-align: top;\n",
       "    }\n",
       "\n",
       "    .dataframe thead th {\n",
       "        text-align: right;\n",
       "    }\n",
       "</style>\n",
       "<table border=\"1\" class=\"dataframe\">\n",
       "  <thead>\n",
       "    <tr style=\"text-align: right;\">\n",
       "      <th></th>\n",
       "      <th>DGS3MO</th>\n",
       "    </tr>\n",
       "    <tr>\n",
       "      <th>DATE</th>\n",
       "      <th></th>\n",
       "    </tr>\n",
       "  </thead>\n",
       "  <tbody>\n",
       "    <tr>\n",
       "      <th>2011-01-31</th>\n",
       "      <td>0.0001249</td>\n",
       "    </tr>\n",
       "    <tr>\n",
       "      <th>2011-02-28</th>\n",
       "      <td>0.0001249</td>\n",
       "    </tr>\n",
       "    <tr>\n",
       "      <th>2011-03-31</th>\n",
       "      <td>0.0000750</td>\n",
       "    </tr>\n",
       "    <tr>\n",
       "      <th>2011-04-30</th>\n",
       "      <td>0.0000333</td>\n",
       "    </tr>\n",
       "    <tr>\n",
       "      <th>2011-05-31</th>\n",
       "      <td>0.0000500</td>\n",
       "    </tr>\n",
       "  </tbody>\n",
       "</table>\n",
       "</div>"
      ],
      "text/plain": [
       "              DGS3MO\n",
       "DATE                \n",
       "2011-01-31 0.0001249\n",
       "2011-02-28 0.0001249\n",
       "2011-03-31 0.0000750\n",
       "2011-04-30 0.0000333\n",
       "2011-05-31 0.0000500"
      ]
     },
     "execution_count": 5,
     "metadata": {},
     "output_type": "execute_result"
    }
   ],
   "source": [
    "us3m.head()"
   ]
  },
  {
   "cell_type": "code",
   "execution_count": 6,
   "metadata": {},
   "outputs": [
    {
     "data": {
      "text/html": [
       "<div>\n",
       "<style scoped>\n",
       "    .dataframe tbody tr th:only-of-type {\n",
       "        vertical-align: middle;\n",
       "    }\n",
       "\n",
       "    .dataframe tbody tr th {\n",
       "        vertical-align: top;\n",
       "    }\n",
       "\n",
       "    .dataframe thead th {\n",
       "        text-align: right;\n",
       "    }\n",
       "</style>\n",
       "<table border=\"1\" class=\"dataframe\">\n",
       "  <thead>\n",
       "    <tr style=\"text-align: right;\">\n",
       "      <th></th>\n",
       "      <th>mkt_ret</th>\n",
       "      <th>rf</th>\n",
       "      <th>port_ret</th>\n",
       "    </tr>\n",
       "    <tr>\n",
       "      <th>Date</th>\n",
       "      <th></th>\n",
       "      <th></th>\n",
       "      <th></th>\n",
       "    </tr>\n",
       "  </thead>\n",
       "  <tbody>\n",
       "    <tr>\n",
       "      <th>2011-01-31</th>\n",
       "      <td>0.0226456</td>\n",
       "      <td>0.0001249</td>\n",
       "      <td>0.0607657</td>\n",
       "    </tr>\n",
       "    <tr>\n",
       "      <th>2011-02-28</th>\n",
       "      <td>0.0319566</td>\n",
       "      <td>0.0001249</td>\n",
       "      <td>-0.0168145</td>\n",
       "    </tr>\n",
       "    <tr>\n",
       "      <th>2011-03-31</th>\n",
       "      <td>-0.0010473</td>\n",
       "      <td>0.0000750</td>\n",
       "      <td>0.1013811</td>\n",
       "    </tr>\n",
       "    <tr>\n",
       "      <th>2011-04-30</th>\n",
       "      <td>0.0284954</td>\n",
       "      <td>0.0000333</td>\n",
       "      <td>0.1160607</td>\n",
       "    </tr>\n",
       "    <tr>\n",
       "      <th>2011-05-31</th>\n",
       "      <td>-0.0135010</td>\n",
       "      <td>0.0000500</td>\n",
       "      <td>-0.0289623</td>\n",
       "    </tr>\n",
       "  </tbody>\n",
       "</table>\n",
       "</div>"
      ],
      "text/plain": [
       "              mkt_ret        rf   port_ret\n",
       "Date                                      \n",
       "2011-01-31  0.0226456 0.0001249  0.0607657\n",
       "2011-02-28  0.0319566 0.0001249 -0.0168145\n",
       "2011-03-31 -0.0010473 0.0000750  0.1013811\n",
       "2011-04-30  0.0284954 0.0000333  0.1160607\n",
       "2011-05-31 -0.0135010 0.0000500 -0.0289623"
      ]
     },
     "execution_count": 6,
     "metadata": {},
     "output_type": "execute_result"
    }
   ],
   "source": [
    "tbl = pd.concat([gspc,us3m,hp], join='outer', axis = 1)\n",
    "tbl.columns = ['mkt_ret','rf','port_ret']\n",
    "tbl.head()"
   ]
  },
  {
   "cell_type": "markdown",
   "metadata": {},
   "source": [
    "The output above is similar to the one on the page 168, expecept for the hypothetical portfolio performance returns."
   ]
  },
  {
   "cell_type": "code",
   "execution_count": 7,
   "metadata": {},
   "outputs": [],
   "source": [
    "tbl['pr_rf'] = tbl['port_ret'] - tbl['rf']\n",
    "tbl['mr_rf'] = tbl['mkt_ret'] - tbl['rf']"
   ]
  },
  {
   "cell_type": "code",
   "execution_count": 8,
   "metadata": {},
   "outputs": [
    {
     "data": {
      "text/html": [
       "<div>\n",
       "<style scoped>\n",
       "    .dataframe tbody tr th:only-of-type {\n",
       "        vertical-align: middle;\n",
       "    }\n",
       "\n",
       "    .dataframe tbody tr th {\n",
       "        vertical-align: top;\n",
       "    }\n",
       "\n",
       "    .dataframe thead th {\n",
       "        text-align: right;\n",
       "    }\n",
       "</style>\n",
       "<table border=\"1\" class=\"dataframe\">\n",
       "  <thead>\n",
       "    <tr style=\"text-align: right;\">\n",
       "      <th></th>\n",
       "      <th>mkt_ret</th>\n",
       "      <th>rf</th>\n",
       "      <th>port_ret</th>\n",
       "      <th>pr_rf</th>\n",
       "      <th>mr_rf</th>\n",
       "    </tr>\n",
       "    <tr>\n",
       "      <th>Date</th>\n",
       "      <th></th>\n",
       "      <th></th>\n",
       "      <th></th>\n",
       "      <th></th>\n",
       "      <th></th>\n",
       "    </tr>\n",
       "  </thead>\n",
       "  <tbody>\n",
       "    <tr>\n",
       "      <th>2011-01-31</th>\n",
       "      <td>0.0226456</td>\n",
       "      <td>0.0001249</td>\n",
       "      <td>0.0607657</td>\n",
       "      <td>0.0606408</td>\n",
       "      <td>0.0225207</td>\n",
       "    </tr>\n",
       "    <tr>\n",
       "      <th>2011-02-28</th>\n",
       "      <td>0.0319566</td>\n",
       "      <td>0.0001249</td>\n",
       "      <td>-0.0168145</td>\n",
       "      <td>-0.0169395</td>\n",
       "      <td>0.0318316</td>\n",
       "    </tr>\n",
       "    <tr>\n",
       "      <th>2011-03-31</th>\n",
       "      <td>-0.0010473</td>\n",
       "      <td>0.0000750</td>\n",
       "      <td>0.1013811</td>\n",
       "      <td>0.1013061</td>\n",
       "      <td>-0.0011223</td>\n",
       "    </tr>\n",
       "    <tr>\n",
       "      <th>2011-04-30</th>\n",
       "      <td>0.0284954</td>\n",
       "      <td>0.0000333</td>\n",
       "      <td>0.1160607</td>\n",
       "      <td>0.1160273</td>\n",
       "      <td>0.0284621</td>\n",
       "    </tr>\n",
       "    <tr>\n",
       "      <th>2011-05-31</th>\n",
       "      <td>-0.0135010</td>\n",
       "      <td>0.0000500</td>\n",
       "      <td>-0.0289623</td>\n",
       "      <td>-0.0290123</td>\n",
       "      <td>-0.0135509</td>\n",
       "    </tr>\n",
       "  </tbody>\n",
       "</table>\n",
       "</div>"
      ],
      "text/plain": [
       "              mkt_ret        rf   port_ret      pr_rf      mr_rf\n",
       "Date                                                            \n",
       "2011-01-31  0.0226456 0.0001249  0.0607657  0.0606408  0.0225207\n",
       "2011-02-28  0.0319566 0.0001249 -0.0168145 -0.0169395  0.0318316\n",
       "2011-03-31 -0.0010473 0.0000750  0.1013811  0.1013061 -0.0011223\n",
       "2011-04-30  0.0284954 0.0000333  0.1160607  0.1160273  0.0284621\n",
       "2011-05-31 -0.0135010 0.0000500 -0.0289623 -0.0290123 -0.0135509"
      ]
     },
     "execution_count": 8,
     "metadata": {},
     "output_type": "execute_result"
    }
   ],
   "source": [
    "tbl.head()"
   ]
  },
  {
   "cell_type": "code",
   "execution_count": 9,
   "metadata": {
    "scrolled": false
   },
   "outputs": [
    {
     "data": {
      "text/html": [
       "<table class=\"simpletable\">\n",
       "<caption>OLS Regression Results</caption>\n",
       "<tr>\n",
       "  <th>Dep. Variable:</th>          <td>pr_rf</td>      <th>  R-squared:         </th> <td>   0.000</td>\n",
       "</tr>\n",
       "<tr>\n",
       "  <th>Model:</th>                   <td>OLS</td>       <th>  Adj. R-squared:    </th> <td>  -0.029</td>\n",
       "</tr>\n",
       "<tr>\n",
       "  <th>Method:</th>             <td>Least Squares</td>  <th>  F-statistic:       </th> <td> 0.01413</td>\n",
       "</tr>\n",
       "<tr>\n",
       "  <th>Date:</th>             <td>Fri, 17 Nov 2017</td> <th>  Prob (F-statistic):</th>  <td> 0.906</td> \n",
       "</tr>\n",
       "<tr>\n",
       "  <th>Time:</th>                 <td>10:10:09</td>     <th>  Log-Likelihood:    </th> <td>  58.085</td>\n",
       "</tr>\n",
       "<tr>\n",
       "  <th>No. Observations:</th>      <td>    36</td>      <th>  AIC:               </th> <td>  -112.2</td>\n",
       "</tr>\n",
       "<tr>\n",
       "  <th>Df Residuals:</th>          <td>    34</td>      <th>  BIC:               </th> <td>  -109.0</td>\n",
       "</tr>\n",
       "<tr>\n",
       "  <th>Df Model:</th>              <td>     1</td>      <th>                     </th>     <td> </td>   \n",
       "</tr>\n",
       "<tr>\n",
       "  <th>Covariance Type:</th>      <td>nonrobust</td>    <th>                     </th>     <td> </td>   \n",
       "</tr>\n",
       "</table>\n",
       "<table class=\"simpletable\">\n",
       "<tr>\n",
       "      <td></td>         <th>coef</th>     <th>std err</th>      <th>t</th>      <th>P>|t|</th>  <th>[0.025</th>    <th>0.975]</th>  \n",
       "</tr>\n",
       "<tr>\n",
       "  <th>Intercept</th> <td>    0.0416</td> <td>    0.009</td> <td>    4.780</td> <td> 0.000</td> <td>    0.024</td> <td>    0.059</td>\n",
       "</tr>\n",
       "<tr>\n",
       "  <th>mr_rf</th>     <td>   -0.0284</td> <td>    0.239</td> <td>   -0.119</td> <td> 0.906</td> <td>   -0.514</td> <td>    0.458</td>\n",
       "</tr>\n",
       "</table>\n",
       "<table class=\"simpletable\">\n",
       "<tr>\n",
       "  <th>Omnibus:</th>       <td> 8.187</td> <th>  Durbin-Watson:     </th> <td>   2.049</td>\n",
       "</tr>\n",
       "<tr>\n",
       "  <th>Prob(Omnibus):</th> <td> 0.017</td> <th>  Jarque-Bera (JB):  </th> <td>   2.437</td>\n",
       "</tr>\n",
       "<tr>\n",
       "  <th>Skew:</th>          <td>-0.167</td> <th>  Prob(JB):          </th> <td>   0.296</td>\n",
       "</tr>\n",
       "<tr>\n",
       "  <th>Kurtosis:</th>      <td> 1.770</td> <th>  Cond. No.          </th> <td>    28.9</td>\n",
       "</tr>\n",
       "</table>"
      ],
      "text/plain": [
       "<class 'statsmodels.iolib.summary.Summary'>\n",
       "\"\"\"\n",
       "                            OLS Regression Results                            \n",
       "==============================================================================\n",
       "Dep. Variable:                  pr_rf   R-squared:                       0.000\n",
       "Model:                            OLS   Adj. R-squared:                 -0.029\n",
       "Method:                 Least Squares   F-statistic:                   0.01413\n",
       "Date:                Fri, 17 Nov 2017   Prob (F-statistic):              0.906\n",
       "Time:                        10:10:09   Log-Likelihood:                 58.085\n",
       "No. Observations:                  36   AIC:                            -112.2\n",
       "Df Residuals:                      34   BIC:                            -109.0\n",
       "Df Model:                           1                                         \n",
       "Covariance Type:            nonrobust                                         \n",
       "==============================================================================\n",
       "                 coef    std err          t      P>|t|      [0.025      0.975]\n",
       "------------------------------------------------------------------------------\n",
       "Intercept      0.0416      0.009      4.780      0.000       0.024       0.059\n",
       "mr_rf         -0.0284      0.239     -0.119      0.906      -0.514       0.458\n",
       "==============================================================================\n",
       "Omnibus:                        8.187   Durbin-Watson:                   2.049\n",
       "Prob(Omnibus):                  0.017   Jarque-Bera (JB):                2.437\n",
       "Skew:                          -0.167   Prob(JB):                        0.296\n",
       "Kurtosis:                       1.770   Cond. No.                         28.9\n",
       "==============================================================================\n",
       "\n",
       "Warnings:\n",
       "[1] Standard Errors assume that the covariance matrix of the errors is correctly specified.\n",
       "\"\"\""
      ]
     },
     "execution_count": 9,
     "metadata": {},
     "output_type": "execute_result"
    }
   ],
   "source": [
    "import statsmodels.formula.api as sm\n",
    "result = sm.ols(formula=\"pr_rf ~ mr_rf\", data=tbl).fit()\n",
    "result.summary()"
   ]
  },
  {
   "cell_type": "code",
   "execution_count": 10,
   "metadata": {
    "scrolled": false
   },
   "outputs": [
    {
     "data": {
      "text/plain": [
       "[<matplotlib.lines.Line2D at 0x10caabd50>]"
      ]
     },
     "execution_count": 10,
     "metadata": {},
     "output_type": "execute_result"
    },
    {
     "data": {
      "image/png": "[encoded data removed]",
      "text/plain": [
       "<matplotlib.figure.Figure at 0x10ca3e210>"
      ]
     },
     "metadata": {},
     "output_type": "display_data"
    }
   ],
   "source": [
    "plt.scatter(tbl['mr_rf'],tbl['pr_rf'])\n",
    "plt.plot(tbl['mr_rf'], result.fittedvalues,'g')"
   ]
  },
  {
   "cell_type": "code",
   "execution_count": 11,
   "metadata": {
    "scrolled": false
   },
   "outputs": [
    {
     "data": {
      "text/html": [
       "<table class=\"simpletable\">\n",
       "<caption>OLS Regression Results</caption>\n",
       "<tr>\n",
       "  <th>Dep. Variable:</th>        <td>port_ret</td>     <th>  R-squared:         </th> <td>   0.000</td>\n",
       "</tr>\n",
       "<tr>\n",
       "  <th>Model:</th>                   <td>OLS</td>       <th>  Adj. R-squared:    </th> <td>  -0.029</td>\n",
       "</tr>\n",
       "<tr>\n",
       "  <th>Method:</th>             <td>Least Squares</td>  <th>  F-statistic:       </th> <td> 0.01421</td>\n",
       "</tr>\n",
       "<tr>\n",
       "  <th>Date:</th>             <td>Fri, 17 Nov 2017</td> <th>  Prob (F-statistic):</th>  <td> 0.906</td> \n",
       "</tr>\n",
       "<tr>\n",
       "  <th>Time:</th>                 <td>10:10:09</td>     <th>  Log-Likelihood:    </th> <td>  58.088</td>\n",
       "</tr>\n",
       "<tr>\n",
       "  <th>No. Observations:</th>      <td>    36</td>      <th>  AIC:               </th> <td>  -112.2</td>\n",
       "</tr>\n",
       "<tr>\n",
       "  <th>Df Residuals:</th>          <td>    34</td>      <th>  BIC:               </th> <td>  -109.0</td>\n",
       "</tr>\n",
       "<tr>\n",
       "  <th>Df Model:</th>              <td>     1</td>      <th>                     </th>     <td> </td>   \n",
       "</tr>\n",
       "<tr>\n",
       "  <th>Covariance Type:</th>      <td>nonrobust</td>    <th>                     </th>     <td> </td>   \n",
       "</tr>\n",
       "</table>\n",
       "<table class=\"simpletable\">\n",
       "<tr>\n",
       "      <td></td>         <th>coef</th>     <th>std err</th>      <th>t</th>      <th>P>|t|</th>  <th>[0.025</th>    <th>0.975]</th>  \n",
       "</tr>\n",
       "<tr>\n",
       "  <th>Intercept</th> <td>    0.0416</td> <td>    0.009</td> <td>    4.785</td> <td> 0.000</td> <td>    0.024</td> <td>    0.059</td>\n",
       "</tr>\n",
       "<tr>\n",
       "  <th>mkt_ret</th>   <td>   -0.0285</td> <td>    0.239</td> <td>   -0.119</td> <td> 0.906</td> <td>   -0.514</td> <td>    0.457</td>\n",
       "</tr>\n",
       "</table>\n",
       "<table class=\"simpletable\">\n",
       "<tr>\n",
       "  <th>Omnibus:</th>       <td> 8.203</td> <th>  Durbin-Watson:     </th> <td>   2.049</td>\n",
       "</tr>\n",
       "<tr>\n",
       "  <th>Prob(Omnibus):</th> <td> 0.017</td> <th>  Jarque-Bera (JB):  </th> <td>   2.439</td>\n",
       "</tr>\n",
       "<tr>\n",
       "  <th>Skew:</th>          <td>-0.167</td> <th>  Prob(JB):          </th> <td>   0.295</td>\n",
       "</tr>\n",
       "<tr>\n",
       "  <th>Kurtosis:</th>      <td> 1.769</td> <th>  Cond. No.          </th> <td>    28.9</td>\n",
       "</tr>\n",
       "</table>"
      ],
      "text/plain": [
       "<class 'statsmodels.iolib.summary.Summary'>\n",
       "\"\"\"\n",
       "                            OLS Regression Results                            \n",
       "==============================================================================\n",
       "Dep. Variable:               port_ret   R-squared:                       0.000\n",
       "Model:                            OLS   Adj. R-squared:                 -0.029\n",
       "Method:                 Least Squares   F-statistic:                   0.01421\n",
       "Date:                Fri, 17 Nov 2017   Prob (F-statistic):              0.906\n",
       "Time:                        10:10:09   Log-Likelihood:                 58.088\n",
       "No. Observations:                  36   AIC:                            -112.2\n",
       "Df Residuals:                      34   BIC:                            -109.0\n",
       "Df Model:                           1                                         \n",
       "Covariance Type:            nonrobust                                         \n",
       "==============================================================================\n",
       "                 coef    std err          t      P>|t|      [0.025      0.975]\n",
       "------------------------------------------------------------------------------\n",
       "Intercept      0.0416      0.009      4.785      0.000       0.024       0.059\n",
       "mkt_ret       -0.0285      0.239     -0.119      0.906      -0.514       0.457\n",
       "==============================================================================\n",
       "Omnibus:                        8.203   Durbin-Watson:                   2.049\n",
       "Prob(Omnibus):                  0.017   Jarque-Bera (JB):                2.439\n",
       "Skew:                          -0.167   Prob(JB):                        0.295\n",
       "Kurtosis:                       1.769   Cond. No.                         28.9\n",
       "==============================================================================\n",
       "\n",
       "Warnings:\n",
       "[1] Standard Errors assume that the covariance matrix of the errors is correctly specified.\n",
       "\"\"\""
      ]
     },
     "execution_count": 11,
     "metadata": {},
     "output_type": "execute_result"
    }
   ],
   "source": [
    "result2 = sm.ols(formula=\"port_ret ~ mkt_ret\", data=tbl).fit()\n",
    "result2.summary()"
   ]
  },
  {
   "cell_type": "code",
   "execution_count": 12,
   "metadata": {},
   "outputs": [
    {
     "data": {
      "text/plain": [
       "[<matplotlib.lines.Line2D at 0x10cb98990>]"
      ]
     },
     "execution_count": 12,
     "metadata": {},
     "output_type": "execute_result"
    },
    {
     "data": {
      "image/png": "[encoded data removed]",
      "text/plain": [
       "<matplotlib.figure.Figure at 0x10cb4e2d0>"
      ]
     },
     "metadata": {},
     "output_type": "display_data"
    }
   ],
   "source": [
    "plt.scatter(tbl['mkt_ret'],tbl['port_ret'])\n",
    "plt.plot(tbl['mkt_ret'], result2.fittedvalues,'g')"
   ]
  },
  {
   "cell_type": "code",
   "execution_count": 13,
   "metadata": {},
   "outputs": [],
   "source": [
    "start = datetime.datetime(2010, 12, 31)\n",
    "end = datetime.datetime(2013, 12, 31)\n",
    "gspc = web.DataReader(\"^GSPC\", 'yahoo', start, end)[['Adj Close']].pct_change()\n",
    "amzn = web.DataReader(\"AMZN\", 'yahoo', start, end)[['Adj Close']].pct_change()"
   ]
  },
  {
   "cell_type": "code",
   "execution_count": 14,
   "metadata": {},
   "outputs": [
    {
     "data": {
      "text/html": [
       "<div>\n",
       "<style scoped>\n",
       "    .dataframe tbody tr th:only-of-type {\n",
       "        vertical-align: middle;\n",
       "    }\n",
       "\n",
       "    .dataframe tbody tr th {\n",
       "        vertical-align: top;\n",
       "    }\n",
       "\n",
       "    .dataframe thead th {\n",
       "        text-align: right;\n",
       "    }\n",
       "</style>\n",
       "<table border=\"1\" class=\"dataframe\">\n",
       "  <thead>\n",
       "    <tr style=\"text-align: right;\">\n",
       "      <th></th>\n",
       "      <th>AMZNr</th>\n",
       "      <th>GSPCr</th>\n",
       "      <th>250beta</th>\n",
       "      <th>250alpha</th>\n",
       "    </tr>\n",
       "    <tr>\n",
       "      <th>Date</th>\n",
       "      <th></th>\n",
       "      <th></th>\n",
       "      <th></th>\n",
       "      <th></th>\n",
       "    </tr>\n",
       "  </thead>\n",
       "  <tbody>\n",
       "    <tr>\n",
       "      <th>2013-12-24</th>\n",
       "      <td>-0.0092326</td>\n",
       "      <td>0.0029157</td>\n",
       "      <td>1.2594895</td>\n",
       "      <td>0.0007193</td>\n",
       "    </tr>\n",
       "    <tr>\n",
       "      <th>2013-12-26</th>\n",
       "      <td>0.0130010</td>\n",
       "      <td>0.0047455</td>\n",
       "      <td>1.2619081</td>\n",
       "      <td>0.0007394</td>\n",
       "    </tr>\n",
       "    <tr>\n",
       "      <th>2013-12-27</th>\n",
       "      <td>-0.0156038</td>\n",
       "      <td>-0.0003366</td>\n",
       "      <td>1.2622950</td>\n",
       "      <td>0.0006710</td>\n",
       "    </tr>\n",
       "    <tr>\n",
       "      <th>2013-12-30</th>\n",
       "      <td>-0.0118318</td>\n",
       "      <td>-0.0001793</td>\n",
       "      <td>1.2783866</td>\n",
       "      <td>0.0006349</td>\n",
       "    </tr>\n",
       "    <tr>\n",
       "      <th>2013-12-31</th>\n",
       "      <td>0.0137784</td>\n",
       "      <td>0.0039597</td>\n",
       "      <td>1.2822029</td>\n",
       "      <td>0.0006373</td>\n",
       "    </tr>\n",
       "  </tbody>\n",
       "</table>\n",
       "</div>"
      ],
      "text/plain": [
       "                AMZNr      GSPCr   250beta  250alpha\n",
       "Date                                                \n",
       "2013-12-24 -0.0092326  0.0029157 1.2594895 0.0007193\n",
       "2013-12-26  0.0130010  0.0047455 1.2619081 0.0007394\n",
       "2013-12-27 -0.0156038 -0.0003366 1.2622950 0.0006710\n",
       "2013-12-30 -0.0118318 -0.0001793 1.2783866 0.0006349\n",
       "2013-12-31  0.0137784  0.0039597 1.2822029 0.0006373"
      ]
     },
     "execution_count": 14,
     "metadata": {},
     "output_type": "execute_result"
    }
   ],
   "source": [
    "tbl2 = pd.concat([amzn,gspc], axis=1, join='outer')[1:]\n",
    "tbl2.columns = ['AMZNr','GSPCr']\n",
    "tbl2['250beta'] = tbl2['GSPCr'].rolling(window=250).cov(tbl2['AMZNr'])/tbl2['GSPCr'].rolling(window=250).var()\n",
    "tbl2['250alpha'] = tbl2['AMZNr'].rolling(window=250).mean() - tbl2['250beta'] * tbl2['GSPCr'].rolling(window=250).mean()\n",
    "tbl2.tail()"
   ]
  },
  {
   "cell_type": "markdown",
   "metadata": {},
   "source": [
    "These values are very similar to the ones in outs on pages 173 to 175."
   ]
  },
  {
   "cell_type": "code",
   "execution_count": 15,
   "metadata": {},
   "outputs": [
    {
     "data": {
      "text/html": [
       "<table class=\"simpletable\">\n",
       "<caption>OLS Regression Results</caption>\n",
       "<tr>\n",
       "  <th>Dep. Variable:</th>          <td>AMZNr</td>      <th>  R-squared:         </th> <td>   0.264</td>\n",
       "</tr>\n",
       "<tr>\n",
       "  <th>Model:</th>                   <td>OLS</td>       <th>  Adj. R-squared:    </th> <td>   0.261</td>\n",
       "</tr>\n",
       "<tr>\n",
       "  <th>Method:</th>             <td>Least Squares</td>  <th>  F-statistic:       </th> <td>   89.09</td>\n",
       "</tr>\n",
       "<tr>\n",
       "  <th>Date:</th>             <td>Fri, 17 Nov 2017</td> <th>  Prob (F-statistic):</th> <td>2.89e-18</td>\n",
       "</tr>\n",
       "<tr>\n",
       "  <th>Time:</th>                 <td>10:10:13</td>     <th>  Log-Likelihood:    </th> <td>  702.44</td>\n",
       "</tr>\n",
       "<tr>\n",
       "  <th>No. Observations:</th>      <td>   250</td>      <th>  AIC:               </th> <td>  -1401.</td>\n",
       "</tr>\n",
       "<tr>\n",
       "  <th>Df Residuals:</th>          <td>   248</td>      <th>  BIC:               </th> <td>  -1394.</td>\n",
       "</tr>\n",
       "<tr>\n",
       "  <th>Df Model:</th>              <td>     1</td>      <th>                     </th>     <td> </td>   \n",
       "</tr>\n",
       "<tr>\n",
       "  <th>Covariance Type:</th>      <td>nonrobust</td>    <th>                     </th>     <td> </td>   \n",
       "</tr>\n",
       "</table>\n",
       "<table class=\"simpletable\">\n",
       "<tr>\n",
       "      <td></td>         <th>coef</th>     <th>std err</th>      <th>t</th>      <th>P>|t|</th>  <th>[0.025</th>    <th>0.975]</th>  \n",
       "</tr>\n",
       "<tr>\n",
       "  <th>Intercept</th> <td>    0.0006</td> <td>    0.001</td> <td>    0.682</td> <td> 0.496</td> <td>   -0.001</td> <td>    0.002</td>\n",
       "</tr>\n",
       "<tr>\n",
       "  <th>GSPCr</th>     <td>    1.2822</td> <td>    0.136</td> <td>    9.439</td> <td> 0.000</td> <td>    1.015</td> <td>    1.550</td>\n",
       "</tr>\n",
       "</table>\n",
       "<table class=\"simpletable\">\n",
       "<tr>\n",
       "  <th>Omnibus:</th>       <td>61.876</td> <th>  Durbin-Watson:     </th> <td>   2.154</td> \n",
       "</tr>\n",
       "<tr>\n",
       "  <th>Prob(Omnibus):</th> <td> 0.000</td> <th>  Jarque-Bera (JB):  </th> <td> 783.117</td> \n",
       "</tr>\n",
       "<tr>\n",
       "  <th>Skew:</th>          <td> 0.516</td> <th>  Prob(JB):          </th> <td>8.88e-171</td>\n",
       "</tr>\n",
       "<tr>\n",
       "  <th>Kurtosis:</th>      <td>11.609</td> <th>  Cond. No.          </th> <td>    147.</td> \n",
       "</tr>\n",
       "</table>"
      ],
      "text/plain": [
       "<class 'statsmodels.iolib.summary.Summary'>\n",
       "\"\"\"\n",
       "                            OLS Regression Results                            \n",
       "==============================================================================\n",
       "Dep. Variable:                  AMZNr   R-squared:                       0.264\n",
       "Model:                            OLS   Adj. R-squared:                  0.261\n",
       "Method:                 Least Squares   F-statistic:                     89.09\n",
       "Date:                Fri, 17 Nov 2017   Prob (F-statistic):           2.89e-18\n",
       "Time:                        10:10:13   Log-Likelihood:                 702.44\n",
       "No. Observations:                 250   AIC:                            -1401.\n",
       "Df Residuals:                     248   BIC:                            -1394.\n",
       "Df Model:                           1                                         \n",
       "Covariance Type:            nonrobust                                         \n",
       "==============================================================================\n",
       "                 coef    std err          t      P>|t|      [0.025      0.975]\n",
       "------------------------------------------------------------------------------\n",
       "Intercept      0.0006      0.001      0.682      0.496      -0.001       0.002\n",
       "GSPCr          1.2822      0.136      9.439      0.000       1.015       1.550\n",
       "==============================================================================\n",
       "Omnibus:                       61.876   Durbin-Watson:                   2.154\n",
       "Prob(Omnibus):                  0.000   Jarque-Bera (JB):              783.117\n",
       "Skew:                           0.516   Prob(JB):                    8.88e-171\n",
       "Kurtosis:                      11.609   Cond. No.                         147.\n",
       "==============================================================================\n",
       "\n",
       "Warnings:\n",
       "[1] Standard Errors assume that the covariance matrix of the errors is correctly specified.\n",
       "\"\"\""
      ]
     },
     "execution_count": 15,
     "metadata": {},
     "output_type": "execute_result"
    }
   ],
   "source": [
    "result3 = sm.ols(formula=\"AMZNr ~ GSPCr\", data=tbl2[-250:]).fit()\n",
    "result3.summary()"
   ]
  },
  {
   "cell_type": "markdown",
   "metadata": {},
   "source": [
    "The output is the the same as the values in the last row above, meaning the calculations are correct."
   ]
  },
  {
   "cell_type": "code",
   "execution_count": 16,
   "metadata": {},
   "outputs": [
    {
     "data": {
      "text/plain": [
       "<matplotlib.axes._subplots.AxesSubplot at 0x107c01c90>"
      ]
     },
     "execution_count": 16,
     "metadata": {},
     "output_type": "execute_result"
    },
    {
     "data": {
      "image/png": "[encoded data removed]",
      "text/plain": [
       "<matplotlib.figure.Figure at 0x107c01710>"
      ]
     },
     "metadata": {},
     "output_type": "display_data"
    }
   ],
   "source": [
    "tbl2[['250beta','250alpha']]['2012':].plot()"
   ]
  },
  {
   "cell_type": "code",
   "execution_count": 17,
   "metadata": {},
   "outputs": [
    {
     "data": {
      "text/plain": [
       "Text(0.5,1,u'Rolling Beta')"
      ]
     },
     "execution_count": 17,
     "metadata": {},
     "output_type": "execute_result"
    },
    {
     "data": {
      "image/png": "[encoded data removed]",
      "text/plain": [
       "<matplotlib.figure.Figure at 0x10cb09310>"
      ]
     },
     "metadata": {},
     "output_type": "display_data"
    }
   ],
   "source": [
    "fig, axes = plt.subplots(2,figsize=(20,10),sharex=True)\n",
    "axes[1].plot(tbl2.index,tbl2['250alpha'])\n",
    "axes[1].set_title('Rolling Alpha')\n",
    "axes[0].plot(tbl2.index,tbl2['250beta'])\n",
    "axes[0].set_title('Rolling Beta')"
   ]
  },
  {
   "cell_type": "markdown",
   "metadata": {},
   "source": [
    "The plot above is the same as the one in Figure 5.1 on page 176."
   ]
  },
  {
   "cell_type": "code",
   "execution_count": 18,
   "metadata": {},
   "outputs": [
    {
     "data": {
      "text/html": [
       "<div>\n",
       "<style scoped>\n",
       "    .dataframe tbody tr th:only-of-type {\n",
       "        vertical-align: middle;\n",
       "    }\n",
       "\n",
       "    .dataframe tbody tr th {\n",
       "        vertical-align: top;\n",
       "    }\n",
       "\n",
       "    .dataframe thead th {\n",
       "        text-align: right;\n",
       "    }\n",
       "</style>\n",
       "<table border=\"1\" class=\"dataframe\">\n",
       "  <thead>\n",
       "    <tr style=\"text-align: right;\">\n",
       "      <th></th>\n",
       "      <th>Mkt-RF</th>\n",
       "      <th>SMB</th>\n",
       "      <th>HML</th>\n",
       "      <th>RF</th>\n",
       "    </tr>\n",
       "  </thead>\n",
       "  <tbody>\n",
       "    <tr>\n",
       "      <th>2011-01-01</th>\n",
       "      <td>0.0199000</td>\n",
       "      <td>-0.0247000</td>\n",
       "      <td>0.0081000</td>\n",
       "      <td>0.0001000</td>\n",
       "    </tr>\n",
       "    <tr>\n",
       "      <th>2011-02-01</th>\n",
       "      <td>0.0349000</td>\n",
       "      <td>0.0152000</td>\n",
       "      <td>0.0109000</td>\n",
       "      <td>0.0001000</td>\n",
       "    </tr>\n",
       "    <tr>\n",
       "      <th>2011-03-01</th>\n",
       "      <td>0.0045000</td>\n",
       "      <td>0.0260000</td>\n",
       "      <td>-0.0155000</td>\n",
       "      <td>0.0001000</td>\n",
       "    </tr>\n",
       "    <tr>\n",
       "      <th>2011-04-01</th>\n",
       "      <td>0.0290000</td>\n",
       "      <td>-0.0034000</td>\n",
       "      <td>-0.0251000</td>\n",
       "      <td>0.0000000</td>\n",
       "    </tr>\n",
       "    <tr>\n",
       "      <th>2011-05-01</th>\n",
       "      <td>-0.0127000</td>\n",
       "      <td>-0.0070000</td>\n",
       "      <td>-0.0206000</td>\n",
       "      <td>0.0000000</td>\n",
       "    </tr>\n",
       "  </tbody>\n",
       "</table>\n",
       "</div>"
      ],
      "text/plain": [
       "               Mkt-RF        SMB        HML        RF\n",
       "2011-01-01  0.0199000 -0.0247000  0.0081000 0.0001000\n",
       "2011-02-01  0.0349000  0.0152000  0.0109000 0.0001000\n",
       "2011-03-01  0.0045000  0.0260000 -0.0155000 0.0001000\n",
       "2011-04-01  0.0290000 -0.0034000 -0.0251000 0.0000000\n",
       "2011-05-01 -0.0127000 -0.0070000 -0.0206000 0.0000000"
      ]
     },
     "execution_count": 18,
     "metadata": {},
     "output_type": "execute_result"
    }
   ],
   "source": [
    "dateparse = lambda x: pd.datetime.strptime(x, '%Y%m')\n",
    "ff = pd.read_csv('F-F_Research_Data_Factors.csv',index_col=0, parse_dates=True, date_parser=dateparse)['2011':'2013']\n",
    "ff = ff / 100\n",
    "ff.head()"
   ]
  },
  {
   "cell_type": "code",
   "execution_count": 19,
   "metadata": {},
   "outputs": [
    {
     "data": {
      "text/plain": [
       "2013-08-01    0.0466677\n",
       "2013-09-01    0.0157606\n",
       "2013-10-01    0.0979906\n",
       "2013-11-01   -0.0332337\n",
       "2013-12-01    0.1138265\n",
       "Freq: MS, dtype: float64"
      ]
     },
     "execution_count": 19,
     "metadata": {},
     "output_type": "execute_result"
    }
   ],
   "source": [
    "hp2 = pd.Series(np.random.uniform(-0.05, 0.15, 36), index=pd.date_range('1/1/2011', periods=36, freq='MS'))\n",
    "hp2.tail()"
   ]
  },
  {
   "cell_type": "code",
   "execution_count": 20,
   "metadata": {},
   "outputs": [
    {
     "data": {
      "text/html": [
       "<div>\n",
       "<style scoped>\n",
       "    .dataframe tbody tr th:only-of-type {\n",
       "        vertical-align: middle;\n",
       "    }\n",
       "\n",
       "    .dataframe tbody tr th {\n",
       "        vertical-align: top;\n",
       "    }\n",
       "\n",
       "    .dataframe thead th {\n",
       "        text-align: right;\n",
       "    }\n",
       "</style>\n",
       "<table border=\"1\" class=\"dataframe\">\n",
       "  <thead>\n",
       "    <tr style=\"text-align: right;\">\n",
       "      <th></th>\n",
       "      <th>Mkt_RF</th>\n",
       "      <th>SMB</th>\n",
       "      <th>HML</th>\n",
       "      <th>RF</th>\n",
       "      <th>HPr</th>\n",
       "      <th>HPr_RF</th>\n",
       "    </tr>\n",
       "  </thead>\n",
       "  <tbody>\n",
       "    <tr>\n",
       "      <th>2011-01-01</th>\n",
       "      <td>0.0199000</td>\n",
       "      <td>-0.0247000</td>\n",
       "      <td>0.0081000</td>\n",
       "      <td>0.0001000</td>\n",
       "      <td>0.0468847</td>\n",
       "      <td>0.0467847</td>\n",
       "    </tr>\n",
       "    <tr>\n",
       "      <th>2011-02-01</th>\n",
       "      <td>0.0349000</td>\n",
       "      <td>0.0152000</td>\n",
       "      <td>0.0109000</td>\n",
       "      <td>0.0001000</td>\n",
       "      <td>0.0827000</td>\n",
       "      <td>0.0826000</td>\n",
       "    </tr>\n",
       "    <tr>\n",
       "      <th>2011-03-01</th>\n",
       "      <td>0.0045000</td>\n",
       "      <td>0.0260000</td>\n",
       "      <td>-0.0155000</td>\n",
       "      <td>0.0001000</td>\n",
       "      <td>0.0508870</td>\n",
       "      <td>0.0507870</td>\n",
       "    </tr>\n",
       "    <tr>\n",
       "      <th>2011-04-01</th>\n",
       "      <td>0.0290000</td>\n",
       "      <td>-0.0034000</td>\n",
       "      <td>-0.0251000</td>\n",
       "      <td>0.0000000</td>\n",
       "      <td>0.0049344</td>\n",
       "      <td>0.0049344</td>\n",
       "    </tr>\n",
       "    <tr>\n",
       "      <th>2011-05-01</th>\n",
       "      <td>-0.0127000</td>\n",
       "      <td>-0.0070000</td>\n",
       "      <td>-0.0206000</td>\n",
       "      <td>0.0000000</td>\n",
       "      <td>-0.0461689</td>\n",
       "      <td>-0.0461689</td>\n",
       "    </tr>\n",
       "  </tbody>\n",
       "</table>\n",
       "</div>"
      ],
      "text/plain": [
       "               Mkt_RF        SMB        HML        RF        HPr     HPr_RF\n",
       "2011-01-01  0.0199000 -0.0247000  0.0081000 0.0001000  0.0468847  0.0467847\n",
       "2011-02-01  0.0349000  0.0152000  0.0109000 0.0001000  0.0827000  0.0826000\n",
       "2011-03-01  0.0045000  0.0260000 -0.0155000 0.0001000  0.0508870  0.0507870\n",
       "2011-04-01  0.0290000 -0.0034000 -0.0251000 0.0000000  0.0049344  0.0049344\n",
       "2011-05-01 -0.0127000 -0.0070000 -0.0206000 0.0000000 -0.0461689 -0.0461689"
      ]
     },
     "execution_count": 20,
     "metadata": {},
     "output_type": "execute_result"
    }
   ],
   "source": [
    "tbl3 = pd.concat([ff,hp2], axis = 1, join='outer')\n",
    "tbl3.columns = ['Mkt_RF','SMB','HML','RF','HPr']\n",
    "tbl3['HPr_RF'] = tbl3['HPr'] - tbl3['RF']\n",
    "tbl3.head()"
   ]
  },
  {
   "cell_type": "code",
   "execution_count": 21,
   "metadata": {
    "scrolled": false
   },
   "outputs": [
    {
     "data": {
      "text/html": [
       "<table class=\"simpletable\">\n",
       "<caption>OLS Regression Results</caption>\n",
       "<tr>\n",
       "  <th>Dep. Variable:</th>         <td>HPr_RF</td>      <th>  R-squared:         </th> <td>   0.044</td>\n",
       "</tr>\n",
       "<tr>\n",
       "  <th>Model:</th>                   <td>OLS</td>       <th>  Adj. R-squared:    </th> <td>  -0.045</td>\n",
       "</tr>\n",
       "<tr>\n",
       "  <th>Method:</th>             <td>Least Squares</td>  <th>  F-statistic:       </th> <td>  0.4966</td>\n",
       "</tr>\n",
       "<tr>\n",
       "  <th>Date:</th>             <td>Fri, 17 Nov 2017</td> <th>  Prob (F-statistic):</th>  <td> 0.687</td> \n",
       "</tr>\n",
       "<tr>\n",
       "  <th>Time:</th>                 <td>10:10:14</td>     <th>  Log-Likelihood:    </th> <td>  51.726</td>\n",
       "</tr>\n",
       "<tr>\n",
       "  <th>No. Observations:</th>      <td>    36</td>      <th>  AIC:               </th> <td>  -95.45</td>\n",
       "</tr>\n",
       "<tr>\n",
       "  <th>Df Residuals:</th>          <td>    32</td>      <th>  BIC:               </th> <td>  -89.12</td>\n",
       "</tr>\n",
       "<tr>\n",
       "  <th>Df Model:</th>              <td>     3</td>      <th>                     </th>     <td> </td>   \n",
       "</tr>\n",
       "<tr>\n",
       "  <th>Covariance Type:</th>      <td>nonrobust</td>    <th>                     </th>     <td> </td>   \n",
       "</tr>\n",
       "</table>\n",
       "<table class=\"simpletable\">\n",
       "<tr>\n",
       "      <td></td>         <th>coef</th>     <th>std err</th>      <th>t</th>      <th>P>|t|</th>  <th>[0.025</th>    <th>0.975]</th>  \n",
       "</tr>\n",
       "<tr>\n",
       "  <th>Intercept</th> <td>    0.0501</td> <td>    0.011</td> <td>    4.481</td> <td> 0.000</td> <td>    0.027</td> <td>    0.073</td>\n",
       "</tr>\n",
       "<tr>\n",
       "  <th>Mkt_RF</th>    <td>    0.1219</td> <td>    0.352</td> <td>    0.346</td> <td> 0.731</td> <td>   -0.595</td> <td>    0.839</td>\n",
       "</tr>\n",
       "<tr>\n",
       "  <th>SMB</th>       <td>   -0.8308</td> <td>    0.739</td> <td>   -1.125</td> <td> 0.269</td> <td>   -2.336</td> <td>    0.674</td>\n",
       "</tr>\n",
       "<tr>\n",
       "  <th>HML</th>       <td>    0.2338</td> <td>    0.713</td> <td>    0.328</td> <td> 0.745</td> <td>   -1.218</td> <td>    1.686</td>\n",
       "</tr>\n",
       "</table>\n",
       "<table class=\"simpletable\">\n",
       "<tr>\n",
       "  <th>Omnibus:</th>       <td> 6.590</td> <th>  Durbin-Watson:     </th> <td>   2.132</td>\n",
       "</tr>\n",
       "<tr>\n",
       "  <th>Prob(Omnibus):</th> <td> 0.037</td> <th>  Jarque-Bera (JB):  </th> <td>   2.249</td>\n",
       "</tr>\n",
       "<tr>\n",
       "  <th>Skew:</th>          <td>-0.182</td> <th>  Prob(JB):          </th> <td>   0.325</td>\n",
       "</tr>\n",
       "<tr>\n",
       "  <th>Kurtosis:</th>      <td> 1.831</td> <th>  Cond. No.          </th> <td>    77.9</td>\n",
       "</tr>\n",
       "</table>"
      ],
      "text/plain": [
       "<class 'statsmodels.iolib.summary.Summary'>\n",
       "\"\"\"\n",
       "                            OLS Regression Results                            \n",
       "==============================================================================\n",
       "Dep. Variable:                 HPr_RF   R-squared:                       0.044\n",
       "Model:                            OLS   Adj. R-squared:                 -0.045\n",
       "Method:                 Least Squares   F-statistic:                    0.4966\n",
       "Date:                Fri, 17 Nov 2017   Prob (F-statistic):              0.687\n",
       "Time:                        10:10:14   Log-Likelihood:                 51.726\n",
       "No. Observations:                  36   AIC:                            -95.45\n",
       "Df Residuals:                      32   BIC:                            -89.12\n",
       "Df Model:                           3                                         \n",
       "Covariance Type:            nonrobust                                         \n",
       "==============================================================================\n",
       "                 coef    std err          t      P>|t|      [0.025      0.975]\n",
       "------------------------------------------------------------------------------\n",
       "Intercept      0.0501      0.011      4.481      0.000       0.027       0.073\n",
       "Mkt_RF         0.1219      0.352      0.346      0.731      -0.595       0.839\n",
       "SMB           -0.8308      0.739     -1.125      0.269      -2.336       0.674\n",
       "HML            0.2338      0.713      0.328      0.745      -1.218       1.686\n",
       "==============================================================================\n",
       "Omnibus:                        6.590   Durbin-Watson:                   2.132\n",
       "Prob(Omnibus):                  0.037   Jarque-Bera (JB):                2.249\n",
       "Skew:                          -0.182   Prob(JB):                        0.325\n",
       "Kurtosis:                       1.831   Cond. No.                         77.9\n",
       "==============================================================================\n",
       "\n",
       "Warnings:\n",
       "[1] Standard Errors assume that the covariance matrix of the errors is correctly specified.\n",
       "\"\"\""
      ]
     },
     "execution_count": 21,
     "metadata": {},
     "output_type": "execute_result"
    }
   ],
   "source": [
    "result4 = sm.ols(formula=\"HPr_RF ~ Mkt_RF + SMB + HML\", data=tbl3).fit()\n",
    "result4.summary()"
   ]
  },
  {
   "cell_type": "markdown",
   "metadata": {},
   "source": [
    "The output above is similar to the one on page 179."
   ]
  },
  {
   "cell_type": "code",
   "execution_count": 22,
   "metadata": {},
   "outputs": [
    {
     "data": {
      "text/html": [
       "<table class=\"simpletable\">\n",
       "<caption>OLS Regression Results</caption>\n",
       "<tr>\n",
       "  <th>Dep. Variable:</th>         <td>HPr_RF</td>      <th>  R-squared:         </th> <td>   0.001</td>\n",
       "</tr>\n",
       "<tr>\n",
       "  <th>Model:</th>                   <td>OLS</td>       <th>  Adj. R-squared:    </th> <td>  -0.028</td>\n",
       "</tr>\n",
       "<tr>\n",
       "  <th>Method:</th>             <td>Least Squares</td>  <th>  F-statistic:       </th> <td> 0.04294</td>\n",
       "</tr>\n",
       "<tr>\n",
       "  <th>Date:</th>             <td>Fri, 17 Nov 2017</td> <th>  Prob (F-statistic):</th>  <td> 0.837</td> \n",
       "</tr>\n",
       "<tr>\n",
       "  <th>Time:</th>                 <td>10:10:14</td>     <th>  Log-Likelihood:    </th> <td>  50.930</td>\n",
       "</tr>\n",
       "<tr>\n",
       "  <th>No. Observations:</th>      <td>    36</td>      <th>  AIC:               </th> <td>  -97.86</td>\n",
       "</tr>\n",
       "<tr>\n",
       "  <th>Df Residuals:</th>          <td>    34</td>      <th>  BIC:               </th> <td>  -94.69</td>\n",
       "</tr>\n",
       "<tr>\n",
       "  <th>Df Model:</th>              <td>     1</td>      <th>                     </th>     <td> </td>   \n",
       "</tr>\n",
       "<tr>\n",
       "  <th>Covariance Type:</th>      <td>nonrobust</td>    <th>                     </th>     <td> </td>   \n",
       "</tr>\n",
       "</table>\n",
       "<table class=\"simpletable\">\n",
       "<tr>\n",
       "      <td></td>         <th>coef</th>     <th>std err</th>      <th>t</th>      <th>P>|t|</th>  <th>[0.025</th>    <th>0.975]</th>  \n",
       "</tr>\n",
       "<tr>\n",
       "  <th>Intercept</th> <td>    0.0526</td> <td>    0.011</td> <td>    4.892</td> <td> 0.000</td> <td>    0.031</td> <td>    0.074</td>\n",
       "</tr>\n",
       "<tr>\n",
       "  <th>Mkt_RF</th>    <td>   -0.0578</td> <td>    0.279</td> <td>   -0.207</td> <td> 0.837</td> <td>   -0.624</td> <td>    0.509</td>\n",
       "</tr>\n",
       "</table>\n",
       "<table class=\"simpletable\">\n",
       "<tr>\n",
       "  <th>Omnibus:</th>       <td> 8.428</td> <th>  Durbin-Watson:     </th> <td>   2.076</td>\n",
       "</tr>\n",
       "<tr>\n",
       "  <th>Prob(Omnibus):</th> <td> 0.015</td> <th>  Jarque-Bera (JB):  </th> <td>   2.368</td>\n",
       "</tr>\n",
       "<tr>\n",
       "  <th>Skew:</th>          <td>-0.091</td> <th>  Prob(JB):          </th> <td>   0.306</td>\n",
       "</tr>\n",
       "<tr>\n",
       "  <th>Kurtosis:</th>      <td> 1.757</td> <th>  Cond. No.          </th> <td>    27.7</td>\n",
       "</tr>\n",
       "</table>"
      ],
      "text/plain": [
       "<class 'statsmodels.iolib.summary.Summary'>\n",
       "\"\"\"\n",
       "                            OLS Regression Results                            \n",
       "==============================================================================\n",
       "Dep. Variable:                 HPr_RF   R-squared:                       0.001\n",
       "Model:                            OLS   Adj. R-squared:                 -0.028\n",
       "Method:                 Least Squares   F-statistic:                   0.04294\n",
       "Date:                Fri, 17 Nov 2017   Prob (F-statistic):              0.837\n",
       "Time:                        10:10:14   Log-Likelihood:                 50.930\n",
       "No. Observations:                  36   AIC:                            -97.86\n",
       "Df Residuals:                      34   BIC:                            -94.69\n",
       "Df Model:                           1                                         \n",
       "Covariance Type:            nonrobust                                         \n",
       "==============================================================================\n",
       "                 coef    std err          t      P>|t|      [0.025      0.975]\n",
       "------------------------------------------------------------------------------\n",
       "Intercept      0.0526      0.011      4.892      0.000       0.031       0.074\n",
       "Mkt_RF        -0.0578      0.279     -0.207      0.837      -0.624       0.509\n",
       "==============================================================================\n",
       "Omnibus:                        8.428   Durbin-Watson:                   2.076\n",
       "Prob(Omnibus):                  0.015   Jarque-Bera (JB):                2.368\n",
       "Skew:                          -0.091   Prob(JB):                        0.306\n",
       "Kurtosis:                       1.757   Cond. No.                         27.7\n",
       "==============================================================================\n",
       "\n",
       "Warnings:\n",
       "[1] Standard Errors assume that the covariance matrix of the errors is correctly specified.\n",
       "\"\"\""
      ]
     },
     "execution_count": 22,
     "metadata": {},
     "output_type": "execute_result"
    }
   ],
   "source": [
    "result5 = sm.ols(formula=\"HPr_RF ~ Mkt_RF\", data=tbl3).fit()\n",
    "result5.summary()"
   ]
  },
  {
   "cell_type": "markdown",
   "metadata": {},
   "source": [
    "Again variables are not significant, most likely due to a random nature of portfolio returns being created. "
   ]
  },
  {
   "cell_type": "code",
   "execution_count": 33,
   "metadata": {},
   "outputs": [
    {
     "data": {
      "text/html": [
       "<div>\n",
       "<style scoped>\n",
       "    .dataframe tbody tr th:only-of-type {\n",
       "        vertical-align: middle;\n",
       "    }\n",
       "\n",
       "    .dataframe tbody tr th {\n",
       "        vertical-align: top;\n",
       "    }\n",
       "\n",
       "    .dataframe thead th {\n",
       "        text-align: right;\n",
       "    }\n",
       "</style>\n",
       "<table border=\"1\" class=\"dataframe\">\n",
       "  <thead>\n",
       "    <tr style=\"text-align: right;\">\n",
       "      <th></th>\n",
       "      <th>NFLX</th>\n",
       "      <th>GSPC</th>\n",
       "    </tr>\n",
       "    <tr>\n",
       "      <th>Date</th>\n",
       "      <th></th>\n",
       "      <th></th>\n",
       "    </tr>\n",
       "  </thead>\n",
       "  <tbody>\n",
       "    <tr>\n",
       "      <th>2012-07-20</th>\n",
       "      <td>-1.5640098</td>\n",
       "      <td>-1.0061660</td>\n",
       "    </tr>\n",
       "    <tr>\n",
       "      <th>2012-07-23</th>\n",
       "      <td>-2.2977231</td>\n",
       "      <td>-0.8909056</td>\n",
       "    </tr>\n",
       "    <tr>\n",
       "      <th>2012-07-24</th>\n",
       "      <td>0.5629159</td>\n",
       "      <td>-0.9040933</td>\n",
       "    </tr>\n",
       "    <tr>\n",
       "      <th>2012-07-25</th>\n",
       "      <td>-25.0155495</td>\n",
       "      <td>-0.0313861</td>\n",
       "    </tr>\n",
       "    <tr>\n",
       "      <th>2012-07-26</th>\n",
       "      <td>-5.4246752</td>\n",
       "      <td>1.6540975</td>\n",
       "    </tr>\n",
       "  </tbody>\n",
       "</table>\n",
       "</div>"
      ],
      "text/plain": [
       "                  NFLX       GSPC\n",
       "Date                             \n",
       "2012-07-20  -1.5640098 -1.0061660\n",
       "2012-07-23  -2.2977231 -0.8909056\n",
       "2012-07-24   0.5629159 -0.9040933\n",
       "2012-07-25 -25.0155495 -0.0313861\n",
       "2012-07-26  -5.4246752  1.6540975"
      ]
     },
     "execution_count": 33,
     "metadata": {},
     "output_type": "execute_result"
    }
   ],
   "source": [
    "# nflx= web.DataReader(\"NFLX\", 'yahoo', start, end)[['Adj Close']].pct_change()['2012-07-20':'2013-07-23']\n",
    "# nflx.columns=['Returns']\n",
    "# nflx.tail()\n",
    "\n",
    "nflx= web.DataReader(\"NFLX\", 'yahoo', start, end)[['Adj Close']].pct_change()['2012-07-20':'2013-07-23']*100\n",
    "gspc_nflx = web.DataReader(\"^GSPC\", 'yahoo', start, end)[['Adj Close']].pct_change()['2012-07-20':'2013-07-23']*100\n",
    "tbl4 = pd.concat([nflx,gspc_nflx], axis = 1, join='outer')\n",
    "tbl4.columns=['NFLX','GSPC']\n",
    "tbl4.head()"
   ]
  },
  {
   "cell_type": "markdown",
   "metadata": {},
   "source": [
    "The output is similar to the one on page 185."
   ]
  },
  {
   "cell_type": "code",
   "execution_count": 34,
   "metadata": {},
   "outputs": [
    {
     "data": {
      "text/html": [
       "<table class=\"simpletable\">\n",
       "<caption>OLS Regression Results</caption>\n",
       "<tr>\n",
       "  <th>Dep. Variable:</th>          <td>NFLX</td>       <th>  R-squared:         </th> <td>   0.026</td>\n",
       "</tr>\n",
       "<tr>\n",
       "  <th>Model:</th>                   <td>OLS</td>       <th>  Adj. R-squared:    </th> <td>   0.022</td>\n",
       "</tr>\n",
       "<tr>\n",
       "  <th>Method:</th>             <td>Least Squares</td>  <th>  F-statistic:       </th> <td>   6.685</td>\n",
       "</tr>\n",
       "<tr>\n",
       "  <th>Date:</th>             <td>Fri, 17 Nov 2017</td> <th>  Prob (F-statistic):</th>  <td>0.0103</td> \n",
       "</tr>\n",
       "<tr>\n",
       "  <th>Time:</th>                 <td>10:20:16</td>     <th>  Log-Likelihood:    </th> <td> -751.22</td>\n",
       "</tr>\n",
       "<tr>\n",
       "  <th>No. Observations:</th>      <td>   252</td>      <th>  AIC:               </th> <td>   1506.</td>\n",
       "</tr>\n",
       "<tr>\n",
       "  <th>Df Residuals:</th>          <td>   250</td>      <th>  BIC:               </th> <td>   1514.</td>\n",
       "</tr>\n",
       "<tr>\n",
       "  <th>Df Model:</th>              <td>     1</td>      <th>                     </th>     <td> </td>   \n",
       "</tr>\n",
       "<tr>\n",
       "  <th>Covariance Type:</th>      <td>nonrobust</td>    <th>                     </th>     <td> </td>   \n",
       "</tr>\n",
       "</table>\n",
       "<table class=\"simpletable\">\n",
       "<tr>\n",
       "      <td></td>         <th>coef</th>     <th>std err</th>      <th>t</th>      <th>P>|t|</th>  <th>[0.025</th>    <th>0.975]</th>  \n",
       "</tr>\n",
       "<tr>\n",
       "  <th>Intercept</th> <td>    0.4600</td> <td>    0.304</td> <td>    1.516</td> <td> 0.131</td> <td>   -0.138</td> <td>    1.058</td>\n",
       "</tr>\n",
       "<tr>\n",
       "  <th>GSPC</th>      <td>    1.0308</td> <td>    0.399</td> <td>    2.585</td> <td> 0.010</td> <td>    0.246</td> <td>    1.816</td>\n",
       "</tr>\n",
       "</table>\n",
       "<table class=\"simpletable\">\n",
       "<tr>\n",
       "  <th>Omnibus:</th>       <td>207.136</td> <th>  Durbin-Watson:     </th> <td>   1.708</td>\n",
       "</tr>\n",
       "<tr>\n",
       "  <th>Prob(Omnibus):</th> <td> 0.000</td>  <th>  Jarque-Bera (JB):  </th> <td>8212.299</td>\n",
       "</tr>\n",
       "<tr>\n",
       "  <th>Skew:</th>          <td> 2.811</td>  <th>  Prob(JB):          </th> <td>    0.00</td>\n",
       "</tr>\n",
       "<tr>\n",
       "  <th>Kurtosis:</th>      <td>30.396</td>  <th>  Cond. No.          </th> <td>    1.34</td>\n",
       "</tr>\n",
       "</table>"
      ],
      "text/plain": [
       "<class 'statsmodels.iolib.summary.Summary'>\n",
       "\"\"\"\n",
       "                            OLS Regression Results                            \n",
       "==============================================================================\n",
       "Dep. Variable:                   NFLX   R-squared:                       0.026\n",
       "Model:                            OLS   Adj. R-squared:                  0.022\n",
       "Method:                 Least Squares   F-statistic:                     6.685\n",
       "Date:                Fri, 17 Nov 2017   Prob (F-statistic):             0.0103\n",
       "Time:                        10:20:16   Log-Likelihood:                -751.22\n",
       "No. Observations:                 252   AIC:                             1506.\n",
       "Df Residuals:                     250   BIC:                             1514.\n",
       "Df Model:                           1                                         \n",
       "Covariance Type:            nonrobust                                         \n",
       "==============================================================================\n",
       "                 coef    std err          t      P>|t|      [0.025      0.975]\n",
       "------------------------------------------------------------------------------\n",
       "Intercept      0.4600      0.304      1.516      0.131      -0.138       1.058\n",
       "GSPC           1.0308      0.399      2.585      0.010       0.246       1.816\n",
       "==============================================================================\n",
       "Omnibus:                      207.136   Durbin-Watson:                   1.708\n",
       "Prob(Omnibus):                  0.000   Jarque-Bera (JB):             8212.299\n",
       "Skew:                           2.811   Prob(JB):                         0.00\n",
       "Kurtosis:                      30.396   Cond. No.                         1.34\n",
       "==============================================================================\n",
       "\n",
       "Warnings:\n",
       "[1] Standard Errors assume that the covariance matrix of the errors is correctly specified.\n",
       "\"\"\""
      ]
     },
     "execution_count": 34,
     "metadata": {},
     "output_type": "execute_result"
    }
   ],
   "source": [
    "result6 = sm.ols(formula=\"NFLX ~ GSPC\", data=tbl4).fit()\n",
    "result6.summary()"
   ]
  },
  {
   "cell_type": "markdown",
   "metadata": {},
   "source": [
    "<div style='color:red'>Unable to follow calculations on page 187.</div>"
   ]
  },
  {
   "cell_type": "code",
   "execution_count": 38,
   "metadata": {
    "scrolled": true
   },
   "outputs": [
    {
     "data": {
      "text/plain": [
       "<matplotlib.axes._subplots.AxesSubplot at 0x10e7c5250>"
      ]
     },
     "execution_count": 38,
     "metadata": {},
     "output_type": "execute_result"
    },
    {
     "data": {
      "image/png": "[encoded data removed]",
      "text/plain": [
       "<matplotlib.figure.Figure at 0x10e7cf6d0>"
      ]
     },
     "metadata": {},
     "output_type": "display_data"
    }
   ],
   "source": [
    "web.DataReader(\"NFLX\", 'yahoo', start, end)[['Adj Close']]['2012-07-20':'2013-07-23'].plot(figsize=(20,10))"
   ]
  },
  {
   "cell_type": "markdown",
   "metadata": {},
   "source": [
    "The chart above is similar to the one on page 188."
   ]
  },
  {
   "cell_type": "markdown",
   "metadata": {},
   "source": [
    "<div style='color:red'>Unable to follow calculations on page 188-9.</div>"
   ]
  },
  {
   "cell_type": "code",
   "execution_count": null,
   "metadata": {},
   "outputs": [],
   "source": []
  }
 ],
 "metadata": {
  "kernelspec": {
   "display_name": "Python 2",
   "language": "python",
   "name": "python2"
  },
  "language_info": {
   "codemirror_mode": {
    "name": "ipython",
    "version": 2
   },
   "file_extension": ".py",
   "mimetype": "text/x-python",
   "name": "python",
   "nbconvert_exporter": "python",
   "pygments_lexer": "ipython2",
   "version": "2.7.11"
  }
 },
 "nbformat": 4,
 "nbformat_minor": 2
}
