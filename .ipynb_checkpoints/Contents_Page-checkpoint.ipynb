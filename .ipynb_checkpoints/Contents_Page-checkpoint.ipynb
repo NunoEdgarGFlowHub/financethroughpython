{
 "cells": [
  {
   "cell_type": "markdown",
   "metadata": {},
   "source": [
    "## Contents Page"
   ]
  },
  {
   "cell_type": "markdown",
   "metadata": {},
   "source": [
    "### Short Introduction"
   ]
  },
  {
   "cell_type": "markdown",
   "metadata": {},
   "source": [
    "The long term vision of this project is to create freely available interactive examples of Python's application within Finance. This allows to practical examples to be incorporated at the same time as the financial theory."
   ]
  },
  {
   "cell_type": "markdown",
   "metadata": {},
   "source": [
    "Current List of Posts\n",
    "<ol>\n",
    "  <li><a href='https://nbviewer.jupyter.org/github/drastorguev/financethroughpython/blob/master/Time_Value_of_Money.ipynb'>Time Value of Money</a></li>\n",
    "  <li><a href='https://nbviewer.jupyter.org/github/drastorguev/financethroughpython/blob/master/Economic_Data_Analysis.ipynb'>Economic Data Analysis</a></li>\n",
    "  <li><a href='https://nbviewer.jupyter.org/github/drastorguev/financethroughpython/blob/master/Leading_Economic_Indicators.ipynb'>Leading Economic Indicators</a></li>\n",
    "  <li><a href='https://nbviewer.jupyter.org/github/drastorguev/financethroughpython/blob/master/Credit_Spreads.ipynb'>Credit Spreads in USA</a></li>\n",
    "  <li><a href='https://nbviewer.jupyter.org/github/drastorguev/financethroughpython/blob/master/Correlations_in_FTSE_100_and_Changes_in_GBP.ipynb'>Correlations in FTSE 100 and Changes in GBP</a></li>\n",
    "  <li><a href='https://nbviewer.jupyter.org/github/drastorguev/financethroughpython/blob/master/FTSE100_Oil_Majors_and_Chemicals_vs_Oil_Price.ipynb'>FTSE100 Oil Majors and Chemicals vs Oil Price</a></li>\n",
    "   <li>S&P500 Oil Majors vs Oil Price</li>\n",
    "  <li><a href='https://nbviewer.jupyter.org/github/drastorguev/financethroughpython/blob/master/Housing_Market_and_Shares_Analytics.ipynb'>Housing Market and Shares Analytics</a></li>\n",
    "  <li><a href='https://nbviewer.jupyter.org/github/drastorguev/financethroughpython/blob/master/UK_Economic_Strength_Indicators_and_Levels_of_Migration_to_UK.ipynb'>UK Economic Strength Indicators and Levels of Migration to UK</a></li>\n",
    "  <li>Google Trends/Keywards searches for redundancy/arrears</li>\n",
    "  <li>More to come....</li>\n",
    "</ol>\n",
    "\n",
    "\n",
    "\n",
    "\n",
    "\n",
    "*Split this list into various catergories"
   ]
  }
 ],
 "metadata": {
  "kernelspec": {
   "display_name": "Python 2",
   "language": "python",
   "name": "python2"
  },
  "language_info": {
   "codemirror_mode": {
    "name": "ipython",
    "version": 2
   },
   "file_extension": ".py",
   "mimetype": "text/x-python",
   "name": "python",
   "nbconvert_exporter": "python",
   "pygments_lexer": "ipython2",
   "version": "2.7.11"
  }
 },
 "nbformat": 4,
 "nbformat_minor": 2
}
