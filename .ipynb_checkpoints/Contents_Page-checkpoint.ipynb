{
 "cells": [
  {
   "cell_type": "markdown",
   "metadata": {},
   "source": [
    "## Contents Page"
   ]
  },
  {
   "cell_type": "markdown",
   "metadata": {},
   "source": [
    "### Short Introduction"
   ]
  },
  {
   "cell_type": "markdown",
   "metadata": {},
   "source": [
    "The long term vision of this project is to create freely available interactive examples of Python's application within Finance. This allows practical examples to be incorporated at the same time as the financial theory. Along the way I will also investigate my own ideas and theories."
   ]
  },
  {
   "cell_type": "markdown",
   "metadata": {},
   "source": [
    "Current List of Posts\n",
    "<ol>\n",
    "  <li><a href='https://nbviewer.jupyter.org/github/drastorguev/financethroughpython/blob/master/Time_Value_of_Money.ipynb'>Time Value of Money</a></li>\n",
    "  <li><a href='https://nbviewer.jupyter.org/github/drastorguev/financethroughpython/blob/master/Economic_Data_Analysis.ipynb'>Economic Data Analysis</a></li>\n",
    "  <li><a href='https://nbviewer.jupyter.org/github/drastorguev/financethroughpython/blob/master/Leading_Economic_Indicators.ipynb'>Leading Economic Indicators</a></li>\n",
    "  <li><a href='https://nbviewer.jupyter.org/github/drastorguev/financethroughpython/blob/master/Credit_Spreads.ipynb'>Credit Spreads in USA</a></li>\n",
    "    <li><a href='https://nbviewer.jupyter.org/github/drastorguev/financethroughpython/blob/master/Historic_Volatilities.ipynb'>Historic Volatilities</a></li>\n",
    "  <li><a href='https://nbviewer.jupyter.org/github/drastorguev/financethroughpython/blob/master/Correlations_in_FTSE_100_and_Changes_in_GBP.ipynb'>Correlations in FTSE 100 and Changes in GBP</a></li>\n",
    "  <li><a href='https://nbviewer.jupyter.org/github/drastorguev/financethroughpython/blob/master/FTSE100_Oil_Majors_and_Chemicals_vs_Oil_Price.ipynb'>FTSE100 Oil Majors and Chemicals vs Oil Price</a></li>\n",
    "   <li>S&P500 Oil Majors vs Oil Price</li>\n",
    "  <li><a href='https://nbviewer.jupyter.org/github/drastorguev/financethroughpython/blob/master/Housing_Market_and_Shares_Analytics.ipynb'>Housing Market and Shares Analytics</a></li>\n",
    "  <li><a href='https://nbviewer.jupyter.org/github/drastorguev/financethroughpython/blob/master/UK_Economic_Strength_Indicators_and_Levels_of_Migration_to_UK.ipynb'>UK Economic Strength Indicators and Levels of Migration to UK</a></li>\n",
    "  <li>Google Trends/Keywards searches for redundancy/arrears</li>\n",
    "  <li>More to come....</li>\n",
    "</ol>\n",
    "\n",
    "*Split this list into various catergories"
   ]
  },
  {
   "cell_type": "markdown",
   "metadata": {},
   "source": [
    "<i>In addition I am currently working my way through various books on financial data written for R. I am rewriting the code in R using Python.</i>\n",
    "<br><br><b>\"Analyzing Financial Data and Implementing Financial Models Using R\" by Clifford Ang</b>\n",
    "<ol>\n",
    "  <li><a href='https://nbviewer.jupyter.org/github/drastorguev/financethroughpython/blob/master/AFDIFMUR-Ch1-Prices.ipynb'>Chapter 1 - Prices</a></li>\n",
    "  <li><a href='https://nbviewer.jupyter.org/github/drastorguev/financethroughpython/blob/master/AFDIFMUR-Ch2-Individual_Security_Returns.ipynb'>Chapter 2 - Individual Security Returns</a></li>\n",
    "  <li><a href='https://nbviewer.jupyter.org/github/drastorguev/financethroughpython/blob/master/AFDIFMUR-Ch3-Portfolio_Returns.ipynb'>Chapter 3 - Portfolio Returns</a></li>\n",
    "  <li><a href='https://nbviewer.jupyter.org/github/drastorguev/financethroughpython/blob/master/AFDIFMUR-Ch4-Risk.ipynb'>Chapter 4 - Risk</a></li>\n",
    "  <li><a href='https://nbviewer.jupyter.org/github/drastorguev/financethroughpython/blob/master/AFDIFMUR-Ch5-Factor_Models.ipynb'>Chapter 5 - Factor Models</a></li>\n",
    "   <li><a href='https://nbviewer.jupyter.org/github/drastorguev/financethroughpython/blob/master/AFDIFMUR-Ch6-Risk-Adjusted_Portfolio_Performance_Measures.ipynb'>Chapter 6 - Risk-Adjusted Portfolio Performance Measures</a></li>\n",
    "   <li>Chapter 7 - Markowitz Mean-Variance Optimization</li>\n",
    "   <li>Chapter 8 - Fixed Income</li>\n",
    "   <li>Chapter 9 - Options</li>\n",
    "</ol>"
   ]
  },
  {
   "cell_type": "code",
   "execution_count": null,
   "metadata": {},
   "outputs": [],
   "source": []
  }
 ],
 "metadata": {
  "kernelspec": {
   "display_name": "Python 2",
   "language": "python",
   "name": "python2"
  },
  "language_info": {
   "codemirror_mode": {
    "name": "ipython",
    "version": 2
   },
   "file_extension": ".py",
   "mimetype": "text/x-python",
   "name": "python",
   "nbconvert_exporter": "python",
   "pygments_lexer": "ipython2",
   "version": "2.7.11"
  }
 },
 "nbformat": 4,
 "nbformat_minor": 2
}
