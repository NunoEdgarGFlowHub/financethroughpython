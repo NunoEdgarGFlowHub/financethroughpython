{
 "cells": [
  {
   "cell_type": "markdown",
   "metadata": {},
   "source": [
    "## Contents Page"
   ]
  },
  {
   "cell_type": "markdown",
   "metadata": {},
   "source": [
    "### Short Introduction"
   ]
  },
  {
   "cell_type": "markdown",
   "metadata": {},
   "source": [
    "The long term vision of this project is to create freely available interactive examples of Python's application within Finance. This allows to practical examples to be incorporated at the same time as the financial theory."
   ]
  },
  {
   "cell_type": "markdown",
   "metadata": {},
   "source": [
    "Current List of Posts\n",
    "<ol>\n",
    "  <li><a href='https://nbviewer.jupyter.org/github/drastorguev/financethroughpython/blob/master/Time_Value_of_Money.ipynb'>Time Value of Money</a></li>\n",
    "  <li><a href='https://nbviewer.jupyter.org/github/drastorguev/financethroughpython/blob/master/Economic_Data_Analysis.ipynb'>Economic Data Analysis</a></li>\n",
    "  <li><a href='https://nbviewer.jupyter.org/github/drastorguev/financethroughpython/blob/master/Credit_Spreads.ipynb'>Credit Spreads in USA</a></li>\n",
    "  <li><a href='https://nbviewer.jupyter.org/github/drastorguev/financethroughpython/blob/master/Housing_Market_and_Shares_Analytics.ipynb'>Housing Market and Shares Analytics</a></li>\n",
    "    <li>More to come....</li>\n",
    "</ol>\n",
    "\n",
    "*Split this list into various catergories"
   ]
  },
  {
   "cell_type": "code",
   "execution_count": null,
   "metadata": {},
   "outputs": [],
   "source": []
  }
 ],
 "metadata": {
  "kernelspec": {
   "display_name": "Python 2",
   "language": "python",
   "name": "python2"
  },
  "language_info": {
   "codemirror_mode": {
    "name": "ipython",
    "version": 2
   },
   "file_extension": ".py",
   "mimetype": "text/x-python",
   "name": "python",
   "nbconvert_exporter": "python",
   "pygments_lexer": "ipython2",
   "version": "2.7.11"
  }
 },
 "nbformat": 4,
 "nbformat_minor": 2
}
